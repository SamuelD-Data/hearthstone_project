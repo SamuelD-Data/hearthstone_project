{
 "cells": [
  {
   "cell_type": "markdown",
   "metadata": {},
   "source": [
    "# Hearthstone Project\n",
    "***\n",
    "***"
   ]
  },
  {
   "cell_type": "markdown",
   "metadata": {},
   "source": [
    "# Goals\n",
    "- Explore the data to gather insights about the characteristics of the game's different class types"
   ]
  },
  {
   "cell_type": "markdown",
   "metadata": {},
   "source": [
    "# Purpose\n",
    "- Practice visualizing data using a variety of different plot types and configurations"
   ]
  },
  {
   "cell_type": "markdown",
   "metadata": {},
   "source": [
    "# Setup\n",
    "***"
   ]
  },
  {
   "cell_type": "code",
   "execution_count": null,
   "metadata": {
    "scrolled": true
   },
   "outputs": [],
   "source": [
    "# establishing environment\n",
    "import pandas as pd\n",
    "import numpy as np\n",
    "import matplotlib.pyplot as plt\n",
    "import matplotlib.patches as mpatches\n",
    "import seaborn as sns\n",
    "\n",
    "from acquire import get_hearth\n",
    "from prepare import prep_hearth\n",
    "\n",
    "import warnings\n",
    "warnings.filterwarnings(\"ignore\")"
   ]
  },
  {
   "cell_type": "markdown",
   "metadata": {},
   "source": [
    "# Acquire\n",
    "Acquiring data from local csv files\n",
    "***"
   ]
  },
  {
   "cell_type": "code",
   "execution_count": null,
   "metadata": {},
   "outputs": [],
   "source": [
    "# reading in card data and saving as DF\n",
    "cards = pd.read_csv('hearthstone_standard_cards.csv')\n",
    "\n",
    "# reading in card classes and saving as DF\n",
    "classes = pd.read_csv('classes.csv')\n",
    "\n",
    "# reading in minion types data and saving as DF\n",
    "mtypes = pd.read_csv('minionTypes.csv')\n",
    "\n",
    "# reading in types data and saving as DF\n",
    "ctypes = pd.read_csv('types.csv')\n",
    "\n",
    "# reading in keywords data and saving as DF\n",
    "keywords = pd.read_csv('keywords.csv')"
   ]
  },
  {
   "cell_type": "markdown",
   "metadata": {},
   "source": [
    "- Data acquired from local csv files\n",
    "- Alternatively, the __get_hearth__ function from the __acquire.py__ file can be run to acquire the data\n",
    "    - The DFs will be returned in the following order by the function: cards, classes, mtypes, ctypes, keywords"
   ]
  },
  {
   "cell_type": "markdown",
   "metadata": {},
   "source": [
    "# Prepare\n",
    "Preparing data for exploration\n",
    "\n",
    "\n",
    "__IMPORTANT NOTE: Some preparations to the data will be done solely for the purpose of practicing preparation techniques and will not be relevant to the exploration phase.__\n",
    "***"
   ]
  },
  {
   "cell_type": "markdown",
   "metadata": {},
   "source": [
    "## Preparing DataFrames for Merge"
   ]
  },
  {
   "cell_type": "markdown",
   "metadata": {},
   "source": [
    "### Lowercasing column names and values\n",
    "### Dropping unneeded columns and changing various column names"
   ]
  },
  {
   "cell_type": "code",
   "execution_count": null,
   "metadata": {},
   "outputs": [],
   "source": [
    "# lowercasing cards DF columns\n",
    "cards.columns = cards.columns.str.lower()\n",
    "\n",
    "# lowercasing name and text column values\n",
    "cards.text = cards.text.str.lower()\n",
    "cards.name = cards.name.str.lower()\n",
    "\n",
    "# creating list of all DFs besides cards\n",
    "df_list = [classes, mtypes, ctypes, keywords]\n",
    "\n",
    "# iterating through DFs\n",
    "# lowercasing all column names, dropping original name column, renaming slug to name column\n",
    "for dtafrm in df_list:\n",
    "        dtafrm.columns = dtafrm.columns.str.lower()\n",
    "        dtafrm.drop(columns = 'name', inplace = True)\n",
    "        dtafrm.rename(columns = {\"slug\": \"name\"}, inplace = True)       "
   ]
  },
  {
   "cell_type": "markdown",
   "metadata": {},
   "source": [
    "## Merging DataFrames"
   ]
  },
  {
   "cell_type": "markdown",
   "metadata": {},
   "source": [
    "### Merging 'classes' DF"
   ]
  },
  {
   "cell_type": "code",
   "execution_count": null,
   "metadata": {},
   "outputs": [],
   "source": [
    "# removing brackets and commas from multiclassids column\n",
    "cards.multiclassids = cards.multiclassids.str.replace('\\]|,|\\[' , '')\n",
    "\n",
    "# creating column to hold primary class id \n",
    "# if card is of one class, this will reflect its sole class\n",
    "# if card is dual, this will reflect the 1st of the two classes in the multiClassIds column\n",
    "# necessary since dual class cards erroneously hold the 'neutral' class value in their primary class id \n",
    "cards['primeclassid'] = np.where((cards.multiclassids.str.contains(' ')), cards[\"multiclassids\"].str.split(\" \", expand = True)[0], cards.classid)\n",
    "\n",
    "# converting key columns to make all value data types match\n",
    "cards.primeclassid = cards.primeclassid.astype(str)\n",
    "classes.id = classes.id.astype(str)\n",
    "\n",
    "# merging 'classes' df with card df\n",
    "df = pd.merge(cards, classes[['id', 'name']], \n",
    "              left_on = 'primeclassid', right_on = 'id', how=\"left\", \n",
    "              suffixes = (None, '_prime_hero_class'))\n",
    "\n",
    "# dropping columns I no longer need\n",
    "df.drop(columns = ['primeclassid', 'classid', 'duels'], inplace = True)"
   ]
  },
  {
   "cell_type": "markdown",
   "metadata": {},
   "source": [
    "### Merging 'mtypes' DF"
   ]
  },
  {
   "cell_type": "code",
   "execution_count": null,
   "metadata": {
    "scrolled": true
   },
   "outputs": [],
   "source": [
    "# changing null values of minionTypeId for neutral minions to -1\n",
    "df['miniontypeid'] = np.where((df.miniontypeid.isnull() == True) & (df.cardtypeid == 4), -1, df.miniontypeid)\n",
    "\n",
    "# adding missing keyword data to 'keywords' df\n",
    "# -1 is for minions with no tribe\n",
    "mtypes.loc[len(mtypes.index)] = ['no_tribe', -1]\n",
    "\n",
    "# merging 'mtypes' df\n",
    "df = pd.merge(df, mtypes[['id', 'name']], \n",
    "              left_on = 'miniontypeid', right_on = 'id', how=\"left\", \n",
    "              suffixes = (None, '_minion_type'))\n",
    "\n",
    "# dropping column I no longer need\n",
    "df.drop(columns = ['miniontypeid'], inplace = True)"
   ]
  },
  {
   "cell_type": "markdown",
   "metadata": {},
   "source": [
    "### Merging 'ctypes' DF"
   ]
  },
  {
   "cell_type": "code",
   "execution_count": null,
   "metadata": {},
   "outputs": [],
   "source": [
    "# merging 'ctypes' df\n",
    "df = pd.merge(df, ctypes[['id', 'name']], \n",
    "              left_on = 'cardtypeid', right_on = 'id', how=\"left\", \n",
    "              suffixes = (None, '_card_type'))\n",
    "\n",
    "# dropping column I no longer need\n",
    "df.drop(columns = ['cardtypeid'], inplace = True)"
   ]
  },
  {
   "cell_type": "markdown",
   "metadata": {},
   "source": [
    "### Merging 'keywords' DF"
   ]
  },
  {
   "cell_type": "code",
   "execution_count": null,
   "metadata": {
    "scrolled": true
   },
   "outputs": [],
   "source": [
    "# replacing dashes with underscores in names\n",
    "keywords.name = keywords.name.str.replace('-', '_')\n",
    "\n",
    "# adding missing keyword data to 'keywords' df\n",
    "keywords.loc[len(keywords.index)] = ['64', 'start_of_game', \n",
    "                                     'does something at the start of the game.', \n",
    "                                     'does something at the start of the game.']\n",
    "\n",
    "# removing brackets and commas from keyword id column\n",
    "df.keywordids = df.keywordids.str.replace('\\]|,|\\[' , '')\n",
    "\n",
    "# splitting keyword ids into separate columns for each card\n",
    "kwdf = df[\"keywordids\"].str.split(\" \", expand = True) \n",
    "\n",
    "# renaming columns\n",
    "kwdf.columns = ['keywordid1', 'keywordid2', 'keywordid3', 'keywordid4', 'keywordid5']\n",
    "\n",
    "# concatenating split keyword id columns with main df\n",
    "df = pd.concat([df, kwdf], axis=1)\n",
    "\n",
    "# converting keywords id column to str type to enable merge\n",
    "keywords.id = keywords.id.astype(str)\n",
    "\n",
    "# creating loop to add a column for the text name of each keyword ability of each card\n",
    "# via merging with keywords DF\n",
    "for x in kwdf.columns:\n",
    "    df = pd.merge(df, keywords[['id', 'name']], \n",
    "              left_on = x, right_on = 'id', how = \"left\",\n",
    "              suffixes = (None, x + '_name'))"
   ]
  },
  {
   "cell_type": "markdown",
   "metadata": {},
   "source": [
    "## Checking for duplicate rows"
   ]
  },
  {
   "cell_type": "code",
   "execution_count": null,
   "metadata": {},
   "outputs": [],
   "source": [
    "# checking number of rows in current DF\n",
    "df.shape"
   ]
  },
  {
   "cell_type": "code",
   "execution_count": null,
   "metadata": {
    "scrolled": true
   },
   "outputs": [],
   "source": [
    "# Checking number of rows if duplicates were dropped\n",
    "df.drop_duplicates().shape"
   ]
  },
  {
   "cell_type": "markdown",
   "metadata": {},
   "source": [
    "- No duplicates found"
   ]
  },
  {
   "cell_type": "markdown",
   "metadata": {},
   "source": [
    "### Checking for proper data types, categorical columns (based on domain knowledge), and null counts"
   ]
  },
  {
   "cell_type": "code",
   "execution_count": null,
   "metadata": {
    "scrolled": true
   },
   "outputs": [],
   "source": [
    "df.info()"
   ]
  },
  {
   "cell_type": "markdown",
   "metadata": {},
   "source": [
    "- The following columns will be dropped as they won't be needed for the expected operations of this project\n",
    "    - id, slug\n",
    "        - unique identifiers for cards, not needed since the 'name' column provides this while also being easier to reference\n",
    "    - artistname, cardsetid, duels\n",
    "        -  I don't anticipate that the names of the cards' artists, their set names, or their existence in the duels format will confer any insight about the characteristics of their respective hero classes\n",
    "    - image, imagegold, cropimage\n",
    "        - I won't be exploring the images of the cards in this iteration of the project but I may in the future\n",
    "    - durability, armor\n",
    "        - Durability is exclusive to weapons and armor is exclusive to hero cards\n",
    "        - Weapons and Hero cards represent a small minority of cards compared to spells and minions, and some classes have no weapons and/or hero cards currently\n",
    "        - In light of these observations, I don't believe I'll be able to make any solid inferences about class identities with either of these columns\n",
    "    - collectible\n",
    "        - Only 1 value, no nulls, doesn't distinguish any cards\n",
    "    - all columns reflecting key words with the exception of the boolean columns and the 'slug_keyword#_name' columns\n",
    "        - The exempted columns are sufficient for the project's expected operations\n",
    "     \n",
    "     \n",
    "- Based on my domain knowledge of the game, I'm inferring that several of the columns are categorical\n",
    "    - I need to create boolean columns for categorical columns (rarity, card set, etc.)\n",
    "\n",
    "\n",
    "- Many null values that need to be addressed\n",
    "    - text\n",
    "    - duels\n",
    "    - minion type id\n",
    "    - health\n",
    "    - attack\n",
    "    - child ids\n",
    "    - durability\n",
    "    - armor"
   ]
  },
  {
   "cell_type": "markdown",
   "metadata": {},
   "source": [
    "### Dropping columns that aren't needed for the planned operations of this project"
   ]
  },
  {
   "cell_type": "code",
   "execution_count": null,
   "metadata": {
    "scrolled": true
   },
   "outputs": [],
   "source": [
    "# creating list of columns to drop\n",
    "columns_to_drop = ['id', 'slug', 'artistname', 'image', 'imagegold', 'flavortext', 'cropimage', 'collectible', 'durability', 'armor']\n",
    "\n",
    "# dropping columns\n",
    "df.drop(columns = columns_to_drop, inplace = True)"
   ]
  },
  {
   "cell_type": "markdown",
   "metadata": {},
   "source": [
    "## Addressing Null Values"
   ]
  },
  {
   "cell_type": "markdown",
   "metadata": {},
   "source": [
    "### Addressing nulls in 'text' column"
   ]
  },
  {
   "cell_type": "code",
   "execution_count": null,
   "metadata": {},
   "outputs": [],
   "source": [
    "# checking values in text box\n",
    "df.text.value_counts(dropna = False)"
   ]
  },
  {
   "cell_type": "code",
   "execution_count": null,
   "metadata": {},
   "outputs": [],
   "source": [
    "# filling null text values with 'no effect'\n",
    "df[\"text\"].fillna(\"no effect\", inplace = True) "
   ]
  },
  {
   "cell_type": "markdown",
   "metadata": {},
   "source": [
    "### Addressing nulls in 'id_minion_type', and 'slug_minion_type' columns"
   ]
  },
  {
   "cell_type": "code",
   "execution_count": null,
   "metadata": {},
   "outputs": [],
   "source": [
    "# checking minontypeId values\n",
    "df.id_minion_type.value_counts(dropna = False)"
   ]
  },
  {
   "cell_type": "code",
   "execution_count": null,
   "metadata": {},
   "outputs": [],
   "source": [
    "# converting nulls, aka non-minion cards to 'not a minion' type\n",
    "df['id_minion_tribe'] = np.where((df.id_minion_type.isnull() == True), 'not a minion', df.id_minion_type)\n",
    "df['name_minion_tribe'] = np.where((df.name_minion_type.isnull() == True), 'not a minion', df.name_minion_type)\n",
    "\n",
    "# dropping minionTypeId since id_minion_type suffices\n",
    "df.drop(columns = ['id_minion_type', 'name_minion_type'], inplace = True)"
   ]
  },
  {
   "cell_type": "markdown",
   "metadata": {},
   "source": [
    "### Addressing nulls in 'childIds' column"
   ]
  },
  {
   "cell_type": "code",
   "execution_count": null,
   "metadata": {
    "scrolled": true
   },
   "outputs": [],
   "source": [
    "# checking childIds values\n",
    "df.childids.value_counts(dropna = False)"
   ]
  },
  {
   "cell_type": "code",
   "execution_count": null,
   "metadata": {},
   "outputs": [],
   "source": [
    "# filling nulls with \"no_childid\"\n",
    "df.childids.fillna(\"no_childid\", inplace = True) "
   ]
  },
  {
   "cell_type": "markdown",
   "metadata": {},
   "source": [
    "### Addressing nulls in 'health' and 'attack' columns\n",
    "These variable's respective columns have null values since neither of them apply to every card (examples: minions have health but spells and weapons do not). For the time being I'll fill these nulls \n",
    "with a value that represents infinity since doing so allows me to preserve the int64 data type of the column. Furthermore, no matter what value the developer assigns to these variables in future cards, this value probably won't be used. If this causes issues later I'll employ a different means of handling them. "
   ]
  },
  {
   "cell_type": "code",
   "execution_count": null,
   "metadata": {},
   "outputs": [],
   "source": [
    "# creating list of column names\n",
    "hlth_atk = ['health', 'attack']\n",
    "\n",
    "# iterating through columns filling nulls within each\n",
    "for att in hlth_atk:\n",
    "    df[att].fillna(float('inf'), inplace = True)"
   ]
  },
  {
   "cell_type": "markdown",
   "metadata": {},
   "source": [
    "## Creating boolean columns for categorical variables"
   ]
  },
  {
   "cell_type": "markdown",
   "metadata": {},
   "source": [
    "### Creating boolean columns for 'keywords'"
   ]
  },
  {
   "cell_type": "code",
   "execution_count": null,
   "metadata": {},
   "outputs": [],
   "source": [
    "# loop iterates through each keyword and creates a boolean column for it\n",
    "for kw in keywords.name:\n",
    "    df['has_' + kw] = np.where(\n",
    "    (df.namekeywordid1_name == kw) |\n",
    "    (df.namekeywordid2_name == kw) |\n",
    "    (df.namekeywordid3_name == kw) |\n",
    "    (df.namekeywordid4_name == kw) |\n",
    "    (df.namekeywordid5_name == kw), 1, 0)\n",
    "    \n",
    "# creating empty list\n",
    "key_word_col_drop = []\n",
    "\n",
    "# iterating through columns in df and creating list of columns to drop\n",
    "for col in df.columns:\n",
    "    if 'keywordid' in col:\n",
    "        key_word_col_drop.append(col)\n",
    "        \n",
    "# dropping columns\n",
    "df.drop(columns = key_word_col_drop, inplace = True)"
   ]
  },
  {
   "cell_type": "markdown",
   "metadata": {},
   "source": [
    "### Creating boolean columns for 'hero classes'"
   ]
  },
  {
   "cell_type": "code",
   "execution_count": null,
   "metadata": {},
   "outputs": [],
   "source": [
    "# removing brackets and commas from multiclassids column\n",
    "df.multiclassids = df.multiclassids.str.replace('\\]|,|\\[' , '')\n",
    "\n",
    "# creating column that holds secondary class separate from primary class\n",
    "df['id_second_hero_class'] = df[\"multiclassids\"].str.split(\" \", expand = True)[1]\n",
    "\n",
    "# converting column to str type to enable merge with newly created column 'id_second_hero_class'\n",
    "classes.id = classes.id.astype(str)\n",
    "\n",
    "# creating df containing columns for merge in order to rename before merge without altering original classes DF\n",
    "classes2 = classes[['id', 'name']]\n",
    "\n",
    "# renaming columns\n",
    "classes2.columns = ['id_second_hero_class', 'name_second_hero_class']\n",
    "\n",
    "# merging 'classes' on secondary hero class id to get secondary class names\n",
    "df = pd.merge(df, classes2[['id_second_hero_class', 'name_second_hero_class']], \n",
    "              on = 'id_second_hero_class', how = \"left\")\n",
    "\n",
    "# creating boolean columns for each hero class\n",
    "for c in classes.name:\n",
    "    df['is_' + c] = np.where(\n",
    "    (df.name_prime_hero_class == c) | (df.name_second_hero_class == c), 1, 0)\n",
    "\n",
    "# filling nulls in new columns\n",
    "df['name_second_hero_class'].fillna('monoclass', inplace = True)\n",
    "df['id_second_hero_class'].fillna('monoclass', inplace = True)"
   ]
  },
  {
   "cell_type": "markdown",
   "metadata": {},
   "source": [
    "### Creating boolean column for multiclass cards"
   ]
  },
  {
   "cell_type": "code",
   "execution_count": null,
   "metadata": {},
   "outputs": [],
   "source": [
    "# creating column where 1 = multiclass, 0 = monoclass)\n",
    "# contains ' ' will suffice since only cards with a space in this value are multiclass\n",
    "df['is_multiclass'] = np.where((df.multiclassids.str.contains(' ')), 1, 0)\n",
    "\n",
    "# dropping column I no longer need\n",
    "df.drop(columns = 'multiclassids', inplace = True)"
   ]
  },
  {
   "cell_type": "markdown",
   "metadata": {},
   "source": [
    "### Creating boolean column for cards with child ids"
   ]
  },
  {
   "cell_type": "code",
   "execution_count": null,
   "metadata": {},
   "outputs": [],
   "source": [
    "# creating column where 1 = card has childids, 0 = card has no childids)\n",
    "# contains ',' will suffice since only cards with a comma in this value have childids\n",
    "df['has_child_ids'] = np.where((df.childids.str.contains(',')), 1, 0)\n",
    "\n",
    "# dropping column I no longer need\n",
    "df.drop(columns = 'childids', inplace = True)"
   ]
  },
  {
   "cell_type": "markdown",
   "metadata": {},
   "source": [
    "### Creating boolean columns for card type"
   ]
  },
  {
   "cell_type": "code",
   "execution_count": null,
   "metadata": {},
   "outputs": [],
   "source": [
    "# iterating through card types and creating a boolean column for each\n",
    "for ctype in ctypes.name:\n",
    "    df['is_' + ctype] = np.where((df.name_card_type == ctype), 1, 0)\n",
    "\n",
    "# dropping column I no longer need\n",
    "df.drop(columns = 'id_card_type', inplace = True)"
   ]
  },
  {
   "cell_type": "markdown",
   "metadata": {},
   "source": [
    "### Creating boolean columns for minion tribe"
   ]
  },
  {
   "cell_type": "code",
   "execution_count": null,
   "metadata": {},
   "outputs": [],
   "source": [
    "# iterating through minion tribes and creating a boolean column for each\n",
    "for mtype in mtypes.name:\n",
    "    df['is_' + mtype] = np.where((df.name_minion_tribe == mtype), 1, 0)\n",
    "\n",
    "# dropping column I no longer need\n",
    "df.drop(columns = 'id_minion_tribe', inplace = True)"
   ]
  },
  {
   "cell_type": "markdown",
   "metadata": {},
   "source": [
    "## Other Preparations"
   ]
  },
  {
   "cell_type": "markdown",
   "metadata": {},
   "source": [
    "### Dropping boolean columns with all 0 values\n",
    "I know that some of the keywords that were turned into booleans are not currently in standard (the format the collection of the cards in the data are part of). These columns will be completely filled with 0s so I'm going to drop them."
   ]
  },
  {
   "cell_type": "code",
   "execution_count": null,
   "metadata": {},
   "outputs": [],
   "source": [
    "# creating list of index values for columns that only have 0 values\n",
    "all_0_cols = np.where(df.isin([0]).all() == True)\n",
    "\n",
    "# dropping columns based on index value\n",
    "df.drop(df.columns[all_0_cols], axis = 1, inplace = True)"
   ]
  },
  {
   "cell_type": "markdown",
   "metadata": {},
   "source": [
    "### Adding rows for dual class cards with prime and secondary class swapped\n",
    "Adding these rows will make it easier to perform certain operations such as grouping and plotting."
   ]
  },
  {
   "cell_type": "code",
   "execution_count": null,
   "metadata": {},
   "outputs": [],
   "source": [
    "# making identical dfs of all dual class cards\n",
    "dcc = df[df.name_second_hero_class != 'monoclass']\n",
    "dcc2 = df[df.name_second_hero_class != 'monoclass']\n",
    "\n",
    "# swapping primary and secondary hero class values\n",
    "dcc2.name_prime_hero_class, dcc2.name_second_hero_class, dcc2.id_prime_hero_class, dcc2.id_second_hero_class = dcc.name_second_hero_class, dcc.name_prime_hero_class, dcc.id_second_hero_class, dcc.id_prime_hero_class\n",
    "\n",
    "# adding new rows to main df\n",
    "df = pd.concat([df, dcc2])\n",
    "\n",
    "# resetting index\n",
    "df.reset_index(drop = True, inplace = True)"
   ]
  },
  {
   "cell_type": "markdown",
   "metadata": {},
   "source": [
    "### Adding column that holds count of words in card name"
   ]
  },
  {
   "cell_type": "code",
   "execution_count": null,
   "metadata": {},
   "outputs": [],
   "source": [
    "# counting words in card names and adding as variable\n",
    "df['name_word_count'] = df.name.apply(lambda x: len(str(x).split(' ')))"
   ]
  },
  {
   "cell_type": "markdown",
   "metadata": {},
   "source": [
    "### Adjusting column order"
   ]
  },
  {
   "cell_type": "code",
   "execution_count": null,
   "metadata": {},
   "outputs": [],
   "source": [
    "# adjusting order of columns\n",
    "df = df[['manacost', 'name', 'name_word_count', 'text', 'has_child_ids', 'health', 'attack',\n",
    "       'id_prime_hero_class', 'name_prime_hero_class', \n",
    "       'id_second_hero_class', 'name_second_hero_class', 'name_card_type',\n",
    "       'name_minion_tribe', 'has_taunt', 'has_spellpower', 'has_divine_shield',\n",
    "       'has_charge', 'has_secret', 'has_stealth', 'has_battlecry',\n",
    "       'has_freeze', 'has_windfury', 'has_deathrattle', 'has_combo',\n",
    "       'has_overload', 'has_silence', 'has_counter', 'has_immune',\n",
    "       'has_discover', 'has_quest', 'has_poisonous', 'has_lifesteal',\n",
    "       'has_rush', 'has_evilzug', 'has_twinspell', 'has_mega_windfury',\n",
    "       'has_reborn', 'has_empower', 'has_outcast', 'has_spellburst',\n",
    "       'has_sidequest', 'has_corrupt', 'has_start_of_game',\n",
    "       'is_demonhunter', 'is_druid', 'is_hunter', 'is_mage', 'is_paladin', 'is_priest',\n",
    "       'is_rogue', 'is_shaman', 'is_warlock', 'is_warrior', 'is_neutral',\n",
    "       'is_multiclass','is_hero', 'is_minion', 'is_spell',\n",
    "       'is_weapon', 'is_murloc', 'is_demon', 'is_mech', 'is_elemental',\n",
    "       'is_beast', 'is_totem', 'is_pirate', 'is_dragon', 'is_all',\n",
    "       'is_no_tribe']]"
   ]
  },
  {
   "cell_type": "markdown",
   "metadata": {},
   "source": [
    "# Preparation Phase Summary\n",
    "- Lowercased all column names and values\n",
    "\n",
    "- Merged all dataFrames into single dataframe\n",
    "\n",
    "- Added missing keyword value (start of game)\n",
    "\n",
    "- Added rows for dual class cards with primary and secondary hero class values swapped\n",
    "\n",
    "- Changed all dashes in column names to underscores\n",
    "\n",
    "- Checked for duplicate rows, none found\n",
    "\n",
    "- Filled nulls with different values based on column and intended operations\n",
    "\n",
    "- Created boolean columns for categorical values\n",
    "\n",
    "- Dropped columns that were unuseful for the operations of this project\n",
    "\n",
    "- Reordered columns\n",
    "\n",
    "- Alternatively, the __prep_hearth__ function from the __prepare.py__ file can be run (with the 5 separate DFs made from the local csv files as arguments) to prep the data."
   ]
  },
  {
   "cell_type": "markdown",
   "metadata": {},
   "source": [
    "\n",
    "# Explore\n",
    "Exploring the data to identify the characteristics of each class, including neutral"
   ]
  },
  {
   "cell_type": "markdown",
   "metadata": {},
   "source": [
    "### Creating dictionary of colors, list of colors, and color mapper function for plots"
   ]
  },
  {
   "cell_type": "code",
   "execution_count": null,
   "metadata": {},
   "outputs": [],
   "source": [
    "# creating dictionary that holds each class as a key with a color\n",
    "# can be used to specify the color in plots where a dictionary is accepting for mapping colors to values\n",
    "colord = {'Rogue' : 'gray', 'Shaman' : 'aqua', 'Hunter' : 'lime', 'Warrior' : 'red', 'Priest' : 'white', \n",
    "          'Paladin' : 'gold', 'Mage' : 'cornflowerblue', 'Warlock' : 'mediumorchid', 'Demonhunter' : 'green',\n",
    "          'Druid' : 'saddlebrown', 'Neutral' : 'pink'}\n",
    "\n",
    "# sorting colorsby corresponding class hero in alphabetical order\n",
    "sorted_color_df = pd.DataFrame.from_dict(colord, orient='index').sort_index()\n",
    "# creating list of colors in DF above\n",
    "sorted_colors = [i for x in sorted_color_df.values for i in x]\n",
    "\n",
    "# function accepts list of of hero classes and returns sorted list of colors for plotting\n",
    "# useful when one of the items above can't be applied (ie. customer sorting of hero classes)\n",
    "def color_mapper(hero_class_list):\n",
    "    color_list = []\n",
    "    for x in hero_class_list:\n",
    "        color_list.append(colord[x])\n",
    "    return color_list"
   ]
  },
  {
   "cell_type": "markdown",
   "metadata": {},
   "source": [
    "### Setting plot figure sizes when size is not specified otherwise"
   ]
  },
  {
   "cell_type": "code",
   "execution_count": null,
   "metadata": {},
   "outputs": [],
   "source": [
    "plt.rcParams[\"figure.figsize\"] = (12,8)"
   ]
  },
  {
   "cell_type": "markdown",
   "metadata": {},
   "source": [
    "### Creating separate DFs for each major card type"
   ]
  },
  {
   "cell_type": "code",
   "execution_count": null,
   "metadata": {},
   "outputs": [],
   "source": [
    "minions = df[df.is_minion == 1]\n",
    "heros = df[df.is_hero == 1]\n",
    "spells = df[df.is_spell == 1]\n",
    "weapons = df[df.is_weapon== 1]"
   ]
  },
  {
   "cell_type": "markdown",
   "metadata": {},
   "source": [
    "### Creating list of class names"
   ]
  },
  {
   "cell_type": "code",
   "execution_count": null,
   "metadata": {
    "scrolled": true
   },
   "outputs": [],
   "source": [
    "classnames = classes.name.to_list()"
   ]
  },
  {
   "cell_type": "markdown",
   "metadata": {},
   "source": [
    "## Percentage of Minions and Spells within each Class\n",
    "Since weapons and hero cards make up only a small minority (if any) of the cards within each class, I'm not going to include them in the visualization below.\n",
    "#### NOTE: I'm aware pie charts are commonly considered bad practice. Since this is a personal projet, I'm making this simply for exhibition purposes."
   ]
  },
  {
   "cell_type": "code",
   "execution_count": null,
   "metadata": {
    "scrolled": false
   },
   "outputs": [],
   "source": [
    "# creating df with all cards except hero cards and weapons\n",
    "donutplotdf = df[(df.name_card_type != 'hero') & ((df.name_card_type != 'weapon'))]\n",
    "\n",
    "# creating df of card counts for each hero class\n",
    "hero_dist_df = pd.DataFrame(donutplotdf.name_prime_hero_class.value_counts().sort_index())\n",
    "hero_dist_df.columns = ['hero_class_card_count']\n",
    "\n",
    "# creating df of card counts per card type per hero class\n",
    "card_type_dist_df = pd.DataFrame(donutplotdf.groupby(['name_prime_hero_class', 'name_card_type']).count()['name'].sort_index(level=['name_prime_hero_class']))\n",
    "\n",
    "# setting values for outer ring\n",
    "major_pie_groups = [classname.title() for classname in hero_dist_df.index]\n",
    "major_group_sizes = [percent for percent in hero_dist_df.hero_class_card_count]\n",
    "\n",
    "# setting values for inner ring\n",
    "minor_pie_groups = [x[1] for x in card_type_dist_df.to_dict()['name'].keys()]\n",
    "minor_group_sizes = [cardtypecount for numlist in card_type_dist_df.values.tolist() for cardtypecount in numlist]\n",
    "\n",
    "# creating list for minion and spell colors\n",
    "min_and_spell_colors = [word.replace('minion' ,'orange') for word in minor_pie_groups]\n",
    "min_and_spell_colors = [word.replace('spell','lightblue') for word in min_and_spell_colors]\n",
    "\n",
    "# creating outside ring\n",
    "fig, ax = plt.subplots(figsize=(12,12))\n",
    "ax.axis('equal')\n",
    "mypie, _, autotexts = ax.pie(major_group_sizes, radius=1.2, labels = major_pie_groups, autopct='%1.1f%%', pctdistance= .83, colors = sorted_colors, textprops={'fontsize': 22})\n",
    "plt.setp(mypie, width=0.4, edgecolor='black')\n",
    "\n",
    "# creating inner ring\n",
    "mypie2, _, autotexts2 = ax.pie(minor_group_sizes, radius=1.2-0.4, autopct='%1.1f%%', pctdistance= .84, colors = min_and_spell_colors, textprops={'fontsize': 15})\n",
    "plt.setp( mypie2, width=0.4, edgecolor='black')\n",
    "plt.margins(0,0)\n",
    "\n",
    "# creating color list for inner circle\n",
    "minion_legend_item = mpatches.Patch(color='orange', label='Minions')\n",
    "spell_legend_item  = mpatches.Patch(color='lightblue', label='Spells')\n",
    "\n",
    "# creating custom legend\n",
    "leg = plt.legend(handles=[minion_legend_item, spell_legend_item], prop={\"size\":20}, bbox_to_anchor=(0.06, .95))\n",
    "\n",
    "# adding title to plot\n",
    "plt.title('Minion and Spell Percentages Per Hero Class', fontsize = 25, pad = 45)\n",
    "\n",
    "# displaying plot \n",
    "plt.show()"
   ]
  },
  {
   "cell_type": "markdown",
   "metadata": {},
   "source": [
    "- The purpose of this visualization was to give an idea of about how the distribution of card types within each class (for example, do mages have a lot more spells than minions? do hunters have mostly minions?, etc)\n",
    "    - Since I alread know that weapons and hero cards make up only a small minority of all cards, I removed them from the data used in the visualization above since their \"slices\" within the plot would be too small to offer meaningful insight beyond that they are the minority card types\n",
    "\n",
    "\n",
    "- Neutral minions account for nearly 1/3 of all cards\n",
    "\n",
    "\n",
    "- There are no neutral spell cards\n",
    "\n",
    "\n",
    "- The combined amount of spells and minions within each non-neutral class are relatively close\n",
    "    - Druid, Priest, and Warlock are tied for the majority at 7.5%\n",
    "    - Demon Hunter has the lowest amount, making up 5.9% of all minions and spells\n",
    "    \n",
    "    \n",
    "- All non-neutral hero classes have relatively even splits in their ratios of spells to minions"
   ]
  },
  {
   "cell_type": "markdown",
   "metadata": {},
   "source": [
    "## Average Mana Costs Per Class"
   ]
  },
  {
   "cell_type": "code",
   "execution_count": null,
   "metadata": {},
   "outputs": [],
   "source": [
    "# creating df of average mana costs per class\n",
    "avgmana = pd.DataFrame(df.groupby(['name_prime_hero_class']).mean().sort_values(by = 'manacost', ascending = True)['manacost'])\n",
    "avgmana.index = avgmana.index.str.title()\n",
    "avgmana"
   ]
  },
  {
   "cell_type": "code",
   "execution_count": null,
   "metadata": {},
   "outputs": [],
   "source": [
    "# creating plot\n",
    "plt.xticks(fontsize = 15)\n",
    "plt.yticks(fontsize = 14)\n",
    "plt.title(\"Average Mana Costs By Class\", fontsize = 20)\n",
    "ax = sns.barplot(x = \"manacost\", y = avgmana.index, data = avgmana, palette = colord, edgecolor = 'black')\n",
    "ax.set_xlabel('Average Mana Cost', fontsize = 15)\n",
    "ax.set_ylabel('Hero Class', fontsize = 17)\n",
    "plt.show()"
   ]
  },
  {
   "cell_type": "markdown",
   "metadata": {},
   "source": [
    "- Average mana costs range from ~3 to ~4 mana\n",
    "    - Although this range may seem small, 1 mana is considered a significant difference in the viability of a card\n",
    "- Rogue does has the lowest average mana cost, ~3\n",
    "- Neutral has the highest average mana cost, ~4\n",
    "- Of all non-neutral classes, Druid has the highest average mana cost, ~3.9"
   ]
  },
  {
   "cell_type": "markdown",
   "metadata": {},
   "source": [
    "## Average Mana Costs for Each Class (Per Card Type) "
   ]
  },
  {
   "cell_type": "code",
   "execution_count": null,
   "metadata": {},
   "outputs": [],
   "source": [
    "pd.DataFrame(df.groupby(['name_prime_hero_class', 'name_card_type']).mean()['manacost'])"
   ]
  },
  {
   "cell_type": "code",
   "execution_count": null,
   "metadata": {
    "scrolled": false
   },
   "outputs": [],
   "source": [
    "# creating empty dictionaries\n",
    "minion_mc_dict = {}\n",
    "weapon_mc_dict = {}\n",
    "spell_mc_dict = {}\n",
    "hero_mc_dict = {}\n",
    "\n",
    "# iterating through class names and storing average manacost for each type of card within each class\n",
    "for classname in classnames:\n",
    "    minion_mc = minions[minions.name_prime_hero_class == classname].manacost.mean()\n",
    "    weapon_mc = weapons[weapons.name_prime_hero_class == classname].manacost.mean()\n",
    "    spell_mc = spells[spells.name_prime_hero_class == classname].manacost.mean()\n",
    "    hero_mc = heros[heros.name_prime_hero_class == classname].manacost.mean()\n",
    "    \n",
    "    # adding values to dictionary for use in plot\n",
    "    minion_mc_dict[classname] = minion_mc\n",
    "    weapon_mc_dict[classname] = weapon_mc\n",
    "    spell_mc_dict[classname] = spell_mc\n",
    "    hero_mc_dict[classname] = hero_mc\n",
    "    \n",
    "x = np.arange(len(classnames))\n",
    "width = 0.2 \n",
    "\n",
    "# creating plots\n",
    "fig, ax = plt.subplots(figsize=(15, 8))\n",
    "ax.bar(x - width * 1.5, minion_mc_dict.values(), width, label= 'Minions', color = 'orange')\n",
    "ax.bar(x - width * .5, weapon_mc_dict.values(), width, label = 'Weapons', color = 'crimson')\n",
    "ax.bar(x + width * .5, spell_mc_dict.values(), width, label= 'Spells', color = 'lightblue')\n",
    "ax.bar(x + width * 1.5, hero_mc_dict.values(), width, label = 'Heros', color = 'mediumorchid')\n",
    "\n",
    "# setting x labels, y labels, xticks, etc.\n",
    "ax.set_xlabel('Hero Class', fontsize = 20)\n",
    "ax.set_ylabel('Mana Cost', fontsize = 20)\n",
    "ax.set_title('Average Mana Cost by Class (Per Card Type)', fontsize = 21)\n",
    "ax.set_xticks(x)\n",
    "ax.set_xticklabels([classname.title() for classname in classnames], fontsize = 15, rotation = 10)\n",
    "ax.legend(bbox_to_anchor=(1, 1), fontsize='x-large')\n",
    "plt.show()"
   ]
  },
  {
   "cell_type": "markdown",
   "metadata": {},
   "source": [
    "__General__\n",
    "- Any bars that are missing from a class means that the class does not have any of that particular type of card\n",
    "    - For example, mages don't have weapons currently\n",
    "   \n",
    "   \n",
    "__Minions__    \n",
    "- Druids have the more costly creatures\n",
    "    - It makes sense that they have more expensive creatures since part of their identity is ramping up resources to play big creatures (and spells)\n",
    "- Rogues have the cheapest creatures\n",
    "    - This also makes sense given that part of their identity is being a fast-paced class that plays lots of inexpensive cards\n",
    "\n",
    "\n",
    "__Weapons__\n",
    "- The average cost of weapons for each class that has them is very similar with the exception of neutral which has much cheaper weapons\n",
    "\n",
    "\n",
    "__Spells__\n",
    "- The range of costs among spells is ~4 - ~5 mana\n",
    "    - Rogues, have the cheapest spells\n",
    "        - This is not surprising since again, they are known for have lots of small effect, cheap cards\n",
    "    - Mages have the most expensive spells\n",
    "        - This makes sense given that as the name would imply, mages focus on magic and part of their identity is having big, impactful spells, even more so than druid    \n",
    "        \n",
    "        \n",
    "__Heros__\n",
    "- No hero class has more than 1 hero card and some have non\n",
    "- Furthermore, every hero class except for Mage share the same hero card, Galakrond, which explains why several have the same mana cost\n",
    "       "
   ]
  },
  {
   "cell_type": "markdown",
   "metadata": {},
   "source": [
    "## Average Word Counts in Name per Class"
   ]
  },
  {
   "cell_type": "code",
   "execution_count": null,
   "metadata": {},
   "outputs": [],
   "source": [
    "# creating df of average number of words in name per class \n",
    "avgnamewc = pd.DataFrame(df.groupby(['name_prime_hero_class']).mean().sort_values(by = 'name_word_count', ascending = True)['name_word_count'])\n",
    "avgnamewc.index = avgnamewc.index.str.title()\n",
    "avgnamewc"
   ]
  },
  {
   "cell_type": "code",
   "execution_count": null,
   "metadata": {
    "scrolled": false
   },
   "outputs": [],
   "source": [
    "# creating plot\n",
    "plt.xticks(fontsize = 15)\n",
    "plt.yticks(fontsize = 14)\n",
    "plt.title(\"Average Word Count in Name Per Class\", fontsize = 20)\n",
    "ax = sns.barplot(x = \"name_word_count\", y = avgnamewc.index, data = avgnamewc, palette = colord, edgecolor = 'black')\n",
    "ax.set_xlabel('Average Word Count in Name', fontsize = 15)\n",
    "ax.set_ylabel('Hero Class', fontsize = 17)\n",
    "plt.show()"
   ]
  },
  {
   "cell_type": "markdown",
   "metadata": {},
   "source": [
    "- Very little variation in the word counts in the name's of each classes' cards\n",
    "    - Range is ~1.8 to ~2.3 words\n",
    "- Rogues have the lowest average words counts\n",
    "- Paladins have the highest average word counts"
   ]
  },
  {
   "cell_type": "markdown",
   "metadata": {},
   "source": [
    "## Average Name Word Count by Class (per Card Type)"
   ]
  },
  {
   "cell_type": "code",
   "execution_count": null,
   "metadata": {
    "scrolled": false
   },
   "outputs": [],
   "source": [
    "df.groupby(['name_prime_hero_class', 'name_card_type']).mean()['name_word_count']"
   ]
  },
  {
   "cell_type": "code",
   "execution_count": null,
   "metadata": {
    "scrolled": false
   },
   "outputs": [],
   "source": [
    "# creating dictionary for colors for each card type\n",
    "ctype_colord = {'Spell' : 'lightblue', 'Minion' : 'orange', 'Hero' : 'mediumorchid', 'Weapon' : 'crimson'}\n",
    "\n",
    "# copying main df to avoid altering\n",
    "wc_by_ctype_df = df.copy()\n",
    "\n",
    "# capitalizing hero class names and card types for aesthetic appeal in plot\n",
    "wc_by_ctype_df.name_prime_hero_class = wc_by_ctype_df.name_prime_hero_class.str.title()\n",
    "wc_by_ctype_df.name_card_type = wc_by_ctype_df.name_card_type.str.title()\n",
    "\n",
    "# creating plot\n",
    "plt.figure(figsize=(15,8))\n",
    "plt.xticks(fontsize = 15, rotation = 10)\n",
    "ax = sns.barplot(x = \"name_prime_hero_class\",  y = \"name_word_count\", hue = 'name_card_type',  data = wc_by_ctype_df, ci = None, palette =  ctype_colord)\n",
    "plt.xlabel('Hero Class', fontsize = 20)\n",
    "plt.ylabel('Average Name Word Count', fontsize = 20)\n",
    "plt.title('Average Name Word Count by Class (per Card Type)', fontsize = 21)\n",
    "ax.legend(bbox_to_anchor=(1, 1), fontsize='x-large')\n",
    "plt.show()\n"
   ]
  },
  {
   "cell_type": "markdown",
   "metadata": {},
   "source": [
    "__General__\n",
    "- Any bars that are missing from a class means that the class does not have any of that particular type of card\n",
    "    - For example, druid don't have weapons or hero cards currently\n",
    "- With the exception of hero cards (covered below), paladin weapons, and neutral weapons, all of the groups of fell into the range of 1.5 to 2.5 average words per name\n",
    "    - This implies that there is little variance (roughly 1 word) between the average number of words for the cards of each group\n",
    "\n",
    "- Of all non-neutral classes, paladins have the most words on average for both weapons and spells in addition to nearly being tied for minions\n",
    "   \n",
    "\n",
    "__Spells__\n",
    "- Paladins have the highest word counts in their spell names on average\n",
    "- Rogues have the lowest word counts in their spell names on average\n",
    "        \n",
    "        \n",
    "__Minions__   \n",
    "- Priests narrowly beat out paladins for the highest average word count in minion names\n",
    "- Shamans closely edged out hunters for the lowest average word count in minion names\n",
    "\n",
    "\n",
    "__Weapons__\n",
    "- The neutral \"class\" has the largest highest average word count in weapon names, albeit there is only one neutral weapon currently (Sphere of Sapience)\n",
    "- With regard to non-neutral classes, paladins have the highest average word count in weapon names\n",
    "- Demon hunter has the lowest average word count in weapon names\n",
    "\n",
    "        \n",
    "__Heros__\n",
    "- No hero class has more than 1 hero card and some have non\n",
    "- Furthermore, every hero class except for Mage share the same hero card, Galakrond, which explains why several have the same word count\n",
    "       "
   ]
  },
  {
   "cell_type": "markdown",
   "metadata": {},
   "source": [
    "## Variables: Health and Attack\n",
    "I'll be exploring these variables in tandem since they are closely related. Health determines how much damage a minion can take before being eliminated while attack determines how much damage a minion can output."
   ]
  },
  {
   "cell_type": "code",
   "execution_count": null,
   "metadata": {
    "scrolled": false
   },
   "outputs": [],
   "source": [
    "# creating series of average minion health, sorted alphabetically by hero class name\n",
    "minions_health = minions.groupby('name_prime_hero_class').mean()['health'].sort_values()\n",
    "minions_health.index = minions_health.index.str.title()\n",
    "\n",
    "# creating list of colors for hero class colors based on order in minions_health series\n",
    "health_colors = color_mapper(minions_health.index)\n",
    "\n",
    "# plotting horizontal lines (stems of lollipops)\n",
    "ytick_range = range(0,len(minions_health.index))\n",
    "plt.hlines(y = ytick_range, xmin = 0, xmax = minions_health - .06, color = 'b')\n",
    "\n",
    "# plotting dots (\"candy\" portion of lollipop) that reflect average minion health for respective class\n",
    "plt.scatter(minions_health, ytick_range, color = health_colors , s = 300, edgecolors= 'b')\n",
    "\n",
    "# configuring ticks, axis labels, etc.\n",
    "plt.yticks(ytick_range, minions_health.index, fontsize = 15)\n",
    "plt.xticks(fontsize = 15)\n",
    "plt.ylabel('Hero Class', fontsize = 20)\n",
    "plt.xlabel('Minion Health', fontsize = 20)\n",
    "plt.title('Average Minion Health by Class', fontsize = 25)\n",
    "\n",
    "plt.show()"
   ]
  },
  {
   "cell_type": "markdown",
   "metadata": {},
   "source": [
    "- The range of the average health between minions of different classes is relatively substantial\n",
    "    - A minion losing or gaining 1 health as a result of a balancing patch usually has a major impact on their viability\n",
    "\n",
    "\n",
    "- Rogue minons have the lowest average health among all minions\n",
    "    - This is consistent with their propensity for being a class that plays cheaper, weaker cards in large volumes to compensate for their lack of individual impact\n",
    "    \n",
    "    \n",
    "- Druid minions have the highest average health among all minions\n",
    "    - This makes sense given that one of their main strategies is to ramp up resources in order to play more powerful spells and minions so the developers gave them \"bulkier\" (ie. higher health) creatures on average. \n",
    "        - Bulkier creatures are harder to remove, so druid is rewarded for their investment, in part, by having minions that are harder to destroy"
   ]
  },
  {
   "cell_type": "code",
   "execution_count": null,
   "metadata": {},
   "outputs": [],
   "source": [
    "# creating series of average minion attack, sorted alphabetically by hero class name\n",
    "minions_attack = minions.groupby('name_prime_hero_class').mean()['attack'].sort_values()\n",
    "minions_attack.index = minions_attack.index.str.title()\n",
    "\n",
    "# creating list of colors for hero class colors based on order in minions_attack series\n",
    "attack_colors = color_mapper(minions_attack.index)\n",
    "\n",
    "# plotting horizontal lines (stems of lollipops)\n",
    "ytick_range = range(0,len(minions_attack.index))\n",
    "plt.hlines(y = ytick_range, xmin = 0, xmax = minions_attack - .06, color = 'crimson')\n",
    "\n",
    "# plotting dots (\"candy\" portion of lollipop) that reflect average minion attack for respective class\n",
    "plt.scatter(minions_attack, ytick_range, color = attack_colors, s = 300, edgecolors= 'crimson')\n",
    "\n",
    "# configuring ticks, axis labels, etc.\n",
    "plt.yticks(ytick_range, minions_attack.index, fontsize = 15)\n",
    "plt.xticks(fontsize = 15)\n",
    "plt.ylabel('Hero Class', fontsize = 20)\n",
    "plt.xlabel('Minion attack', fontsize = 20)\n",
    "plt.title('Average Minion Attack by Class', fontsize = 25)\n",
    "\n",
    "plt.show()"
   ]
  },
  {
   "cell_type": "markdown",
   "metadata": {},
   "source": [
    "- The range of average minion attack values between classes is ~3 - ~4\n",
    "    - Although the range isn't as large as minion health, it is a significant range nonetheless. Like with minion health, 1 increase or decrease to a minions attack can have a significant impact on its competitive viability\n",
    "    \n",
    "    \n",
    "- The order of the classes has changed from the order in the health plot\n",
    "\n",
    "\n",
    "- Demon hunter minions have the highest average attack\n",
    "    - Demon hunters are known to be an agressive class, as opposed to classes like priest which are more defensive by nature.\n",
    "\n",
    "\n",
    "- Mage minons are nearly tied with shamans for the lowest average attack values\n",
    "    - I'm surpised by this, I figured that this rank would have been held by one of the more defensive classes such as priest \n"
   ]
  },
  {
   "cell_type": "code",
   "execution_count": null,
   "metadata": {},
   "outputs": [],
   "source": [
    "# creating df that holds both average minion attack and health\n",
    "atk_and_hlth_df = pd.DataFrame(dict(Average_Health = minions_health, Average_Attack = minions_attack))\n",
    "atk_and_hlth_df.columns = ['Average Health', 'Average Attack']\n",
    "\n",
    "# creating list of colors for horizontal lines\n",
    "hlth_attk_colors = color_mapper(atk_and_hlth_df.index)\n",
    "\n",
    "# setting y tick range\n",
    "ytick_range = range(0,len(atk_and_hlth_df.index))\n",
    "\n",
    "x_min_val = np.where(atk_and_hlth_df.index != 'Demonhunter', atk_and_hlth_df['Average Health'] * .99, atk_and_hlth_df['Average Health'] * 1.012)\n",
    "x_max_val = np.where(atk_and_hlth_df.index != 'Demonhunter', atk_and_hlth_df['Average Attack'] * 1.012, atk_and_hlth_df['Average Attack'] * .99)\n",
    "\n",
    "# creating scatter plot points for attack and health\n",
    "plt.scatter(atk_and_hlth_df['Average Health'], ytick_range, color='b', alpha=1, label='Average Health', s = 200)\n",
    "plt.scatter(atk_and_hlth_df['Average Attack'], ytick_range, color='crimson', label='Average Attack', s = 200)\n",
    "\n",
    "# creating horizontal lines to connect attack and health along with black outline\n",
    "# have to create larger black bar in background since hlines edgecolor argument fills entire line instead of outline\n",
    "ax = plt.hlines(y = ytick_range, xmin = x_min_val, xmax = x_max_val, colors = 'black', linewidth= 7)\n",
    "ax = plt.hlines(y = ytick_range, xmin = x_min_val, xmax = x_max_val , colors = hlth_attk_colors, linewidth= 5)\n",
    " \n",
    "# setting xticks, yticks, axis labels, title, and legend\n",
    "plt.xticks(range(0,6,1), fontsize = 15)\n",
    "plt.yticks(ytick_range, atk_and_hlth_df.index, fontsize = 15)\n",
    "plt.title('Average Attack vs Average Health by Class', fontsize = 25)\n",
    "plt.xlabel('Average Attack / Health', fontsize = 20, labelpad = 10)\n",
    "plt.ylabel('Hero Class', fontsize = 25, labelpad = -20)\n",
    "plt.legend(bbox_to_anchor=(1, 1), fontsize='x-large')\n",
    "\n",
    "plt.show()"
   ]
  },
  {
   "cell_type": "markdown",
   "metadata": {},
   "source": [
    "- The range of average attack and health varies significantly between some classes\n",
    "\n",
    "\n",
    "- Warrior, Warlock, Shaman, Priest and Hunter have approximately 1 more health than attack on average\n",
    "\n",
    "\n",
    "- Paladin, Neutral, and Hunter have approximately .5 more health than attack on average\n",
    "\n",
    "\n",
    "- Rogue and Demonhunter have almost identical attack and health on average\n",
    "\n",
    "\n",
    "- Uniquely, demonhunter is the only class with minions that have higher attack than health on average"
   ]
  },
  {
   "cell_type": "code",
   "execution_count": null,
   "metadata": {},
   "outputs": [],
   "source": [
    "df.columns"
   ]
  },
  {
   "cell_type": "code",
   "execution_count": null,
   "metadata": {},
   "outputs": [],
   "source": []
  }
 ],
 "metadata": {
  "kernelspec": {
   "display_name": "Python 3",
   "language": "python",
   "name": "python3"
  },
  "language_info": {
   "codemirror_mode": {
    "name": "ipython",
    "version": 3
   },
   "file_extension": ".py",
   "mimetype": "text/x-python",
   "name": "python",
   "nbconvert_exporter": "python",
   "pygments_lexer": "ipython3",
   "version": "3.7.6"
  }
 },
 "nbformat": 4,
 "nbformat_minor": 4
}
