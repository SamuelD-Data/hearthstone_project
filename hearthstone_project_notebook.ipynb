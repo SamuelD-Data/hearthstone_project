{
 "cells": [
  {
   "cell_type": "markdown",
   "metadata": {},
   "source": [
    "# Hearthstone Project\n",
    "***\n",
    "***"
   ]
  },
  {
   "cell_type": "markdown",
   "metadata": {},
   "source": [
    "# Goals\n",
    "- Thoroughly prepare so that it is ready for exploration and modeling\n",
    "    - I won't be creating any models for this project but I'd still like to prepare the data nonetheless\n",
    "- Explore the data to gather insights about the characteristics of the game's different class types"
   ]
  },
  {
   "cell_type": "markdown",
   "metadata": {},
   "source": [
    "# Setup\n",
    "***"
   ]
  },
  {
   "cell_type": "code",
   "execution_count": 1,
   "metadata": {},
   "outputs": [],
   "source": [
    "# establishing environment\n",
    "import pandas as pd\n",
    "import numpy as np"
   ]
  },
  {
   "cell_type": "markdown",
   "metadata": {},
   "source": [
    "# Acquire\n",
    "Acquiring data from local csv files\n",
    "***"
   ]
  },
  {
   "cell_type": "code",
   "execution_count": 2,
   "metadata": {},
   "outputs": [],
   "source": [
    "# reading in card data and saving as DF\n",
    "cards = pd.read_csv('hearthstone_standard_cards.csv')\n",
    "\n",
    "# reading in card classes and saving as DF\n",
    "classes = pd.read_csv('classes.csv')\n",
    "\n",
    "# reading in minion types data and saving as DF\n",
    "mtypes = pd.read_csv('minionTypes.csv')\n",
    "\n",
    "# reading in rarities data and saving as DF\n",
    "rarities = pd.read_csv('rarities.csv')\n",
    "\n",
    "# reading in set groups data and saving as DF\n",
    "setgroups = pd.read_csv('setGroups.csv')\n",
    "\n",
    "# reading in card sets data and saving as DF\n",
    "sets = pd.read_csv('sets.csv')\n",
    "\n",
    "# reading in types data and saving as DF\n",
    "ctypes = pd.read_csv('types.csv')\n",
    "\n",
    "# reading in keywords data and saving as DF\n",
    "keywords = pd.read_csv('keywords.csv')"
   ]
  },
  {
   "cell_type": "markdown",
   "metadata": {},
   "source": [
    "# Prepare\n",
    "Preparing data for exploration\n",
    "***"
   ]
  },
  {
   "cell_type": "markdown",
   "metadata": {},
   "source": [
    "## Merging Data frames"
   ]
  },
  {
   "cell_type": "markdown",
   "metadata": {},
   "source": [
    "### Merging 'classes' DF"
   ]
  },
  {
   "cell_type": "code",
   "execution_count": 3,
   "metadata": {},
   "outputs": [],
   "source": [
    "# merging 'classes' df\n",
    "df = pd.merge(cards, classes[['id', 'slug']], \n",
    "              left_on = 'classId', right_on = 'id', how=\"left\", \n",
    "              suffixes = (None, '_hero_class'))"
   ]
  },
  {
   "cell_type": "markdown",
   "metadata": {},
   "source": [
    "### Merging 'mtypes' DF"
   ]
  },
  {
   "cell_type": "code",
   "execution_count": 4,
   "metadata": {
    "scrolled": true
   },
   "outputs": [],
   "source": [
    "# merging 'mtypes' df\n",
    "df = pd.merge(df, mtypes[['id', 'slug']], \n",
    "              left_on = 'minionTypeId', right_on = 'id', how=\"left\", \n",
    "              suffixes = (None, '_minion_type_id'))"
   ]
  },
  {
   "cell_type": "markdown",
   "metadata": {},
   "source": [
    "### Merging 'rarities' DF"
   ]
  },
  {
   "cell_type": "code",
   "execution_count": 5,
   "metadata": {},
   "outputs": [],
   "source": [
    "# merging 'rarities' df\n",
    "df = pd.merge(df, rarities[['id', 'slug']], \n",
    "              left_on = 'rarityId', right_on = 'id', how=\"left\", \n",
    "              suffixes = (None, '_rarity'))"
   ]
  },
  {
   "cell_type": "markdown",
   "metadata": {},
   "source": [
    "### Merging 'setGroups' DF"
   ]
  },
  {
   "cell_type": "code",
   "execution_count": 6,
   "metadata": {},
   "outputs": [],
   "source": [
    "# merging 'setgroups' df\n",
    "df = pd.merge(df, sets[['id', 'slug', 'name']], \n",
    "              left_on = 'cardSetId', right_on = 'id', how=\"left\", \n",
    "              suffixes = (None, '_set'))"
   ]
  },
  {
   "cell_type": "markdown",
   "metadata": {},
   "source": [
    "### Merging 'ctypes' DF"
   ]
  },
  {
   "cell_type": "code",
   "execution_count": 7,
   "metadata": {},
   "outputs": [],
   "source": [
    "# merging 'ctypes' df\n",
    "df = pd.merge(df, ctypes[['id', 'slug']], \n",
    "              left_on = 'cardTypeId', right_on = 'id', how=\"left\", \n",
    "              suffixes = (None, '_card_type'))"
   ]
  },
  {
   "cell_type": "markdown",
   "metadata": {},
   "source": [
    "### Adding missing keyword to 'keywords' DF"
   ]
  },
  {
   "cell_type": "code",
   "execution_count": 8,
   "metadata": {},
   "outputs": [],
   "source": [
    "keywords.loc[len(keywords.index)] = ['64', 'start-of-game', 'Start of Game', \n",
    "                                     'Does something at the start of the Game.', \n",
    "                                     'Does something at the start of the Game.']"
   ]
  },
  {
   "cell_type": "markdown",
   "metadata": {},
   "source": [
    "### Merging 'keywords' DF"
   ]
  },
  {
   "cell_type": "code",
   "execution_count": 9,
   "metadata": {},
   "outputs": [],
   "source": [
    "# removing brackets and commas from keyword id column\n",
    "df.keywordIds = df.keywordIds.str.replace('\\]|,|\\[' , '')\n",
    "\n",
    "# splitting keyword ids into separate columns for each card\n",
    "kwdf = df[\"keywordIds\"].str.split(\" \", expand = True) \n",
    "\n",
    "# renaming columns\n",
    "kwdf.columns = ['keywordId1', 'keywordId2', 'keywordId3', 'keywordId4', 'keywordId5']\n",
    "\n",
    "# concatenating split keyword id columns with main df\n",
    "df = pd.concat([df, kwdf], axis=1)\n",
    "\n",
    "# converting keywords id column to str type to enable merge\n",
    "keywords.id = keywords.id.astype(str)\n",
    "\n",
    "# creating loop to add a column for the text name of each keyword ability of each card\n",
    "# via merging with keywords DF\n",
    "for x in kwdf.columns:\n",
    "    df = pd.merge(df, keywords[['id', 'slug']], \n",
    "              left_on = x, right_on = 'id', how = \"left\",\n",
    "              suffixes = (None, x + '_name'))"
   ]
  },
  {
   "cell_type": "markdown",
   "metadata": {},
   "source": [
    "## Checking for duplicate rows"
   ]
  },
  {
   "cell_type": "code",
   "execution_count": 10,
   "metadata": {},
   "outputs": [
    {
     "data": {
      "text/plain": [
       "(1289, 50)"
      ]
     },
     "execution_count": 10,
     "metadata": {},
     "output_type": "execute_result"
    }
   ],
   "source": [
    "# checking number of rows in current DF\n",
    "df.shape"
   ]
  },
  {
   "cell_type": "code",
   "execution_count": 11,
   "metadata": {
    "scrolled": true
   },
   "outputs": [
    {
     "data": {
      "text/plain": [
       "(1289, 50)"
      ]
     },
     "execution_count": 11,
     "metadata": {},
     "output_type": "execute_result"
    }
   ],
   "source": [
    "# Checking number of rows if duplicates were dropped\n",
    "df.drop_duplicates().shape"
   ]
  },
  {
   "cell_type": "markdown",
   "metadata": {},
   "source": [
    "- No duplicates found"
   ]
  },
  {
   "cell_type": "markdown",
   "metadata": {},
   "source": [
    "### Checking for proper data types, categorical columns (based on domain knowledge), and null counts"
   ]
  },
  {
   "cell_type": "code",
   "execution_count": 12,
   "metadata": {
    "scrolled": true
   },
   "outputs": [
    {
     "name": "stdout",
     "output_type": "stream",
     "text": [
      "<class 'pandas.core.frame.DataFrame'>\n",
      "Int64Index: 1289 entries, 0 to 1288\n",
      "Data columns (total 50 columns):\n",
      " #   Column               Non-Null Count  Dtype  \n",
      "---  ------               --------------  -----  \n",
      " 0   id                   1289 non-null   int64  \n",
      " 1   collectible          1289 non-null   int64  \n",
      " 2   slug                 1289 non-null   object \n",
      " 3   classId              1289 non-null   int64  \n",
      " 4   multiClassIds        1289 non-null   object \n",
      " 5   cardTypeId           1289 non-null   int64  \n",
      " 6   cardSetId            1289 non-null   int64  \n",
      " 7   rarityId             1289 non-null   int64  \n",
      " 8   artistName           1288 non-null   object \n",
      " 9   manaCost             1289 non-null   int64  \n",
      " 10  name                 1289 non-null   object \n",
      " 11  text                 1271 non-null   object \n",
      " 12  image                1289 non-null   object \n",
      " 13  imageGold            805 non-null    object \n",
      " 14  flavorText           1289 non-null   object \n",
      " 15  cropImage            1289 non-null   object \n",
      " 16  duels                708 non-null    object \n",
      " 17  minionTypeId         321 non-null    float64\n",
      " 18  health               825 non-null    float64\n",
      " 19  attack               860 non-null    float64\n",
      " 20  keywordIds           877 non-null    object \n",
      " 21  childIds             295 non-null    object \n",
      " 22  durability           48 non-null     float64\n",
      " 23  armor                6 non-null      float64\n",
      " 24  id_hero_class        1289 non-null   int64  \n",
      " 25  slug_hero_class      1289 non-null   object \n",
      " 26  id_minion_type_id    321 non-null    float64\n",
      " 27  slug_minion_type_id  321 non-null    object \n",
      " 28  id_rarity            1289 non-null   int64  \n",
      " 29  slug_rarity          1289 non-null   object \n",
      " 30  id_set               1289 non-null   int64  \n",
      " 31  slug_set             1289 non-null   object \n",
      " 32  name_set             1289 non-null   object \n",
      " 33  id_card_type         1289 non-null   int64  \n",
      " 34  slug_card_type       1289 non-null   object \n",
      " 35  keywordId1           877 non-null    object \n",
      " 36  keywordId2           285 non-null    object \n",
      " 37  keywordId3           34 non-null     object \n",
      " 38  keywordId4           4 non-null      object \n",
      " 39  keywordId5           2 non-null      object \n",
      " 40  idkeywordId1_name    871 non-null    object \n",
      " 41  slugkeywordId1_name  871 non-null    object \n",
      " 42  idkeywordId2_name    282 non-null    object \n",
      " 43  slugkeywordId2_name  282 non-null    object \n",
      " 44  idkeywordId3_name    34 non-null     object \n",
      " 45  slugkeywordId3_name  34 non-null     object \n",
      " 46  idkeywordId4_name    4 non-null      object \n",
      " 47  slugkeywordId4_name  4 non-null      object \n",
      " 48  idkeywordId5_name    2 non-null      object \n",
      " 49  slugkeywordId5_name  2 non-null      object \n",
      "dtypes: float64(6), int64(11), object(33)\n",
      "memory usage: 513.6+ KB\n"
     ]
    }
   ],
   "source": [
    "df.info()"
   ]
  },
  {
   "cell_type": "markdown",
   "metadata": {},
   "source": [
    "- The following columns will be dropped as they won't be needed for the expected operations of this project\n",
    "    - id, slug\n",
    "        - unique identifiers for cards, not needed since the 'name' column provides this while also being easier to reference\n",
    "    - artistName, image, imageGold, cropImage\n",
    "        - I won't be exploring images or artist names in this iteration of the project\n",
    "    - all columns reflecting key words with the exception of the boolean columns and the 'slug_keyword#_name' columns\n",
    "        - The exempted columns are sufficient for the project's expected operations\n",
    "     \n",
    "     \n",
    "- Based on my domain knowledge of the game, I'm inferring that several of the columns are categorical\n",
    "    - I need to create boolean columns for categorical columns (rarity, card set, etc.)\n",
    "\n",
    "\n",
    "- Many null values that need to be addressed\n",
    "    - text\n",
    "    - duels\n",
    "    - minion type id\n",
    "    - health\n",
    "    - attack\n",
    "    - child ids\n",
    "    - durability\n",
    "    - armor"
   ]
  },
  {
   "cell_type": "markdown",
   "metadata": {},
   "source": [
    "### Dropping columns that aren't needed for the expected operations of this project"
   ]
  },
  {
   "cell_type": "code",
   "execution_count": 13,
   "metadata": {
    "scrolled": true
   },
   "outputs": [],
   "source": [
    "# creating list of columns to drop\n",
    "columns_to_drop = ['id', 'slug', 'artistName', 'image', 'imageGold', 'flavorText', 'cropImage']\n",
    "\n",
    "# dropping columns\n",
    "df.drop(columns = columns_to_drop, inplace = True)"
   ]
  },
  {
   "cell_type": "markdown",
   "metadata": {},
   "source": [
    "# Creating boolean columns for categorical variables"
   ]
  },
  {
   "cell_type": "markdown",
   "metadata": {},
   "source": [
    "### Creating boolean columns for keywords"
   ]
  },
  {
   "cell_type": "code",
   "execution_count": 14,
   "metadata": {},
   "outputs": [],
   "source": [
    "# loop iterates through each keyword and creates a boolean column for it\n",
    "for kw in keywords.slug:\n",
    "    df['has_' + kw] = np.where(\n",
    "    (df.slugkeywordId1_name == kw) |\n",
    "    (df.slugkeywordId2_name == kw) |\n",
    "    (df.slugkeywordId3_name == kw) |\n",
    "    (df.slugkeywordId4_name == kw) |\n",
    "    (df.slugkeywordId5_name == kw), 1, 0)"
   ]
  },
  {
   "cell_type": "markdown",
   "metadata": {},
   "source": [
    "### Dropping keyword related columns that are no longer needed "
   ]
  },
  {
   "cell_type": "code",
   "execution_count": 15,
   "metadata": {},
   "outputs": [],
   "source": [
    "# creating empty list\n",
    "key_word_col_drop = []\n",
    "\n",
    "# iterating through columns in df and creating list of columns to drop\n",
    "for col in df.columns:\n",
    "    if 'keywordId' in col:\n",
    "        key_word_col_drop.append(col)\n",
    "        \n",
    "# dropping columns\n",
    "df.drop(columns = key_word_col_drop, inplace = True)"
   ]
  },
  {
   "cell_type": "markdown",
   "metadata": {},
   "source": [
    "### Creating boolean columns for class types"
   ]
  },
  {
   "cell_type": "code",
   "execution_count": 16,
   "metadata": {},
   "outputs": [],
   "source": [
    "# removing brackets and commas from multiclassids column\n",
    "df.multiClassIds = df.multiClassIds.str.replace('\\]|,|\\[' , '')\n",
    "\n",
    "# creating column that holds secondary class separate from primary class\n",
    "df['classId2'] = df[\"multiClassIds\"].str.split(\" \", expand = True)[1]\n",
    "\n",
    "# converting column to str type to enable merge with newly created column 'classId2'\n",
    "classes.id = classes.id.astype(str)\n",
    "\n",
    "# creating df containing columns for merge in order rename before merge without altering original classes DF\n",
    "classes2 = classes[['id', 'slug']]\n",
    "\n",
    "# renaming columns\n",
    "classes2.columns = ['classId2', 'slug_hero_class2']\n",
    "\n",
    "# merging 'classes' on secondary hero class id to get secondary class names\n",
    "df = pd.merge(df, classes2[['classId2', 'slug_hero_class2']], \n",
    "              on = 'classId2', how=\"left\")\n",
    "\n",
    "# creating boolean columns for each hero class\n",
    "for c in classes.slug:\n",
    "    df['is_' + c] = np.where(\n",
    "    (df.slug_hero_class == c) | (df.slug_hero_class2 == c), 1, 0)"
   ]
  },
  {
   "cell_type": "code",
   "execution_count": 47,
   "metadata": {
    "scrolled": true
   },
   "outputs": [
    {
     "data": {
      "text/html": [
       "<div>\n",
       "<style scoped>\n",
       "    .dataframe tbody tr th:only-of-type {\n",
       "        vertical-align: middle;\n",
       "    }\n",
       "\n",
       "    .dataframe tbody tr th {\n",
       "        vertical-align: top;\n",
       "    }\n",
       "\n",
       "    .dataframe thead th {\n",
       "        text-align: right;\n",
       "    }\n",
       "</style>\n",
       "<table border=\"1\" class=\"dataframe\">\n",
       "  <thead>\n",
       "    <tr style=\"text-align: right;\">\n",
       "      <th></th>\n",
       "      <th>collectible</th>\n",
       "      <th>classId</th>\n",
       "      <th>multiClassIds</th>\n",
       "      <th>cardTypeId</th>\n",
       "      <th>cardSetId</th>\n",
       "      <th>rarityId</th>\n",
       "      <th>manaCost</th>\n",
       "      <th>name</th>\n",
       "      <th>text</th>\n",
       "      <th>duels</th>\n",
       "      <th>...</th>\n",
       "      <th>is_druid</th>\n",
       "      <th>is_hunter</th>\n",
       "      <th>is_mage</th>\n",
       "      <th>is_paladin</th>\n",
       "      <th>is_priest</th>\n",
       "      <th>is_rogue</th>\n",
       "      <th>is_shaman</th>\n",
       "      <th>is_warlock</th>\n",
       "      <th>is_warrior</th>\n",
       "      <th>is_neutral</th>\n",
       "    </tr>\n",
       "  </thead>\n",
       "  <tbody>\n",
       "    <tr>\n",
       "      <th>1184</th>\n",
       "      <td>1</td>\n",
       "      <td>12</td>\n",
       "      <td>7 10</td>\n",
       "      <td>5</td>\n",
       "      <td>1443</td>\n",
       "      <td>1</td>\n",
       "      <td>5</td>\n",
       "      <td>Cutting Class</td>\n",
       "      <td>Draw 2 cards. Costs (1) less per Attack of you...</td>\n",
       "      <td>{'relevant': True, 'constructed': True}</td>\n",
       "      <td>...</td>\n",
       "      <td>0</td>\n",
       "      <td>0</td>\n",
       "      <td>0</td>\n",
       "      <td>0</td>\n",
       "      <td>0</td>\n",
       "      <td>0</td>\n",
       "      <td>0</td>\n",
       "      <td>0</td>\n",
       "      <td>1</td>\n",
       "      <td>1</td>\n",
       "    </tr>\n",
       "  </tbody>\n",
       "</table>\n",
       "<p>1 rows × 78 columns</p>\n",
       "</div>"
      ],
      "text/plain": [
       "      collectible  classId multiClassIds  cardTypeId  cardSetId  rarityId  \\\n",
       "1184            1       12          7 10           5       1443         1   \n",
       "\n",
       "      manaCost           name  \\\n",
       "1184         5  Cutting Class   \n",
       "\n",
       "                                                   text  \\\n",
       "1184  Draw 2 cards. Costs (1) less per Attack of you...   \n",
       "\n",
       "                                        duels  ...  is_druid  is_hunter  \\\n",
       "1184  {'relevant': True, 'constructed': True}  ...         0          0   \n",
       "\n",
       "      is_mage is_paladin  is_priest  is_rogue  is_shaman is_warlock  \\\n",
       "1184        0          0          0         0          0          0   \n",
       "\n",
       "      is_warrior is_neutral  \n",
       "1184           1          1  \n",
       "\n",
       "[1 rows x 78 columns]"
      ]
     },
     "execution_count": 47,
     "metadata": {},
     "output_type": "execute_result"
    }
   ],
   "source": [
    "df[df.name == 'Cutting Class']"
   ]
  },
  {
   "cell_type": "code",
   "execution_count": 48,
   "metadata": {},
   "outputs": [
    {
     "data": {
      "text/html": [
       "<div>\n",
       "<style scoped>\n",
       "    .dataframe tbody tr th:only-of-type {\n",
       "        vertical-align: middle;\n",
       "    }\n",
       "\n",
       "    .dataframe tbody tr th {\n",
       "        vertical-align: top;\n",
       "    }\n",
       "\n",
       "    .dataframe thead th {\n",
       "        text-align: right;\n",
       "    }\n",
       "</style>\n",
       "<table border=\"1\" class=\"dataframe\">\n",
       "  <thead>\n",
       "    <tr style=\"text-align: right;\">\n",
       "      <th></th>\n",
       "      <th>collectible</th>\n",
       "      <th>classId</th>\n",
       "      <th>multiClassIds</th>\n",
       "      <th>cardTypeId</th>\n",
       "      <th>cardSetId</th>\n",
       "      <th>rarityId</th>\n",
       "      <th>manaCost</th>\n",
       "      <th>name</th>\n",
       "      <th>text</th>\n",
       "      <th>duels</th>\n",
       "      <th>...</th>\n",
       "      <th>is_druid</th>\n",
       "      <th>is_hunter</th>\n",
       "      <th>is_mage</th>\n",
       "      <th>is_paladin</th>\n",
       "      <th>is_priest</th>\n",
       "      <th>is_rogue</th>\n",
       "      <th>is_shaman</th>\n",
       "      <th>is_warlock</th>\n",
       "      <th>is_warrior</th>\n",
       "      <th>is_neutral</th>\n",
       "    </tr>\n",
       "  </thead>\n",
       "  <tbody>\n",
       "    <tr>\n",
       "      <th>0</th>\n",
       "      <td>1</td>\n",
       "      <td>14</td>\n",
       "      <td></td>\n",
       "      <td>5</td>\n",
       "      <td>1463</td>\n",
       "      <td>1</td>\n",
       "      <td>0</td>\n",
       "      <td>Blur</td>\n",
       "      <td>Your hero can't take damage this turn.</td>\n",
       "      <td>{'relevant': True, 'constructed': True}</td>\n",
       "      <td>...</td>\n",
       "      <td>0</td>\n",
       "      <td>0</td>\n",
       "      <td>0</td>\n",
       "      <td>0</td>\n",
       "      <td>0</td>\n",
       "      <td>0</td>\n",
       "      <td>0</td>\n",
       "      <td>0</td>\n",
       "      <td>0</td>\n",
       "      <td>0</td>\n",
       "    </tr>\n",
       "    <tr>\n",
       "      <th>1</th>\n",
       "      <td>1</td>\n",
       "      <td>14</td>\n",
       "      <td></td>\n",
       "      <td>4</td>\n",
       "      <td>2</td>\n",
       "      <td>2</td>\n",
       "      <td>1</td>\n",
       "      <td>Shadowhoof Slayer</td>\n",
       "      <td>&lt;b&gt;Battlecry:&lt;/b&gt; Give your hero +1&amp;nbsp;Attac...</td>\n",
       "      <td>{'relevant': True, 'constructed': True}</td>\n",
       "      <td>...</td>\n",
       "      <td>0</td>\n",
       "      <td>0</td>\n",
       "      <td>0</td>\n",
       "      <td>0</td>\n",
       "      <td>0</td>\n",
       "      <td>0</td>\n",
       "      <td>0</td>\n",
       "      <td>0</td>\n",
       "      <td>0</td>\n",
       "      <td>0</td>\n",
       "    </tr>\n",
       "    <tr>\n",
       "      <th>2</th>\n",
       "      <td>1</td>\n",
       "      <td>14</td>\n",
       "      <td></td>\n",
       "      <td>4</td>\n",
       "      <td>1414</td>\n",
       "      <td>1</td>\n",
       "      <td>1</td>\n",
       "      <td>Crimson Sigil Runner</td>\n",
       "      <td>&lt;b&gt;Outcast:&lt;/b&gt; Draw a card.</td>\n",
       "      <td>NaN</td>\n",
       "      <td>...</td>\n",
       "      <td>0</td>\n",
       "      <td>0</td>\n",
       "      <td>0</td>\n",
       "      <td>0</td>\n",
       "      <td>0</td>\n",
       "      <td>0</td>\n",
       "      <td>0</td>\n",
       "      <td>0</td>\n",
       "      <td>0</td>\n",
       "      <td>0</td>\n",
       "    </tr>\n",
       "    <tr>\n",
       "      <th>3</th>\n",
       "      <td>1</td>\n",
       "      <td>14</td>\n",
       "      <td>14 3</td>\n",
       "      <td>5</td>\n",
       "      <td>1443</td>\n",
       "      <td>3</td>\n",
       "      <td>1</td>\n",
       "      <td>Demon Companion</td>\n",
       "      <td>Summon a random Demon Companion.</td>\n",
       "      <td>{'relevant': True, 'constructed': True}</td>\n",
       "      <td>...</td>\n",
       "      <td>0</td>\n",
       "      <td>1</td>\n",
       "      <td>0</td>\n",
       "      <td>0</td>\n",
       "      <td>0</td>\n",
       "      <td>0</td>\n",
       "      <td>0</td>\n",
       "      <td>0</td>\n",
       "      <td>0</td>\n",
       "      <td>0</td>\n",
       "    </tr>\n",
       "    <tr>\n",
       "      <th>4</th>\n",
       "      <td>1</td>\n",
       "      <td>14</td>\n",
       "      <td></td>\n",
       "      <td>5</td>\n",
       "      <td>1443</td>\n",
       "      <td>1</td>\n",
       "      <td>1</td>\n",
       "      <td>Double Jump</td>\n",
       "      <td>Draw an &lt;b&gt;Outcast&lt;/b&gt; card from your deck.</td>\n",
       "      <td>{'relevant': True, 'constructed': True}</td>\n",
       "      <td>...</td>\n",
       "      <td>0</td>\n",
       "      <td>0</td>\n",
       "      <td>0</td>\n",
       "      <td>0</td>\n",
       "      <td>0</td>\n",
       "      <td>0</td>\n",
       "      <td>0</td>\n",
       "      <td>0</td>\n",
       "      <td>0</td>\n",
       "      <td>0</td>\n",
       "    </tr>\n",
       "    <tr>\n",
       "      <th>...</th>\n",
       "      <td>...</td>\n",
       "      <td>...</td>\n",
       "      <td>...</td>\n",
       "      <td>...</td>\n",
       "      <td>...</td>\n",
       "      <td>...</td>\n",
       "      <td>...</td>\n",
       "      <td>...</td>\n",
       "      <td>...</td>\n",
       "      <td>...</td>\n",
       "      <td>...</td>\n",
       "      <td>...</td>\n",
       "      <td>...</td>\n",
       "      <td>...</td>\n",
       "      <td>...</td>\n",
       "      <td>...</td>\n",
       "      <td>...</td>\n",
       "      <td>...</td>\n",
       "      <td>...</td>\n",
       "      <td>...</td>\n",
       "      <td>...</td>\n",
       "    </tr>\n",
       "    <tr>\n",
       "      <th>1284</th>\n",
       "      <td>1</td>\n",
       "      <td>12</td>\n",
       "      <td></td>\n",
       "      <td>4</td>\n",
       "      <td>1466</td>\n",
       "      <td>5</td>\n",
       "      <td>10</td>\n",
       "      <td>C'Thun, the Shattered</td>\n",
       "      <td>&lt;b&gt;Start of Game:&lt;/b&gt; Break into pieces. &lt;b&gt;Ba...</td>\n",
       "      <td>{'relevant': True, 'constructed': True}</td>\n",
       "      <td>...</td>\n",
       "      <td>0</td>\n",
       "      <td>0</td>\n",
       "      <td>0</td>\n",
       "      <td>0</td>\n",
       "      <td>0</td>\n",
       "      <td>0</td>\n",
       "      <td>0</td>\n",
       "      <td>0</td>\n",
       "      <td>0</td>\n",
       "      <td>1</td>\n",
       "    </tr>\n",
       "    <tr>\n",
       "      <th>1285</th>\n",
       "      <td>1</td>\n",
       "      <td>12</td>\n",
       "      <td></td>\n",
       "      <td>4</td>\n",
       "      <td>1466</td>\n",
       "      <td>4</td>\n",
       "      <td>10</td>\n",
       "      <td>Darkmoon Rabbit</td>\n",
       "      <td>&lt;b&gt;Rush&lt;/b&gt;, &lt;b&gt;Poisonous&lt;/b&gt; Also damages the...</td>\n",
       "      <td>{'relevant': True, 'constructed': True}</td>\n",
       "      <td>...</td>\n",
       "      <td>0</td>\n",
       "      <td>0</td>\n",
       "      <td>0</td>\n",
       "      <td>0</td>\n",
       "      <td>0</td>\n",
       "      <td>0</td>\n",
       "      <td>0</td>\n",
       "      <td>0</td>\n",
       "      <td>0</td>\n",
       "      <td>1</td>\n",
       "    </tr>\n",
       "    <tr>\n",
       "      <th>1286</th>\n",
       "      <td>1</td>\n",
       "      <td>12</td>\n",
       "      <td></td>\n",
       "      <td>4</td>\n",
       "      <td>1466</td>\n",
       "      <td>5</td>\n",
       "      <td>10</td>\n",
       "      <td>N'Zoth, God of the Deep</td>\n",
       "      <td>&lt;b&gt;Battlecry:&lt;/b&gt; Resurrect a friendly minion ...</td>\n",
       "      <td>{'relevant': True, 'constructed': True}</td>\n",
       "      <td>...</td>\n",
       "      <td>0</td>\n",
       "      <td>0</td>\n",
       "      <td>0</td>\n",
       "      <td>0</td>\n",
       "      <td>0</td>\n",
       "      <td>0</td>\n",
       "      <td>0</td>\n",
       "      <td>0</td>\n",
       "      <td>0</td>\n",
       "      <td>1</td>\n",
       "    </tr>\n",
       "    <tr>\n",
       "      <th>1287</th>\n",
       "      <td>1</td>\n",
       "      <td>12</td>\n",
       "      <td></td>\n",
       "      <td>4</td>\n",
       "      <td>1466</td>\n",
       "      <td>5</td>\n",
       "      <td>10</td>\n",
       "      <td>Y'Shaarj, the Defiler</td>\n",
       "      <td>&lt;b&gt;Battlecry:&lt;/b&gt; Add a copy of each &lt;b&gt;Corrup...</td>\n",
       "      <td>{'relevant': True, 'constructed': True}</td>\n",
       "      <td>...</td>\n",
       "      <td>0</td>\n",
       "      <td>0</td>\n",
       "      <td>0</td>\n",
       "      <td>0</td>\n",
       "      <td>0</td>\n",
       "      <td>0</td>\n",
       "      <td>0</td>\n",
       "      <td>0</td>\n",
       "      <td>0</td>\n",
       "      <td>1</td>\n",
       "    </tr>\n",
       "    <tr>\n",
       "      <th>1288</th>\n",
       "      <td>1</td>\n",
       "      <td>12</td>\n",
       "      <td></td>\n",
       "      <td>4</td>\n",
       "      <td>1466</td>\n",
       "      <td>5</td>\n",
       "      <td>10</td>\n",
       "      <td>Yogg-Saron, Master of Fate</td>\n",
       "      <td>&lt;b&gt;Battlecry:&lt;/b&gt; If you've cast 10 spells thi...</td>\n",
       "      <td>{'relevant': True, 'constructed': True}</td>\n",
       "      <td>...</td>\n",
       "      <td>0</td>\n",
       "      <td>0</td>\n",
       "      <td>0</td>\n",
       "      <td>0</td>\n",
       "      <td>0</td>\n",
       "      <td>0</td>\n",
       "      <td>0</td>\n",
       "      <td>0</td>\n",
       "      <td>0</td>\n",
       "      <td>1</td>\n",
       "    </tr>\n",
       "  </tbody>\n",
       "</table>\n",
       "<p>1289 rows × 78 columns</p>\n",
       "</div>"
      ],
      "text/plain": [
       "      collectible  classId multiClassIds  cardTypeId  cardSetId  rarityId  \\\n",
       "0               1       14                         5       1463         1   \n",
       "1               1       14                         4          2         2   \n",
       "2               1       14                         4       1414         1   \n",
       "3               1       14          14 3           5       1443         3   \n",
       "4               1       14                         5       1443         1   \n",
       "...           ...      ...           ...         ...        ...       ...   \n",
       "1284            1       12                         4       1466         5   \n",
       "1285            1       12                         4       1466         4   \n",
       "1286            1       12                         4       1466         5   \n",
       "1287            1       12                         4       1466         5   \n",
       "1288            1       12                         4       1466         5   \n",
       "\n",
       "      manaCost                        name  \\\n",
       "0            0                        Blur   \n",
       "1            1           Shadowhoof Slayer   \n",
       "2            1        Crimson Sigil Runner   \n",
       "3            1             Demon Companion   \n",
       "4            1                 Double Jump   \n",
       "...        ...                         ...   \n",
       "1284        10       C'Thun, the Shattered   \n",
       "1285        10             Darkmoon Rabbit   \n",
       "1286        10     N'Zoth, God of the Deep   \n",
       "1287        10       Y'Shaarj, the Defiler   \n",
       "1288        10  Yogg-Saron, Master of Fate   \n",
       "\n",
       "                                                   text  \\\n",
       "0                Your hero can't take damage this turn.   \n",
       "1     <b>Battlecry:</b> Give your hero +1&nbsp;Attac...   \n",
       "2                          <b>Outcast:</b> Draw a card.   \n",
       "3                      Summon a random Demon Companion.   \n",
       "4           Draw an <b>Outcast</b> card from your deck.   \n",
       "...                                                 ...   \n",
       "1284  <b>Start of Game:</b> Break into pieces. <b>Ba...   \n",
       "1285  <b>Rush</b>, <b>Poisonous</b> Also damages the...   \n",
       "1286  <b>Battlecry:</b> Resurrect a friendly minion ...   \n",
       "1287  <b>Battlecry:</b> Add a copy of each <b>Corrup...   \n",
       "1288  <b>Battlecry:</b> If you've cast 10 spells thi...   \n",
       "\n",
       "                                        duels  ...  is_druid  is_hunter  \\\n",
       "0     {'relevant': True, 'constructed': True}  ...         0          0   \n",
       "1     {'relevant': True, 'constructed': True}  ...         0          0   \n",
       "2                                         NaN  ...         0          0   \n",
       "3     {'relevant': True, 'constructed': True}  ...         0          1   \n",
       "4     {'relevant': True, 'constructed': True}  ...         0          0   \n",
       "...                                       ...  ...       ...        ...   \n",
       "1284  {'relevant': True, 'constructed': True}  ...         0          0   \n",
       "1285  {'relevant': True, 'constructed': True}  ...         0          0   \n",
       "1286  {'relevant': True, 'constructed': True}  ...         0          0   \n",
       "1287  {'relevant': True, 'constructed': True}  ...         0          0   \n",
       "1288  {'relevant': True, 'constructed': True}  ...         0          0   \n",
       "\n",
       "      is_mage is_paladin  is_priest  is_rogue  is_shaman is_warlock  \\\n",
       "0           0          0          0         0          0          0   \n",
       "1           0          0          0         0          0          0   \n",
       "2           0          0          0         0          0          0   \n",
       "3           0          0          0         0          0          0   \n",
       "4           0          0          0         0          0          0   \n",
       "...       ...        ...        ...       ...        ...        ...   \n",
       "1284        0          0          0         0          0          0   \n",
       "1285        0          0          0         0          0          0   \n",
       "1286        0          0          0         0          0          0   \n",
       "1287        0          0          0         0          0          0   \n",
       "1288        0          0          0         0          0          0   \n",
       "\n",
       "      is_warrior is_neutral  \n",
       "0              0          0  \n",
       "1              0          0  \n",
       "2              0          0  \n",
       "3              0          0  \n",
       "4              0          0  \n",
       "...          ...        ...  \n",
       "1284           0          1  \n",
       "1285           0          1  \n",
       "1286           0          1  \n",
       "1287           0          1  \n",
       "1288           0          1  \n",
       "\n",
       "[1289 rows x 78 columns]"
      ]
     },
     "execution_count": 48,
     "metadata": {},
     "output_type": "execute_result"
    }
   ],
   "source": [
    "df"
   ]
  },
  {
   "cell_type": "code",
   "execution_count": 49,
   "metadata": {},
   "outputs": [
    {
     "data": {
      "text/html": [
       "<div>\n",
       "<style scoped>\n",
       "    .dataframe tbody tr th:only-of-type {\n",
       "        vertical-align: middle;\n",
       "    }\n",
       "\n",
       "    .dataframe tbody tr th {\n",
       "        vertical-align: top;\n",
       "    }\n",
       "\n",
       "    .dataframe thead th {\n",
       "        text-align: right;\n",
       "    }\n",
       "</style>\n",
       "<table border=\"1\" class=\"dataframe\">\n",
       "  <thead>\n",
       "    <tr style=\"text-align: right;\">\n",
       "      <th></th>\n",
       "      <th>slug</th>\n",
       "      <th>id</th>\n",
       "      <th>name</th>\n",
       "      <th>cardId</th>\n",
       "    </tr>\n",
       "  </thead>\n",
       "  <tbody>\n",
       "    <tr>\n",
       "      <th>0</th>\n",
       "      <td>demonhunter</td>\n",
       "      <td>14</td>\n",
       "      <td>Demon Hunter</td>\n",
       "      <td>56550.0</td>\n",
       "    </tr>\n",
       "    <tr>\n",
       "      <th>1</th>\n",
       "      <td>druid</td>\n",
       "      <td>2</td>\n",
       "      <td>Druid</td>\n",
       "      <td>274.0</td>\n",
       "    </tr>\n",
       "    <tr>\n",
       "      <th>2</th>\n",
       "      <td>hunter</td>\n",
       "      <td>3</td>\n",
       "      <td>Hunter</td>\n",
       "      <td>31.0</td>\n",
       "    </tr>\n",
       "    <tr>\n",
       "      <th>3</th>\n",
       "      <td>mage</td>\n",
       "      <td>4</td>\n",
       "      <td>Mage</td>\n",
       "      <td>637.0</td>\n",
       "    </tr>\n",
       "    <tr>\n",
       "      <th>4</th>\n",
       "      <td>paladin</td>\n",
       "      <td>5</td>\n",
       "      <td>Paladin</td>\n",
       "      <td>671.0</td>\n",
       "    </tr>\n",
       "    <tr>\n",
       "      <th>5</th>\n",
       "      <td>priest</td>\n",
       "      <td>6</td>\n",
       "      <td>Priest</td>\n",
       "      <td>813.0</td>\n",
       "    </tr>\n",
       "    <tr>\n",
       "      <th>6</th>\n",
       "      <td>rogue</td>\n",
       "      <td>7</td>\n",
       "      <td>Rogue</td>\n",
       "      <td>930.0</td>\n",
       "    </tr>\n",
       "    <tr>\n",
       "      <th>7</th>\n",
       "      <td>shaman</td>\n",
       "      <td>8</td>\n",
       "      <td>Shaman</td>\n",
       "      <td>1066.0</td>\n",
       "    </tr>\n",
       "    <tr>\n",
       "      <th>8</th>\n",
       "      <td>warlock</td>\n",
       "      <td>9</td>\n",
       "      <td>Warlock</td>\n",
       "      <td>893.0</td>\n",
       "    </tr>\n",
       "    <tr>\n",
       "      <th>9</th>\n",
       "      <td>warrior</td>\n",
       "      <td>10</td>\n",
       "      <td>Warrior</td>\n",
       "      <td>7.0</td>\n",
       "    </tr>\n",
       "    <tr>\n",
       "      <th>10</th>\n",
       "      <td>neutral</td>\n",
       "      <td>12</td>\n",
       "      <td>Neutral</td>\n",
       "      <td>NaN</td>\n",
       "    </tr>\n",
       "  </tbody>\n",
       "</table>\n",
       "</div>"
      ],
      "text/plain": [
       "           slug  id          name   cardId\n",
       "0   demonhunter  14  Demon Hunter  56550.0\n",
       "1         druid   2         Druid    274.0\n",
       "2        hunter   3        Hunter     31.0\n",
       "3          mage   4          Mage    637.0\n",
       "4       paladin   5       Paladin    671.0\n",
       "5        priest   6        Priest    813.0\n",
       "6         rogue   7         Rogue    930.0\n",
       "7        shaman   8        Shaman   1066.0\n",
       "8       warlock   9       Warlock    893.0\n",
       "9       warrior  10       Warrior      7.0\n",
       "10      neutral  12       Neutral      NaN"
      ]
     },
     "execution_count": 49,
     "metadata": {},
     "output_type": "execute_result"
    }
   ],
   "source": [
    "classes"
   ]
  },
  {
   "cell_type": "markdown",
   "metadata": {},
   "source": [
    "# Addressing Null Values"
   ]
  },
  {
   "cell_type": "code",
   "execution_count": 17,
   "metadata": {},
   "outputs": [
    {
     "name": "stdout",
     "output_type": "stream",
     "text": [
      "<class 'pandas.core.frame.DataFrame'>\n",
      "Int64Index: 1289 entries, 0 to 1288\n",
      "Data columns (total 67 columns):\n",
      " #   Column               Non-Null Count  Dtype  \n",
      "---  ------               --------------  -----  \n",
      " 0   collectible          1289 non-null   int64  \n",
      " 1   classId              1289 non-null   int64  \n",
      " 2   multiClassIds        1289 non-null   object \n",
      " 3   cardTypeId           1289 non-null   int64  \n",
      " 4   cardSetId            1289 non-null   int64  \n",
      " 5   rarityId             1289 non-null   int64  \n",
      " 6   manaCost             1289 non-null   int64  \n",
      " 7   name                 1289 non-null   object \n",
      " 8   text                 1271 non-null   object \n",
      " 9   duels                708 non-null    object \n",
      " 10  minionTypeId         321 non-null    float64\n",
      " 11  health               825 non-null    float64\n",
      " 12  attack               860 non-null    float64\n",
      " 13  childIds             295 non-null    object \n",
      " 14  durability           48 non-null     float64\n",
      " 15  armor                6 non-null      float64\n",
      " 16  id_hero_class        1289 non-null   int64  \n",
      " 17  slug_hero_class      1289 non-null   object \n",
      " 18  id_minion_type_id    321 non-null    float64\n",
      " 19  slug_minion_type_id  321 non-null    object \n",
      " 20  id_rarity            1289 non-null   int64  \n",
      " 21  slug_rarity          1289 non-null   object \n",
      " 22  id_set               1289 non-null   int64  \n",
      " 23  slug_set             1289 non-null   object \n",
      " 24  name_set             1289 non-null   object \n",
      " 25  id_card_type         1289 non-null   int64  \n",
      " 26  slug_card_type       1289 non-null   object \n",
      " 27  has_taunt            1289 non-null   int64  \n",
      " 28  has_spellpower       1289 non-null   int64  \n",
      " 29  has_divine-shield    1289 non-null   int64  \n",
      " 30  has_charge           1289 non-null   int64  \n",
      " 31  has_secret           1289 non-null   int64  \n",
      " 32  has_stealth          1289 non-null   int64  \n",
      " 33  has_battlecry        1289 non-null   int64  \n",
      " 34  has_freeze           1289 non-null   int64  \n",
      " 35  has_windfury         1289 non-null   int64  \n",
      " 36  has_deathrattle      1289 non-null   int64  \n",
      " 37  has_combo            1289 non-null   int64  \n",
      " 38  has_overload         1289 non-null   int64  \n",
      " 39  has_silence          1289 non-null   int64  \n",
      " 40  has_counter          1289 non-null   int64  \n",
      " 41  has_immune           1289 non-null   int64  \n",
      " 42  has_spare-part       1289 non-null   int64  \n",
      " 43  has_inspire          1289 non-null   int64  \n",
      " 44  has_discover         1289 non-null   int64  \n",
      " 45  has_quest            1289 non-null   int64  \n",
      " 46  has_poisonous        1289 non-null   int64  \n",
      " 47  has_adapt            1289 non-null   int64  \n",
      " 48  has_lifesteal        1289 non-null   int64  \n",
      " 49  has_recruit          1289 non-null   int64  \n",
      " 50  has_echo             1289 non-null   int64  \n",
      " 51  has_rush             1289 non-null   int64  \n",
      " 52  has_overkill         1289 non-null   int64  \n",
      " 53  has_modular          1289 non-null   int64  \n",
      " 54  has_evilzug          1289 non-null   int64  \n",
      " 55  has_twinspell        1289 non-null   int64  \n",
      " 56  has_mega-windfury    1289 non-null   int64  \n",
      " 57  has_reborn           1289 non-null   int64  \n",
      " 58  has_empower          1289 non-null   int64  \n",
      " 59  has_outcast          1289 non-null   int64  \n",
      " 60  has_spellburst       1289 non-null   int64  \n",
      " 61  has_sidequest        1289 non-null   int64  \n",
      " 62  has_corrupt          1289 non-null   int64  \n",
      " 63  has_start-of-combat  1289 non-null   int64  \n",
      " 64  has_start-of-game    1289 non-null   int64  \n",
      " 65  classId2             50 non-null     object \n",
      " 66  slug_hero_class_2    50 non-null     object \n",
      "dtypes: float64(6), int64(48), object(13)\n",
      "memory usage: 724.8+ KB\n"
     ]
    }
   ],
   "source": [
    "df.info()"
   ]
  },
  {
   "cell_type": "markdown",
   "metadata": {},
   "source": [
    "### Variable: text"
   ]
  },
  {
   "cell_type": "code",
   "execution_count": 18,
   "metadata": {},
   "outputs": [
    {
     "data": {
      "text/plain": [
       "<b>Taunt</b>                                                                           15\n",
       "<b>Charge</b>                                                                           7\n",
       "<b>Stealth</b>                                                                          6\n",
       "<b>Spell Damage +1</b>                                                                  6\n",
       "<b>Divine Shield</b>                                                                    5\n",
       "                                                                                       ..\n",
       "Deal 2 damage to an undamaged minion.                                                   1\n",
       "<b>Battlecry:</b> Summon a 2/2&nbsp;Squire.                                             1\n",
       "<b>Choose One -</b> +5 Attack; or +5 Health and <b>Taunt</b>.                           1\n",
       "<b>Battlecry:</b> Give your other minions \"<b>Deathrattle:</b> Summon a 1/1 Demon.\"     1\n",
       "After a friendly Mech dies, add a random Mech to your hand.                             1\n",
       "Name: text, Length: 1214, dtype: int64"
      ]
     },
     "execution_count": 18,
     "metadata": {},
     "output_type": "execute_result"
    }
   ],
   "source": [
    "# checking values in text box\n",
    "df.text.value_counts()"
   ]
  },
  {
   "cell_type": "code",
   "execution_count": 19,
   "metadata": {},
   "outputs": [],
   "source": [
    "# filling null text values with 'no effect'\n",
    "df[\"text\"].fillna(\"no_effect\", inplace = True) "
   ]
  },
  {
   "cell_type": "markdown",
   "metadata": {},
   "source": [
    "### Variable: duels"
   ]
  },
  {
   "cell_type": "code",
   "execution_count": 20,
   "metadata": {},
   "outputs": [
    {
     "data": {
      "text/plain": [
       "{'relevant': True, 'constructed': True}    708\n",
       "NaN                                        581\n",
       "Name: duels, dtype: int64"
      ]
     },
     "execution_count": 20,
     "metadata": {},
     "output_type": "execute_result"
    }
   ],
   "source": [
    "# checking duels values\n",
    "df.duels.value_counts(dropna = False)"
   ]
  },
  {
   "cell_type": "code",
   "execution_count": 21,
   "metadata": {},
   "outputs": [],
   "source": [
    "# updating duels column so that cards that were allowed in duels have value of 1 and 0 otherwise\n",
    "df['duels'] = np.where((df.duels == \"{'relevant': True, 'constructed': True}\"), 1, 0)"
   ]
  },
  {
   "cell_type": "markdown",
   "metadata": {},
   "source": [
    "### Variable: minionTypeId"
   ]
  },
  {
   "cell_type": "code",
   "execution_count": 22,
   "metadata": {},
   "outputs": [
    {
     "data": {
      "text/plain": [
       "NaN     968\n",
       "20.0     75\n",
       "15.0     63\n",
       "18.0     51\n",
       "24.0     50\n",
       "17.0     32\n",
       "14.0     25\n",
       "23.0     18\n",
       "21.0      6\n",
       "26.0      1\n",
       "Name: minionTypeId, dtype: int64"
      ]
     },
     "execution_count": 22,
     "metadata": {},
     "output_type": "execute_result"
    }
   ],
   "source": [
    "# checking duels values\n",
    "df.minionTypeId.value_counts(dropna = False)"
   ]
  },
  {
   "cell_type": "code",
   "execution_count": 23,
   "metadata": {},
   "outputs": [],
   "source": [
    "# converting nulls to 'neutral' type\n",
    "df['minionTypeId'] = np.where((df.minionTypeId.isnull() == True), 'Neutral', df.minionTypeId)"
   ]
  },
  {
   "cell_type": "markdown",
   "metadata": {},
   "source": [
    "### Variables: health, attack, durability, armor\n",
    "All of these variables respective columns have null values since none of these variables apply to every card (examples: only minions have health while only weapons have durability). Ill be leaving the nulls in these particular columns for the reasons listed below.\n",
    "\n",
    "- I don't want to impute a string such as 'NA' as this will alter the numeric data type of the column\n",
    "- I don't want to impute a false numeric value as the null state is more accurate in this instance\n",
    "- I'll be isolating the appropriate card types when exploring this variable so the nulls won't impact exploration\n",
    "- This project will not include modeling so leaving nulls in these columns won't be an issue for modeling either\n",
    "\n",
    "However, I will be checking for instances of attributes being applied to the wrong card types and correcting them as needed. For example, a weapon having health or a minion having durability."
   ]
  },
  {
   "cell_type": "markdown",
   "metadata": {},
   "source": [
    "### Variable: childIds"
   ]
  },
  {
   "cell_type": "code",
   "execution_count": 24,
   "metadata": {},
   "outputs": [
    {
     "data": {
      "text/plain": [
       "NaN                                                                       994\n",
       "[52897, 52900, 53160, 53161, 53162, 53163, 55378, 60588, 64652, 64653]     15\n",
       "[59723]                                                                     8\n",
       "[53921]                                                                     3\n",
       "[56927]                                                                     3\n",
       "                                                                         ... \n",
       "[54541]                                                                     1\n",
       "[325, 451]                                                                  1\n",
       "[55778]                                                                     1\n",
       "[61272]                                                                     1\n",
       "[53310]                                                                     1\n",
       "Name: childIds, Length: 261, dtype: int64"
      ]
     },
     "execution_count": 24,
     "metadata": {},
     "output_type": "execute_result"
    }
   ],
   "source": [
    "# checking duels values\n",
    "df.childIds.value_counts(dropna = False)"
   ]
  },
  {
   "cell_type": "code",
   "execution_count": 25,
   "metadata": {},
   "outputs": [],
   "source": [
    "# filling nulls with \"no_childid\"\n",
    "df.childIds.fillna(\"no_childid\", inplace = True) "
   ]
  },
  {
   "cell_type": "code",
   "execution_count": null,
   "metadata": {},
   "outputs": [],
   "source": []
  }
 ],
 "metadata": {
  "kernelspec": {
   "display_name": "Python 3",
   "language": "python",
   "name": "python3"
  },
  "language_info": {
   "codemirror_mode": {
    "name": "ipython",
    "version": 3
   },
   "file_extension": ".py",
   "mimetype": "text/x-python",
   "name": "python",
   "nbconvert_exporter": "python",
   "pygments_lexer": "ipython3",
   "version": "3.7.6"
  }
 },
 "nbformat": 4,
 "nbformat_minor": 4
}
