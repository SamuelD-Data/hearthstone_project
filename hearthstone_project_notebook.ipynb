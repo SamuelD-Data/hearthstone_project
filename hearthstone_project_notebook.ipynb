{
 "cells": [
  {
   "cell_type": "markdown",
   "metadata": {},
   "source": [
    "# Hearthstone Project\n",
    "***\n",
    "***"
   ]
  },
  {
   "cell_type": "markdown",
   "metadata": {},
   "source": [
    "# Setup\n",
    "***"
   ]
  },
  {
   "cell_type": "code",
   "execution_count": 1,
   "metadata": {},
   "outputs": [],
   "source": [
    "# establishing environment\n",
    "import pandas as pd\n",
    "import numpy as np"
   ]
  },
  {
   "cell_type": "markdown",
   "metadata": {},
   "source": [
    "# Acquire\n",
    "Acquiring data from local csv files\n",
    "***"
   ]
  },
  {
   "cell_type": "code",
   "execution_count": 90,
   "metadata": {},
   "outputs": [],
   "source": [
    "# reading in card data and saving as DF\n",
    "cards = pd.read_csv('hearthstone_standard_cards.csv')\n",
    "\n",
    "# reading in card classes and saving as DF\n",
    "classes = pd.read_csv('classes.csv')\n",
    "\n",
    "# reading in minion types data and saving as DF\n",
    "mtypes = pd.read_csv('minionTypes.csv')\n",
    "\n",
    "# reading in rarities data and saving as DF\n",
    "rarities = pd.read_csv('rarities.csv')\n",
    "\n",
    "# reading in set groups data and saving as DF\n",
    "setgroups = pd.read_csv('setGroups.csv')\n",
    "\n",
    "# reading in card sets data and saving as DF\n",
    "sets = pd.read_csv('sets.csv')\n",
    "\n",
    "# reading in types data and saving as DF\n",
    "ctypes = pd.read_csv('types.csv')\n",
    "\n",
    "# reading in keywords data and saving as DF\n",
    "keywords = pd.read_csv('keywords.csv')"
   ]
  },
  {
   "cell_type": "markdown",
   "metadata": {},
   "source": [
    "# Prepare\n",
    "Preparing data for exploration\n",
    "***"
   ]
  },
  {
   "cell_type": "markdown",
   "metadata": {},
   "source": [
    "### Merging 'classes' DF"
   ]
  },
  {
   "cell_type": "code",
   "execution_count": 3,
   "metadata": {},
   "outputs": [],
   "source": [
    "# merging 'classes' df\n",
    "df = pd.merge(cards, classes[['id', 'slug']], \n",
    "              left_on = 'classId', right_on = 'id', how=\"left\", \n",
    "              suffixes = (None, '_hero_class'))"
   ]
  },
  {
   "cell_type": "markdown",
   "metadata": {},
   "source": [
    "### Merging 'mtypes' DF"
   ]
  },
  {
   "cell_type": "code",
   "execution_count": 4,
   "metadata": {
    "scrolled": true
   },
   "outputs": [],
   "source": [
    "# merging 'mtypes' df\n",
    "df = pd.merge(df, mtypes[['id', 'slug']], \n",
    "              left_on = 'minionTypeId', right_on = 'id', how=\"left\", \n",
    "              suffixes = (None, '_minion_type_id'))"
   ]
  },
  {
   "cell_type": "markdown",
   "metadata": {},
   "source": [
    "### Merging 'rarities' DF"
   ]
  },
  {
   "cell_type": "code",
   "execution_count": 5,
   "metadata": {},
   "outputs": [],
   "source": [
    "# merging 'rarities' df\n",
    "df = pd.merge(df, rarities[['id', 'slug']], \n",
    "              left_on = 'rarityId', right_on = 'id', how=\"left\", \n",
    "              suffixes = (None, '_rarity'))"
   ]
  },
  {
   "cell_type": "markdown",
   "metadata": {},
   "source": [
    "### Merging 'setGroups' DF"
   ]
  },
  {
   "cell_type": "code",
   "execution_count": 6,
   "metadata": {},
   "outputs": [],
   "source": [
    "# merging 'setgroups' df\n",
    "df = pd.merge(df, sets[['id', 'slug', 'name']], \n",
    "              left_on = 'cardSetId', right_on = 'id', how=\"left\", \n",
    "              suffixes = (None, '_set'))"
   ]
  },
  {
   "cell_type": "markdown",
   "metadata": {},
   "source": [
    "### Merging 'ctypes' DF"
   ]
  },
  {
   "cell_type": "code",
   "execution_count": 7,
   "metadata": {},
   "outputs": [],
   "source": [
    "# merging 'ctypes' df\n",
    "df = pd.merge(df, ctypes[['id', 'slug']], \n",
    "              left_on = 'cardTypeId', right_on = 'id', how=\"left\", \n",
    "              suffixes = (None, '_card_type'))"
   ]
  },
  {
   "cell_type": "markdown",
   "metadata": {},
   "source": [
    "### Merging 'keywords' DF"
   ]
  },
  {
   "cell_type": "code",
   "execution_count": 8,
   "metadata": {},
   "outputs": [],
   "source": [
    "# removing brackets and commas from keyword id column\n",
    "df.keywordIds = df.keywordIds.str.replace('\\]|,|\\[' , '')\n",
    "\n",
    "# splitting keyword ids into separate columns for each card\n",
    "kwdf = df[\"keywordIds\"].str.split(\" \", expand = True) \n",
    "\n",
    "# renaming columns\n",
    "kwdf.columns = ['keywordId1', 'keywordId2', 'keywordId3', 'keywordId4', 'keywordId5']\n",
    "\n",
    "# concatenating split keyword id columns with main df\n",
    "df = pd.concat([df, kwdf], axis=1)\n",
    "\n",
    "# converting keywords id column to str type to enable merge\n",
    "keywords.id = keywords.id.astype(str)\n",
    "\n",
    "# creating loop to add a column for the text name of each keyword ability of each card\n",
    "# via merging with keywords DF\n",
    "for x in kwdf.columns:\n",
    "    df = pd.merge(df, keywords[['id', 'slug']], \n",
    "              left_on = x, right_on = 'id', how = \"left\",\n",
    "              suffixes = (None, x + '_name'))"
   ]
  },
  {
   "cell_type": "code",
   "execution_count": 9,
   "metadata": {},
   "outputs": [],
   "source": [
    "# creating column in main df for each keyword in keywords df\n",
    "#for kw in keywords.slug:\n",
    " #   df['has_' + kw] = 0\n",
    "    \n",
    "#df['has_taunt'] = np.where((df.keywordIds.str.contains('8 ', na = 0)), 1, 0)"
   ]
  },
  {
   "cell_type": "markdown",
   "metadata": {},
   "source": [
    "### Checking for proper data types and null counts"
   ]
  },
  {
   "cell_type": "code",
   "execution_count": 92,
   "metadata": {
    "scrolled": true
   },
   "outputs": [
    {
     "name": "stdout",
     "output_type": "stream",
     "text": [
      "<class 'pandas.core.frame.DataFrame'>\n",
      "Int64Index: 1289 entries, 0 to 1288\n",
      "Data columns (total 50 columns):\n",
      " #   Column               Non-Null Count  Dtype  \n",
      "---  ------               --------------  -----  \n",
      " 0   id                   1289 non-null   int64  \n",
      " 1   collectible          1289 non-null   int64  \n",
      " 2   slug                 1289 non-null   object \n",
      " 3   classId              1289 non-null   int64  \n",
      " 4   multiClassIds        1289 non-null   object \n",
      " 5   cardTypeId           1289 non-null   int64  \n",
      " 6   cardSetId            1289 non-null   int64  \n",
      " 7   rarityId             1289 non-null   int64  \n",
      " 8   artistName           1288 non-null   object \n",
      " 9   manaCost             1289 non-null   int64  \n",
      " 10  name                 1289 non-null   object \n",
      " 11  text                 1271 non-null   object \n",
      " 12  image                1289 non-null   object \n",
      " 13  imageGold            805 non-null    object \n",
      " 14  flavorText           1289 non-null   object \n",
      " 15  cropImage            1289 non-null   object \n",
      " 16  duels                708 non-null    object \n",
      " 17  minionTypeId         321 non-null    float64\n",
      " 18  health               825 non-null    float64\n",
      " 19  attack               860 non-null    float64\n",
      " 20  keywordIds           877 non-null    object \n",
      " 21  childIds             295 non-null    object \n",
      " 22  durability           48 non-null     float64\n",
      " 23  armor                6 non-null      float64\n",
      " 24  id_hero_class        1289 non-null   int64  \n",
      " 25  slug_hero_class      1289 non-null   object \n",
      " 26  id_minion_type_id    321 non-null    float64\n",
      " 27  slug_minion_type_id  321 non-null    object \n",
      " 28  id_rarity            1289 non-null   int64  \n",
      " 29  slug_rarity          1289 non-null   object \n",
      " 30  id_set               1289 non-null   int64  \n",
      " 31  slug_set             1289 non-null   object \n",
      " 32  name_set             1289 non-null   object \n",
      " 33  id_card_type         1289 non-null   int64  \n",
      " 34  slug_card_type       1289 non-null   object \n",
      " 35  keywordId1           877 non-null    object \n",
      " 36  keywordId2           285 non-null    object \n",
      " 37  keywordId3           34 non-null     object \n",
      " 38  keywordId4           4 non-null      object \n",
      " 39  keywordId5           2 non-null      object \n",
      " 40  id_keyword1_name     871 non-null    object \n",
      " 41  slug_keyword1_name   871 non-null    object \n",
      " 42  id_keyword2_name     281 non-null    object \n",
      " 43  slug_keyword2_name   281 non-null    object \n",
      " 44  id_keyword3_name     34 non-null     object \n",
      " 45  slug_keyword3_name   34 non-null     object \n",
      " 46  id_keyword4_name     4 non-null      object \n",
      " 47  slug_keyword4_name   4 non-null      object \n",
      " 48  id_keyword5_name     2 non-null      object \n",
      " 49  slug_keyword5_name   2 non-null      object \n",
      "dtypes: float64(6), int64(11), object(33)\n",
      "memory usage: 553.6+ KB\n"
     ]
    }
   ],
   "source": [
    "df.info()"
   ]
  },
  {
   "cell_type": "markdown",
   "metadata": {},
   "source": [
    "- The following columns will be dropped as they won't be needed for the expected operations of this project\n",
    "    - id, slug\n",
    "        - unique identifiers for cards, not needed since the 'name' column provides this while also being easier to reference\n",
    "    - artistName, image, imageGold, cropImage\n",
    "        - I won't be exploring images or artist names in this iteration of the project\n",
    "        \n",
    "        \n",
    "- Data types are acceptable for expected operations\n",
    "\n",
    "\n",
    "- Many null values that need to be addressed\n",
    "    - text\n",
    "    - duels\n",
    "    - minion type id\n",
    "    - health\n",
    "    - attack\n",
    "    - keyword ids\n",
    "    - child ids\n",
    "    - durability\n",
    "    - armor"
   ]
  },
  {
   "cell_type": "markdown",
   "metadata": {},
   "source": [
    "### Dropping columns I won't be using (explained above)"
   ]
  },
  {
   "cell_type": "code",
   "execution_count": 5,
   "metadata": {},
   "outputs": [],
   "source": [
    "# dropping columns\n",
    "df.drop(columns = ['id', 'slug', 'artistName', 'image', 'imageGold', 'flavorText', 'cropImage'], inplace = True)"
   ]
  },
  {
   "cell_type": "markdown",
   "metadata": {},
   "source": [
    "# Null Values"
   ]
  },
  {
   "cell_type": "markdown",
   "metadata": {},
   "source": [
    "### Variable: text"
   ]
  },
  {
   "cell_type": "code",
   "execution_count": 6,
   "metadata": {},
   "outputs": [
    {
     "data": {
      "text/plain": [
       "NaN                                                                                     18\n",
       "<b>Taunt</b>                                                                            15\n",
       "<b>Charge</b>                                                                            7\n",
       "<b>Spell Damage +1</b>                                                                   6\n",
       "<b>Stealth</b>                                                                           6\n",
       "                                                                                        ..\n",
       "<b>Taunt</b> <b>Battlecry:</b> Summon three random 1-Cost minions for your opponent.     1\n",
       "<b>Battlecry:</b> If your hero attacked this turn, deal 4 damage.                        1\n",
       "Has +3 Attack while your hero has Armor.                                                 1\n",
       "<b>Secret:</b> When a minion attacks your hero, destroy it.                              1\n",
       "<b>Battlecry:</b> If your deck has no duplicates, summon King Krush.                     1\n",
       "Name: text, Length: 1215, dtype: int64"
      ]
     },
     "execution_count": 6,
     "metadata": {},
     "output_type": "execute_result"
    }
   ],
   "source": [
    "# checking values in text box\n",
    "df.text.value_counts(dropna = False)"
   ]
  },
  {
   "cell_type": "code",
   "execution_count": 7,
   "metadata": {},
   "outputs": [],
   "source": [
    "# filling null text values with 'no effect'\n",
    "df[\"text\"].fillna(\"no_effect\", inplace = True) "
   ]
  },
  {
   "cell_type": "markdown",
   "metadata": {},
   "source": [
    "### Variable: duels"
   ]
  },
  {
   "cell_type": "code",
   "execution_count": 8,
   "metadata": {},
   "outputs": [
    {
     "data": {
      "text/plain": [
       "{'relevant': True, 'constructed': True}    708\n",
       "NaN                                        581\n",
       "Name: duels, dtype: int64"
      ]
     },
     "execution_count": 8,
     "metadata": {},
     "output_type": "execute_result"
    }
   ],
   "source": [
    "# checking duels values\n",
    "df.duels.value_counts(dropna = False)"
   ]
  },
  {
   "cell_type": "code",
   "execution_count": 9,
   "metadata": {},
   "outputs": [],
   "source": [
    "# updating duels column so that cards that were allowed in duels have value of 1 and 0 otherwise\n",
    "df['duels'] = np.where((df.duels == \"{'relevant': True, 'constructed': True}\"), 1, 0)"
   ]
  },
  {
   "cell_type": "markdown",
   "metadata": {},
   "source": [
    "### Variable: minionTypeId"
   ]
  },
  {
   "cell_type": "code",
   "execution_count": 10,
   "metadata": {},
   "outputs": [
    {
     "data": {
      "text/plain": [
       "NaN     968\n",
       "20.0     75\n",
       "15.0     63\n",
       "18.0     51\n",
       "24.0     50\n",
       "17.0     32\n",
       "14.0     25\n",
       "23.0     18\n",
       "21.0      6\n",
       "26.0      1\n",
       "Name: minionTypeId, dtype: int64"
      ]
     },
     "execution_count": 10,
     "metadata": {},
     "output_type": "execute_result"
    }
   ],
   "source": [
    "# checking duels values\n",
    "df.minionTypeId.value_counts(dropna = False)"
   ]
  },
  {
   "cell_type": "code",
   "execution_count": 11,
   "metadata": {},
   "outputs": [],
   "source": [
    "# converting nulls to 'neutral' type\n",
    "df['minionTypeId'] = np.where((df.minionTypeId.isnull() == True), 'Neutral', df.minionTypeId)"
   ]
  },
  {
   "cell_type": "markdown",
   "metadata": {},
   "source": [
    "### Variables: health, attack, durability, armor\n",
    "All of these variables respective columns have null values since none of these variables apply to every card (examples: only minions have health while only weapons have durability). Ill be leaving the nulls in these particular columns for the reasons listed below.\n",
    "\n",
    "- I don't want to impute a string such as 'NA' as this will alter the numeric data type of the column\n",
    "- I don't want to impute a false numeric value as the null state is more accurate in this instance\n",
    "- I'll be isolating the appropriate card types when exploring this variable so the nulls won't impact exploration\n",
    "- This project will not include modeling so leaving nulls in these columns won't be an issue for modeling either\n",
    "\n",
    "However, I will be checking for instances of attributes being applied to the wrong card types and correcting them as needed. For example, a weapon having health or a minion having durability."
   ]
  },
  {
   "cell_type": "markdown",
   "metadata": {},
   "source": [
    "### Variable: keywordIds"
   ]
  },
  {
   "cell_type": "code",
   "execution_count": 12,
   "metadata": {},
   "outputs": [
    {
     "data": {
      "text/plain": [
       "NaN           412\n",
       "[8]           216\n",
       "[12]           57\n",
       "[1]            52\n",
       "[5]            35\n",
       "             ... \n",
       "[2, 14]         1\n",
       "[1, 3, 12]      1\n",
       "[53, 78]        1\n",
       "[12, 15]        1\n",
       "[14, 53]        1\n",
       "Name: keywordIds, Length: 150, dtype: int64"
      ]
     },
     "execution_count": 12,
     "metadata": {},
     "output_type": "execute_result"
    }
   ],
   "source": [
    "# checking duels values\n",
    "df.keywordIds.value_counts(dropna = False)"
   ]
  },
  {
   "cell_type": "code",
   "execution_count": 13,
   "metadata": {},
   "outputs": [],
   "source": [
    "# filling nulls with \"no_keyword\"\n",
    "df.keywordIds.fillna(\"no_keyword\", inplace = True) "
   ]
  },
  {
   "cell_type": "markdown",
   "metadata": {},
   "source": [
    "### Variable: childIds"
   ]
  },
  {
   "cell_type": "code",
   "execution_count": 14,
   "metadata": {},
   "outputs": [
    {
     "data": {
      "text/plain": [
       "NaN                                                                       994\n",
       "[52897, 52900, 53160, 53161, 53162, 53163, 55378, 60588, 64652, 64653]     15\n",
       "[59723]                                                                     8\n",
       "[53921]                                                                     3\n",
       "[56927]                                                                     3\n",
       "                                                                         ... \n",
       "[57498]                                                                     1\n",
       "[55808, 57432, 57434]                                                       1\n",
       "[54488]                                                                     1\n",
       "[488]                                                                       1\n",
       "[56164, 56165, 56167, 56168, 56169, 56170, 56171, 56173, 56175]             1\n",
       "Name: childIds, Length: 261, dtype: int64"
      ]
     },
     "execution_count": 14,
     "metadata": {},
     "output_type": "execute_result"
    }
   ],
   "source": [
    "# checking duels values\n",
    "df.childIds.value_counts(dropna = False)"
   ]
  },
  {
   "cell_type": "code",
   "execution_count": 15,
   "metadata": {},
   "outputs": [],
   "source": [
    "# filling nulls with \"no_childid\"\n",
    "df.childIds.fillna(\"no_childid\", inplace = True) "
   ]
  },
  {
   "cell_type": "code",
   "execution_count": null,
   "metadata": {},
   "outputs": [],
   "source": []
  },
  {
   "cell_type": "code",
   "execution_count": null,
   "metadata": {},
   "outputs": [],
   "source": []
  },
  {
   "cell_type": "code",
   "execution_count": null,
   "metadata": {},
   "outputs": [],
   "source": []
  }
 ],
 "metadata": {
  "kernelspec": {
   "display_name": "Python 3",
   "language": "python",
   "name": "python3"
  },
  "language_info": {
   "codemirror_mode": {
    "name": "ipython",
    "version": 3
   },
   "file_extension": ".py",
   "mimetype": "text/x-python",
   "name": "python",
   "nbconvert_exporter": "python",
   "pygments_lexer": "ipython3",
   "version": "3.7.6"
  }
 },
 "nbformat": 4,
 "nbformat_minor": 4
}
