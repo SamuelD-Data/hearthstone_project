{
 "cells": [
  {
   "cell_type": "markdown",
   "metadata": {},
   "source": [
    "# Hearthstone Project\n",
    "***\n",
    "***"
   ]
  },
  {
   "cell_type": "markdown",
   "metadata": {},
   "source": [
    "# Goals\n",
    "- Explore the data to gather insights about the characteristics of the game's different class types"
   ]
  },
  {
   "cell_type": "markdown",
   "metadata": {},
   "source": [
    "# Purpose\n",
    "- Practice visualizing data using a wide variety of plot types and configurations"
   ]
  },
  {
   "cell_type": "markdown",
   "metadata": {},
   "source": [
    "# Setup\n",
    "***"
   ]
  },
  {
   "cell_type": "code",
   "execution_count": 1,
   "metadata": {
    "scrolled": true
   },
   "outputs": [],
   "source": [
    "# establishing environment\n",
    "import pandas as pd\n",
    "import numpy as np\n",
    "import matplotlib.pyplot as plt\n",
    "import matplotlib.patches as mpatches\n",
    "import seaborn as sns\n",
    "\n",
    "from acquire import get_hearth\n",
    "from prepare import prep_hearth\n",
    "\n",
    "import warnings\n",
    "warnings.filterwarnings(\"ignore\")"
   ]
  },
  {
   "cell_type": "markdown",
   "metadata": {},
   "source": [
    "# Acquire\n",
    "Acquiring data from local csv files\n",
    "***"
   ]
  },
  {
   "cell_type": "code",
   "execution_count": 2,
   "metadata": {},
   "outputs": [],
   "source": [
    "# reading in card data and saving as DF\n",
    "cards = pd.read_csv('hearthstone_standard_cards.csv')\n",
    "\n",
    "# reading in card classes and saving as DF\n",
    "classes = pd.read_csv('classes.csv')\n",
    "\n",
    "# reading in minion types data and saving as DF\n",
    "mtypes = pd.read_csv('minionTypes.csv')\n",
    "\n",
    "# reading in rarities data and saving as DF\n",
    "rarities = pd.read_csv('rarities.csv')\n",
    "\n",
    "# reading in card sets data and saving as DF\n",
    "sets = pd.read_csv('sets.csv')\n",
    "\n",
    "# reading in types data and saving as DF\n",
    "ctypes = pd.read_csv('types.csv')\n",
    "\n",
    "# reading in keywords data and saving as DF\n",
    "keywords = pd.read_csv('keywords.csv')"
   ]
  },
  {
   "cell_type": "markdown",
   "metadata": {},
   "source": [
    "- Data acquired from local csv files\n",
    "- Alternatively, the __get_hearth__ function from the __acquire.py__ file can be run to acquire the data\n",
    "    - The DFs will be returned in the following order by the function: cards, classes, mtypes, rarities, sets, ctypes, keywords"
   ]
  },
  {
   "cell_type": "markdown",
   "metadata": {},
   "source": [
    "# Prepare\n",
    "Preparing data for exploration\n",
    "\n",
    "\n",
    "__IMPORTANT NOTE: Some preparations to the data will be done solely for the purpose of practicing preparation techniques and will not be relevant to the exploration phase.__\n",
    "***"
   ]
  },
  {
   "cell_type": "markdown",
   "metadata": {},
   "source": [
    "## Preparing DataFrames for Merge"
   ]
  },
  {
   "cell_type": "markdown",
   "metadata": {},
   "source": [
    "### Lowercasing column names and values\n",
    "### Dropping unneeded columns and changing some column names"
   ]
  },
  {
   "cell_type": "code",
   "execution_count": 3,
   "metadata": {},
   "outputs": [],
   "source": [
    "# lowercasing cards DF columns\n",
    "cards.columns = cards.columns.str.lower()\n",
    "\n",
    "# lowercasing name and text column values\n",
    "cards.text = cards.text.str.lower()\n",
    "cards.name = cards.name.str.lower()\n",
    "\n",
    "# creating list of all DFs besides cards\n",
    "df_list = [classes, mtypes, rarities, sets, ctypes, keywords]\n",
    "\n",
    "# iterating through DFs\n",
    "# lowercasing all column names, dropping original name column, renaming slug to name column\n",
    "for dtafrm in df_list:\n",
    "        dtafrm.columns = dtafrm.columns.str.lower()\n",
    "        dtafrm.drop(columns = 'name', inplace = True)\n",
    "        dtafrm.rename(columns = {\"slug\": \"name\"}, inplace = True)       "
   ]
  },
  {
   "cell_type": "markdown",
   "metadata": {},
   "source": [
    "## Merging DataFrames"
   ]
  },
  {
   "cell_type": "markdown",
   "metadata": {},
   "source": [
    "### Merging 'classes' DF"
   ]
  },
  {
   "cell_type": "code",
   "execution_count": 4,
   "metadata": {},
   "outputs": [],
   "source": [
    "# removing brackets and commas from multiclassids column\n",
    "cards.multiclassids = cards.multiclassids.str.replace('\\]|,|\\[' , '')\n",
    "\n",
    "# creating column to hold primary class id \n",
    "# if card is of one class, this will reflect its sole class\n",
    "# if card is dual, this will reflect the 1st of the two classes in the multiClassIds column\n",
    "# necessary since dual class cards erroneously hold the 'neutral' class value in their primary class id \n",
    "cards['primeclassid'] = np.where((cards.multiclassids.str.contains(' ')), cards[\"multiclassids\"].str.split(\" \", expand = True)[0], cards.classid)\n",
    "\n",
    "# converting key columns to make all value data types match\n",
    "cards.primeclassid = cards.primeclassid.astype(str)\n",
    "classes.id = classes.id.astype(str)\n",
    "\n",
    "# merging 'classes' df with card df\n",
    "df = pd.merge(cards, classes[['id', 'name']], \n",
    "              left_on = 'primeclassid', right_on = 'id', how=\"left\", \n",
    "              suffixes = (None, '_prime_hero_class'))\n",
    "\n",
    "# dropping columns I no longer need\n",
    "df.drop(columns = ['primeclassid', 'classid'], inplace = True)"
   ]
  },
  {
   "cell_type": "markdown",
   "metadata": {},
   "source": [
    "### Merging 'mtypes' DF"
   ]
  },
  {
   "cell_type": "code",
   "execution_count": 5,
   "metadata": {
    "scrolled": true
   },
   "outputs": [],
   "source": [
    "# changing null values of minionTypeId for neutral minions to -1\n",
    "df['miniontypeid'] = np.where((df.miniontypeid.isnull() == True) & (df.cardtypeid == 4), -1, df.miniontypeid)\n",
    "\n",
    "# adding missing keyword data to 'keywords' df\n",
    "# -1 is for minions with no tribe\n",
    "mtypes.loc[len(mtypes.index)] = ['no_tribe', -1]\n",
    "\n",
    "# merging 'mtypes' df\n",
    "df = pd.merge(df, mtypes[['id', 'name']], \n",
    "              left_on = 'miniontypeid', right_on = 'id', how=\"left\", \n",
    "              suffixes = (None, '_minion_type'))\n",
    "\n",
    "# dropping column I no longer need\n",
    "df.drop(columns = ['miniontypeid'], inplace = True)"
   ]
  },
  {
   "cell_type": "markdown",
   "metadata": {},
   "source": [
    "### Merging 'rarities' DF"
   ]
  },
  {
   "cell_type": "code",
   "execution_count": 6,
   "metadata": {},
   "outputs": [],
   "source": [
    "# merging 'rarities' df\n",
    "df = pd.merge(df, rarities[['id', 'name']], \n",
    "              left_on = 'rarityid', right_on = 'id', how=\"left\", \n",
    "              suffixes = (None, '_rarity'))\n",
    "\n",
    "# dropping column I no longer need\n",
    "df.drop(columns = ['rarityid'], inplace = True)"
   ]
  },
  {
   "cell_type": "markdown",
   "metadata": {},
   "source": [
    "### Merging 'sets' DF"
   ]
  },
  {
   "cell_type": "code",
   "execution_count": 7,
   "metadata": {},
   "outputs": [],
   "source": [
    "# replacing dashes with underscores in names\n",
    "sets.name = sets.name.str.replace('-', '_')\n",
    "\n",
    "# merging 'sets' df\n",
    "df = pd.merge(df, sets[['id', 'name']], \n",
    "              left_on = 'cardsetid', right_on = 'id', how=\"left\", \n",
    "              suffixes = (None, '_set'))\n",
    "\n",
    "# dropping column I no longer need\n",
    "df.drop(columns = ['cardsetid'], inplace = True)"
   ]
  },
  {
   "cell_type": "markdown",
   "metadata": {},
   "source": [
    "### Merging 'ctypes' DF"
   ]
  },
  {
   "cell_type": "code",
   "execution_count": 8,
   "metadata": {},
   "outputs": [],
   "source": [
    "# merging 'ctypes' df\n",
    "df = pd.merge(df, ctypes[['id', 'name']], \n",
    "              left_on = 'cardtypeid', right_on = 'id', how=\"left\", \n",
    "              suffixes = (None, '_card_type'))\n",
    "\n",
    "# dropping column I no longer need\n",
    "df.drop(columns = ['cardtypeid'], inplace = True)"
   ]
  },
  {
   "cell_type": "markdown",
   "metadata": {},
   "source": [
    "### Merging 'keywords' DF"
   ]
  },
  {
   "cell_type": "code",
   "execution_count": 9,
   "metadata": {
    "scrolled": true
   },
   "outputs": [],
   "source": [
    "# replacing dashes with underscores in names\n",
    "keywords.name = keywords.name.str.replace('-', '_')\n",
    "\n",
    "# adding missing keyword data to 'keywords' df\n",
    "keywords.loc[len(keywords.index)] = ['64', 'start_of_game', \n",
    "                                     'does something at the start of the game.', \n",
    "                                     'does something at the start of the game.']\n",
    "\n",
    "# removing brackets and commas from keyword id column\n",
    "df.keywordids = df.keywordids.str.replace('\\]|,|\\[' , '')\n",
    "\n",
    "# splitting keyword ids into separate columns for each card\n",
    "kwdf = df[\"keywordids\"].str.split(\" \", expand = True) \n",
    "\n",
    "# renaming columns\n",
    "kwdf.columns = ['keywordid1', 'keywordid2', 'keywordid3', 'keywordid4', 'keywordid5']\n",
    "\n",
    "# concatenating split keyword id columns with main df\n",
    "df = pd.concat([df, kwdf], axis=1)\n",
    "\n",
    "# converting keywords id column to str type to enable merge\n",
    "keywords.id = keywords.id.astype(str)\n",
    "\n",
    "# creating loop to add a column for the text name of each keyword ability of each card\n",
    "# via merging with keywords DF\n",
    "for x in kwdf.columns:\n",
    "    df = pd.merge(df, keywords[['id', 'name']], \n",
    "              left_on = x, right_on = 'id', how = \"left\",\n",
    "              suffixes = (None, x + '_name'))"
   ]
  },
  {
   "cell_type": "markdown",
   "metadata": {},
   "source": [
    "## Checking for duplicate rows"
   ]
  },
  {
   "cell_type": "code",
   "execution_count": 10,
   "metadata": {},
   "outputs": [
    {
     "data": {
      "text/plain": [
       "(1289, 44)"
      ]
     },
     "execution_count": 10,
     "metadata": {},
     "output_type": "execute_result"
    }
   ],
   "source": [
    "# checking number of rows in current DF\n",
    "df.shape"
   ]
  },
  {
   "cell_type": "code",
   "execution_count": 11,
   "metadata": {
    "scrolled": true
   },
   "outputs": [
    {
     "data": {
      "text/plain": [
       "(1289, 44)"
      ]
     },
     "execution_count": 11,
     "metadata": {},
     "output_type": "execute_result"
    }
   ],
   "source": [
    "# Checking number of rows if duplicates were dropped\n",
    "df.drop_duplicates().shape"
   ]
  },
  {
   "cell_type": "markdown",
   "metadata": {},
   "source": [
    "- No duplicates found"
   ]
  },
  {
   "cell_type": "markdown",
   "metadata": {},
   "source": [
    "### Checking for proper data types, categorical columns (based on domain knowledge), and null counts"
   ]
  },
  {
   "cell_type": "code",
   "execution_count": 12,
   "metadata": {
    "scrolled": true
   },
   "outputs": [
    {
     "name": "stdout",
     "output_type": "stream",
     "text": [
      "<class 'pandas.core.frame.DataFrame'>\n",
      "Int64Index: 1289 entries, 0 to 1288\n",
      "Data columns (total 44 columns):\n",
      " #   Column                 Non-Null Count  Dtype  \n",
      "---  ------                 --------------  -----  \n",
      " 0   id                     1289 non-null   int64  \n",
      " 1   collectible            1289 non-null   int64  \n",
      " 2   slug                   1289 non-null   object \n",
      " 3   multiclassids          1289 non-null   object \n",
      " 4   artistname             1288 non-null   object \n",
      " 5   manacost               1289 non-null   int64  \n",
      " 6   name                   1289 non-null   object \n",
      " 7   text                   1271 non-null   object \n",
      " 8   image                  1289 non-null   object \n",
      " 9   imagegold              805 non-null    object \n",
      " 10  flavortext             1289 non-null   object \n",
      " 11  cropimage              1289 non-null   object \n",
      " 12  duels                  708 non-null    object \n",
      " 13  health                 825 non-null    float64\n",
      " 14  attack                 860 non-null    float64\n",
      " 15  keywordids             877 non-null    object \n",
      " 16  childids               295 non-null    object \n",
      " 17  durability             48 non-null     float64\n",
      " 18  armor                  6 non-null      float64\n",
      " 19  id_prime_hero_class    1289 non-null   object \n",
      " 20  name_prime_hero_class  1289 non-null   object \n",
      " 21  id_minion_type         818 non-null    float64\n",
      " 22  name_minion_type       818 non-null    object \n",
      " 23  id_rarity              1289 non-null   int64  \n",
      " 24  name_rarity            1289 non-null   object \n",
      " 25  id_set                 1289 non-null   int64  \n",
      " 26  name_set               1289 non-null   object \n",
      " 27  id_card_type           1289 non-null   int64  \n",
      " 28  name_card_type         1289 non-null   object \n",
      " 29  keywordid1             877 non-null    object \n",
      " 30  keywordid2             285 non-null    object \n",
      " 31  keywordid3             34 non-null     object \n",
      " 32  keywordid4             4 non-null      object \n",
      " 33  keywordid5             2 non-null      object \n",
      " 34  idkeywordid1_name      871 non-null    object \n",
      " 35  namekeywordid1_name    871 non-null    object \n",
      " 36  idkeywordid2_name      282 non-null    object \n",
      " 37  namekeywordid2_name    282 non-null    object \n",
      " 38  idkeywordid3_name      34 non-null     object \n",
      " 39  namekeywordid3_name    34 non-null     object \n",
      " 40  idkeywordid4_name      4 non-null      object \n",
      " 41  namekeywordid4_name    4 non-null      object \n",
      " 42  idkeywordid5_name      2 non-null      object \n",
      " 43  namekeywordid5_name    2 non-null      object \n",
      "dtypes: float64(5), int64(6), object(33)\n",
      "memory usage: 453.2+ KB\n"
     ]
    }
   ],
   "source": [
    "df.info()"
   ]
  },
  {
   "cell_type": "markdown",
   "metadata": {},
   "source": [
    "- The following columns will be dropped as they won't be needed for the expected operations of this project\n",
    "    - id, slug\n",
    "        - unique identifiers for cards, not needed since the 'name' column provides this while also being easier to reference\n",
    "    - artistname, image, imagegold, cropimage\n",
    "        - I won't be exploring images or artist names in this iteration of the project\n",
    "    - collectible\n",
    "        - Only 1 value, no nulls, doesn't distinguish any cards\n",
    "    - all columns reflecting key words with the exception of the boolean columns and the 'slug_keyword#_name' columns\n",
    "        - The exempted columns are sufficient for the project's expected operations\n",
    "     \n",
    "     \n",
    "- Based on my domain knowledge of the game, I'm inferring that several of the columns are categorical\n",
    "    - I need to create boolean columns for categorical columns (rarity, card set, etc.)\n",
    "\n",
    "\n",
    "- Many null values that need to be addressed\n",
    "    - text\n",
    "    - duels\n",
    "    - minion type id\n",
    "    - health\n",
    "    - attack\n",
    "    - child ids\n",
    "    - durability\n",
    "    - armor"
   ]
  },
  {
   "cell_type": "markdown",
   "metadata": {},
   "source": [
    "### Dropping columns that aren't needed for the planned operations of this project"
   ]
  },
  {
   "cell_type": "code",
   "execution_count": 13,
   "metadata": {
    "scrolled": true
   },
   "outputs": [],
   "source": [
    "# creating list of columns to drop\n",
    "columns_to_drop = ['id', 'slug', 'artistname', 'image', 'imagegold', 'flavortext', 'cropimage', 'collectible']\n",
    "\n",
    "# dropping columns\n",
    "df.drop(columns = columns_to_drop, inplace = True)"
   ]
  },
  {
   "cell_type": "markdown",
   "metadata": {},
   "source": [
    "## Addressing Null Values"
   ]
  },
  {
   "cell_type": "markdown",
   "metadata": {},
   "source": [
    "### Addressing nulls in 'text' column"
   ]
  },
  {
   "cell_type": "code",
   "execution_count": 14,
   "metadata": {},
   "outputs": [
    {
     "data": {
      "text/plain": [
       "NaN                                                                                                            18\n",
       "<b>taunt</b>                                                                                                   15\n",
       "<b>charge</b>                                                                                                   7\n",
       "<b>stealth</b>                                                                                                  6\n",
       "<b>spell damage +1</b>                                                                                          6\n",
       "                                                                                                               ..\n",
       "<b>spellburst:</b> summon two 1/3 mana wyrms.                                                                   1\n",
       "deal 2 damage to a minion. if it's <b>frozen</b>, draw a card.                                                  1\n",
       "at the start of your turn, restore 3 health to a damaged friendly character.                                    1\n",
       "after your hero attacks, draw a pirate from your&nbsp;deck.                                                     1\n",
       "<b>start of game:</b> break into pieces. <b>battlecry:</b> deal 30 damage randomly split among all enemies.     1\n",
       "Name: text, Length: 1215, dtype: int64"
      ]
     },
     "execution_count": 14,
     "metadata": {},
     "output_type": "execute_result"
    }
   ],
   "source": [
    "# checking values in text box\n",
    "df.text.value_counts(dropna = False)"
   ]
  },
  {
   "cell_type": "code",
   "execution_count": 15,
   "metadata": {},
   "outputs": [],
   "source": [
    "# filling null text values with 'no effect'\n",
    "df[\"text\"].fillna(\"no effect\", inplace = True) "
   ]
  },
  {
   "cell_type": "markdown",
   "metadata": {},
   "source": [
    "### Addressing nulls in 'duels' column"
   ]
  },
  {
   "cell_type": "code",
   "execution_count": 16,
   "metadata": {},
   "outputs": [
    {
     "data": {
      "text/plain": [
       "{'relevant': True, 'constructed': True}    708\n",
       "NaN                                        581\n",
       "Name: duels, dtype: int64"
      ]
     },
     "execution_count": 16,
     "metadata": {},
     "output_type": "execute_result"
    }
   ],
   "source": [
    "# checking duels values\n",
    "df.duels.value_counts(dropna = False)"
   ]
  },
  {
   "cell_type": "code",
   "execution_count": 17,
   "metadata": {},
   "outputs": [],
   "source": [
    "# updating duels column so that cards that were allowed in duels have value of 1 and 0 otherwise\n",
    "df['duels'] = np.where((df.duels == \"{'relevant': True, 'constructed': True}\"), 1, 0)\n",
    "\n",
    "df.rename(columns={'duels':'in_duels'}, inplace=True)"
   ]
  },
  {
   "cell_type": "markdown",
   "metadata": {},
   "source": [
    "### Addressing nulls in 'id_minion_type', and 'slug_minion_type' columns"
   ]
  },
  {
   "cell_type": "code",
   "execution_count": 18,
   "metadata": {},
   "outputs": [
    {
     "data": {
      "text/plain": [
       "-1.0     497\n",
       " NaN     471\n",
       " 20.0     75\n",
       " 15.0     63\n",
       " 18.0     51\n",
       " 24.0     50\n",
       " 17.0     32\n",
       " 14.0     25\n",
       " 23.0     18\n",
       " 21.0      6\n",
       " 26.0      1\n",
       "Name: id_minion_type, dtype: int64"
      ]
     },
     "execution_count": 18,
     "metadata": {},
     "output_type": "execute_result"
    }
   ],
   "source": [
    "# checking minontypeId values\n",
    "df.id_minion_type.value_counts(dropna = False)"
   ]
  },
  {
   "cell_type": "code",
   "execution_count": 19,
   "metadata": {},
   "outputs": [],
   "source": [
    "# converting nulls, aka non-minion cards to 'not a minion' type\n",
    "df['id_minion_tribe'] = np.where((df.id_minion_type.isnull() == True), 'not a minion', df.id_minion_type)\n",
    "df['name_minion_tribe'] = np.where((df.name_minion_type.isnull() == True), 'not a minion', df.name_minion_type)\n",
    "\n",
    "# dropping minionTypeId since id_minion_type suffices\n",
    "df.drop(columns = ['id_minion_type', 'name_minion_type'], inplace = True)"
   ]
  },
  {
   "cell_type": "markdown",
   "metadata": {},
   "source": [
    "### Addressing nulls in 'childIds' column"
   ]
  },
  {
   "cell_type": "code",
   "execution_count": 20,
   "metadata": {
    "scrolled": true
   },
   "outputs": [
    {
     "data": {
      "text/plain": [
       "NaN                                                                       994\n",
       "[52897, 52900, 53160, 53161, 53162, 53163, 55378, 60588, 64652, 64653]     15\n",
       "[59723]                                                                     8\n",
       "[56927]                                                                     3\n",
       "[53921]                                                                     3\n",
       "                                                                         ... \n",
       "[61651, 61650]                                                              1\n",
       "[57906]                                                                     1\n",
       "[59]                                                                        1\n",
       "[62233]                                                                     1\n",
       "[55025]                                                                     1\n",
       "Name: childids, Length: 261, dtype: int64"
      ]
     },
     "execution_count": 20,
     "metadata": {},
     "output_type": "execute_result"
    }
   ],
   "source": [
    "# checking childIds values\n",
    "df.childids.value_counts(dropna = False)"
   ]
  },
  {
   "cell_type": "code",
   "execution_count": 21,
   "metadata": {},
   "outputs": [],
   "source": [
    "# filling nulls with \"no_childid\"\n",
    "df.childids.fillna(\"no_childid\", inplace = True) "
   ]
  },
  {
   "cell_type": "markdown",
   "metadata": {},
   "source": [
    "### Addressing nulls in 'health', 'attack', 'durability', and 'armor' columns\n",
    "All of these variables respective columns have null values since none of these variables apply to every card (examples: only minions have health while only weapons have durability). For the time being I'll fill these nulls \n",
    "with a value that represents infinity. The benefit of this method is that it allows me to fill the nulls while preserving the int64 data type of the column. Furthermore, no matter what value blizzard assigns to these variables in future cards, this value probably wouldn't be used. If this causes issues later I'll employ a different means of handling them. "
   ]
  },
  {
   "cell_type": "code",
   "execution_count": 22,
   "metadata": {},
   "outputs": [],
   "source": [
    "# creating list of column names\n",
    "hada = ['health', 'attack', 'durability', 'armor']\n",
    "\n",
    "# iterating through columns filling nulls within each\n",
    "for att in hada:\n",
    "    df[att].fillna(float('inf'), inplace = True)"
   ]
  },
  {
   "cell_type": "markdown",
   "metadata": {},
   "source": [
    "## Creating boolean columns for categorical variables"
   ]
  },
  {
   "cell_type": "markdown",
   "metadata": {},
   "source": [
    "### Creating boolean columns for 'keywords'"
   ]
  },
  {
   "cell_type": "code",
   "execution_count": 23,
   "metadata": {},
   "outputs": [],
   "source": [
    "# loop iterates through each keyword and creates a boolean column for it\n",
    "for kw in keywords.name:\n",
    "    df['has_' + kw] = np.where(\n",
    "    (df.namekeywordid1_name == kw) |\n",
    "    (df.namekeywordid2_name == kw) |\n",
    "    (df.namekeywordid3_name == kw) |\n",
    "    (df.namekeywordid4_name == kw) |\n",
    "    (df.namekeywordid5_name == kw), 1, 0)\n",
    "    \n",
    "# creating empty list\n",
    "key_word_col_drop = []\n",
    "\n",
    "# iterating through columns in df and creating list of columns to drop\n",
    "for col in df.columns:\n",
    "    if 'keywordid' in col:\n",
    "        key_word_col_drop.append(col)\n",
    "        \n",
    "# dropping columns\n",
    "df.drop(columns = key_word_col_drop, inplace = True)"
   ]
  },
  {
   "cell_type": "markdown",
   "metadata": {},
   "source": [
    "### Creating boolean columns for 'hero classes'"
   ]
  },
  {
   "cell_type": "code",
   "execution_count": 24,
   "metadata": {},
   "outputs": [],
   "source": [
    "# removing brackets and commas from multiclassids column\n",
    "df.multiclassids = df.multiclassids.str.replace('\\]|,|\\[' , '')\n",
    "\n",
    "# creating column that holds secondary class separate from primary class\n",
    "df['id_second_hero_class'] = df[\"multiclassids\"].str.split(\" \", expand = True)[1]\n",
    "\n",
    "# converting column to str type to enable merge with newly created column 'id_second_hero_class'\n",
    "classes.id = classes.id.astype(str)\n",
    "\n",
    "# creating df containing columns for merge in order to rename before merge without altering original classes DF\n",
    "classes2 = classes[['id', 'name']]\n",
    "\n",
    "# renaming columns\n",
    "classes2.columns = ['id_second_hero_class', 'name_second_hero_class']\n",
    "\n",
    "# merging 'classes' on secondary hero class id to get secondary class names\n",
    "df = pd.merge(df, classes2[['id_second_hero_class', 'name_second_hero_class']], \n",
    "              on = 'id_second_hero_class', how = \"left\")\n",
    "\n",
    "# creating boolean columns for each hero class\n",
    "for c in classes.name:\n",
    "    df['is_' + c] = np.where(\n",
    "    (df.name_prime_hero_class == c) | (df.name_second_hero_class == c), 1, 0)\n",
    "\n",
    "# filling nulls in new columns\n",
    "df['name_second_hero_class'].fillna('monoclass', inplace = True)\n",
    "df['id_second_hero_class'].fillna('monoclass', inplace = True)"
   ]
  },
  {
   "cell_type": "markdown",
   "metadata": {},
   "source": [
    "### Creating boolean column for multiclass cards"
   ]
  },
  {
   "cell_type": "code",
   "execution_count": 25,
   "metadata": {},
   "outputs": [],
   "source": [
    "# creating column where 1 = multiclass, 0 = monoclass)\n",
    "# contains ' ' will suffice since only cards with a space in this value are multiclass\n",
    "df['is_multiclass'] = np.where((df.multiclassids.str.contains(' ')), 1, 0)\n",
    "\n",
    "# dropping column I no longer need\n",
    "df.drop(columns = 'multiclassids', inplace = True)"
   ]
  },
  {
   "cell_type": "markdown",
   "metadata": {},
   "source": [
    "### Creating boolean column for cards with child ids"
   ]
  },
  {
   "cell_type": "code",
   "execution_count": 26,
   "metadata": {},
   "outputs": [],
   "source": [
    "# creating column where 1 = card has childids, 0 = card has no childids)\n",
    "# contains ',' will suffice since only cards with a comma in this value have childids\n",
    "df['has_child_ids'] = np.where((df.childids.str.contains(',')), 1, 0)\n",
    "\n",
    "# dropping column I no longer need\n",
    "df.drop(columns = 'childids', inplace = True)"
   ]
  },
  {
   "cell_type": "markdown",
   "metadata": {},
   "source": [
    "### Creating boolean columns for rarity levels"
   ]
  },
  {
   "cell_type": "code",
   "execution_count": 27,
   "metadata": {},
   "outputs": [],
   "source": [
    "# iterating through levels of rarity (common, rare, epic, etc)\n",
    "# creating boolean column for each\n",
    "for level in rarities.name:\n",
    "    df['is_' + level] = np.where((df.name_rarity == level), 1, 0)"
   ]
  },
  {
   "cell_type": "markdown",
   "metadata": {},
   "source": [
    "### Creating boolean columns for card sets"
   ]
  },
  {
   "cell_type": "code",
   "execution_count": 28,
   "metadata": {
    "scrolled": false
   },
   "outputs": [],
   "source": [
    "# iterating through set names and creating a boolean column for each\n",
    "for setname in sets.name:\n",
    "    df['is_' + setname] = np.where((df.name_set == setname), 1, 0)"
   ]
  },
  {
   "cell_type": "markdown",
   "metadata": {},
   "source": [
    "### Creating boolean columns for card type"
   ]
  },
  {
   "cell_type": "code",
   "execution_count": 29,
   "metadata": {},
   "outputs": [],
   "source": [
    "# iterating through card types and creating a boolean column for each\n",
    "for ctype in ctypes.name:\n",
    "    df['is_' + ctype] = np.where((df.name_card_type == ctype), 1, 0)\n",
    "\n",
    "# dropping column I no longer need\n",
    "df.drop(columns = 'id_card_type', inplace = True)"
   ]
  },
  {
   "cell_type": "markdown",
   "metadata": {},
   "source": [
    "### Creating boolean columns for minion tribe"
   ]
  },
  {
   "cell_type": "code",
   "execution_count": 30,
   "metadata": {},
   "outputs": [],
   "source": [
    "# iterating through minion tribes and creating a boolean column for each\n",
    "for mtype in mtypes.name:\n",
    "    df['is_' + mtype] = np.where((df.name_minion_tribe == mtype), 1, 0)\n",
    "\n",
    "# dropping column I no longer need\n",
    "df.drop(columns = 'id_minion_tribe', inplace = True)"
   ]
  },
  {
   "cell_type": "markdown",
   "metadata": {},
   "source": [
    "## Other Preparations"
   ]
  },
  {
   "cell_type": "markdown",
   "metadata": {},
   "source": [
    "### Dropping boolean columns with all 0 values\n",
    "I know that some of the sets and keywords that were turned into booleans are not currently in standard (the format the collection of the cards in the data are part of). These columns will be completely filled with 0s so I'm going to drop them."
   ]
  },
  {
   "cell_type": "code",
   "execution_count": 31,
   "metadata": {},
   "outputs": [],
   "source": [
    "# creating list of index values for columns that only have 0 values\n",
    "all_0_cols = np.where(df.isin([0]).all() == True)\n",
    "\n",
    "# dropping columns based on index value\n",
    "df.drop(df.columns[all_0_cols], axis = 1, inplace = True)"
   ]
  },
  {
   "cell_type": "markdown",
   "metadata": {},
   "source": [
    "### Adding rows for dual class cards with prime and secondary class swapped\n",
    "Adding these rows will make it easier to perform certain operations such as grouping and plotting."
   ]
  },
  {
   "cell_type": "code",
   "execution_count": 32,
   "metadata": {},
   "outputs": [],
   "source": [
    "# making identical dfs of all dual class cards\n",
    "dcc = df[df.name_second_hero_class != 'monoclass']\n",
    "dcc2 = df[df.name_second_hero_class != 'monoclass']\n",
    "\n",
    "# swapping primary and secondary hero class values\n",
    "dcc2.name_prime_hero_class, dcc2.name_second_hero_class, dcc2.id_prime_hero_class, dcc2.id_second_hero_class = dcc.name_second_hero_class, dcc.name_prime_hero_class, dcc.id_second_hero_class, dcc.id_prime_hero_class\n",
    "\n",
    "# adding new rows to main df\n",
    "df = pd.concat([df, dcc2])\n",
    "\n",
    "# resetting index\n",
    "df.reset_index(drop = True, inplace = True)"
   ]
  },
  {
   "cell_type": "markdown",
   "metadata": {},
   "source": [
    "### Adding column that holds count of words in card name"
   ]
  },
  {
   "cell_type": "code",
   "execution_count": 33,
   "metadata": {},
   "outputs": [],
   "source": [
    "# counting words in card names and adding as variable\n",
    "df['name_word_count'] = df.name.apply(lambda x: len(str(x).split(' ')))"
   ]
  },
  {
   "cell_type": "markdown",
   "metadata": {},
   "source": [
    "### Adjusting column order"
   ]
  },
  {
   "cell_type": "code",
   "execution_count": 34,
   "metadata": {},
   "outputs": [],
   "source": [
    "# adjusting order of columns\n",
    "df = df[['manacost', 'name', 'name_word_count', 'text', 'in_duels', 'has_child_ids', 'health', 'attack',\n",
    "       'durability', 'armor', 'id_prime_hero_class', 'name_prime_hero_class', \n",
    "       'id_second_hero_class', 'name_second_hero_class',\n",
    "       'id_rarity', 'name_rarity', 'id_set', 'name_set', 'name_card_type',\n",
    "       'name_minion_tribe', 'has_taunt', 'has_spellpower', 'has_divine_shield',\n",
    "       'has_charge', 'has_secret', 'has_stealth', 'has_battlecry',\n",
    "       'has_freeze', 'has_windfury', 'has_deathrattle', 'has_combo',\n",
    "       'has_overload', 'has_silence', 'has_counter', 'has_immune',\n",
    "       'has_discover', 'has_quest', 'has_poisonous', 'has_lifesteal',\n",
    "       'has_rush', 'has_evilzug', 'has_twinspell', 'has_mega_windfury',\n",
    "       'has_reborn', 'has_empower', 'has_outcast', 'has_spellburst',\n",
    "       'has_sidequest', 'has_corrupt', 'has_start_of_game',\n",
    "       'is_demonhunter', 'is_druid', 'is_hunter', 'is_mage', 'is_paladin', 'is_priest',\n",
    "       'is_rogue', 'is_shaman', 'is_warlock', 'is_warrior', 'is_neutral',\n",
    "       'is_multiclass', 'is_common', 'is_free', 'is_rare',\n",
    "       'is_epic', 'is_legendary', 'is_madness_at_the_darkmoon_faire',\n",
    "       'is_scholomance_academy', 'is_demonhunter_initiate',\n",
    "       'is_ashes_of_outland', 'is_galakronds_awakening',\n",
    "       'is_descent_of_dragons', 'is_saviors_of_uldum', 'is_rise_of_shadows',\n",
    "       'is_classic', 'is_basic', 'is_hero', 'is_minion', 'is_spell',\n",
    "       'is_weapon', 'is_murloc', 'is_demon', 'is_mech', 'is_elemental',\n",
    "       'is_beast', 'is_totem', 'is_pirate', 'is_dragon', 'is_all',\n",
    "       'is_no_tribe']]"
   ]
  },
  {
   "cell_type": "markdown",
   "metadata": {},
   "source": [
    "# Preparation Phase Summary\n",
    "- Lowercased all column names and values\n",
    "\n",
    "- Merged all dataFrames into single dataframe\n",
    "\n",
    "- Added missing keyword value (start of game)\n",
    "\n",
    "- Added rows for dual class cards with primary and secondary hero class values swapped\n",
    "\n",
    "- Changed all dashes in column names to underscores\n",
    "\n",
    "- Checked for duplicate rows, none found\n",
    "\n",
    "- Filled nulls with different values based on column and intended operations\n",
    "\n",
    "- Created boolean columns for categorical values\n",
    "\n",
    "- Dropped columns that were unuseful for the operations of this project\n",
    "\n",
    "- Reordered columns\n",
    "\n",
    "- Alternatively, the __prep_hearth__ function from the __prepare.py__ file can be run (with the 7 separate DFs made from the local csv files as arguments) to prep the data."
   ]
  },
  {
   "cell_type": "markdown",
   "metadata": {},
   "source": [
    "# Explore\n",
    "Exploring the data to identify the characteristics of each class, including neutral"
   ]
  },
  {
   "cell_type": "markdown",
   "metadata": {},
   "source": [
    "### Establishing dictionary and list of colors for plots"
   ]
  },
  {
   "cell_type": "code",
   "execution_count": 35,
   "metadata": {},
   "outputs": [],
   "source": [
    "# creating dictionary that holds each class as a key with a color\n",
    "# can be used to specify the color in plots when dictionary can with plot values can be used\n",
    "colord = {'rogue' : 'gray', 'shaman' : 'aqua', 'hunter' : 'lime', 'warrior' : 'red', 'priest' : 'white', \n",
    "          'paladin' : 'gold', 'mage' : 'cornflowerblue', 'warlock' : 'mediumorchid', 'demonhunter' : 'green',\n",
    "          'druid' : 'saddlebrown', 'neutral' : 'pink'}\n",
    "\n",
    "# sorting colorsby corresponding class hero  in alphabetical order\n",
    "# and creating list from it\n",
    "# can be used when values are in alphabetical order by class hero\n",
    "sorted_color_df = pd.DataFrame.from_dict(colord, orient='index').sort_index()\n",
    "sorted_colors = [i for x in sorted_color_df.values for i in x]\n",
    "\n",
    "# setting plot figure sizes when size is not specified otherwise\n",
    "plt.rcParams[\"figure.figsize\"] = (10,7)"
   ]
  },
  {
   "cell_type": "markdown",
   "metadata": {},
   "source": [
    "### Creating separate DFs for each major card type"
   ]
  },
  {
   "cell_type": "code",
   "execution_count": 36,
   "metadata": {},
   "outputs": [],
   "source": [
    "minions = df[df.is_minion == 1]\n",
    "heros = df[df.is_hero == 1]\n",
    "spells = df[df.is_spell == 1]\n",
    "weapons = df[df.is_weapon== 1]"
   ]
  },
  {
   "cell_type": "markdown",
   "metadata": {},
   "source": [
    "### Creating list of class names"
   ]
  },
  {
   "cell_type": "code",
   "execution_count": 37,
   "metadata": {
    "scrolled": true
   },
   "outputs": [],
   "source": [
    "classnames = classes.name.to_list()"
   ]
  },
  {
   "cell_type": "markdown",
   "metadata": {},
   "source": [
    "## Percentage of Minions and Spells within each Class\n",
    "Since weapons and hero cards make up only a small minority (if any) of the cards within each class, I'm not going to include them in the visualization below.\n",
    "#### NOTE: I'm aware pie charts are commonly considered bad practice. Since this is a personal projet, I'm making this simply for exhibition purposes."
   ]
  },
  {
   "cell_type": "code",
   "execution_count": 72,
   "metadata": {
    "scrolled": false
   },
   "outputs": [
    {
     "data": {
      "image/png": "[encoded data removed]",
      "text/plain": [
       "<Figure size 864x864 with 1 Axes>"
      ]
     },
     "metadata": {},
     "output_type": "display_data"
    }
   ],
   "source": [
    "# creating df with all cards except hero cards and weapons\n",
    "donutplotdf = df[(df.name_card_type != 'hero') & ((df.name_card_type != 'weapon'))]\n",
    "\n",
    "# creating df of card counts for each hero class\n",
    "hero_dist_df = pd.DataFrame(donutplotdf.name_prime_hero_class.value_counts().sort_index())\n",
    "hero_dist_df.columns = ['hero_class_card_count']\n",
    "\n",
    "# creating df of card counts per card type per hero class\n",
    "card_type_dist_df = pd.DataFrame(donutplotdf.groupby(['name_prime_hero_class', 'name_card_type']).count()['name'].sort_index(level=['name_prime_hero_class']))\n",
    "\n",
    "# setting values for outer ring\n",
    "major_pie_groups = [classname.title() for classname in hero_dist_df.index]\n",
    "major_group_sizes = [percent for percent in hero_dist_df.hero_class_card_count]\n",
    "\n",
    "# setting values for inner ring\n",
    "minor_pie_groups = [x[1] for x in card_type_dist_df.to_dict()['name'].keys()]\n",
    "minor_group_sizes = [cardtypecount for numlist in card_type_dist_df.values.tolist() for cardtypecount in numlist]\n",
    "\n",
    "# creating list for minion and spell colors\n",
    "min_and_spell_colors = [word.replace('minion' ,'orange') for word in minor_pie_groups]\n",
    "min_and_spell_colors = [word.replace('spell','lightblue') for word in min_and_spell_colors]\n",
    "\n",
    "# creating outside ring\n",
    "fig, ax = plt.subplots(figsize=(12,12))\n",
    "ax.axis('equal')\n",
    "mypie, _, autotexts = ax.pie(major_group_sizes, radius=1.2, labels = major_pie_groups, autopct='%1.1f%%', pctdistance= .83, colors = sorted_colors, textprops={'fontsize': 22})\n",
    "plt.setp(mypie, width=0.4, edgecolor='black')\n",
    "\n",
    "# creating inner ring\n",
    "mypie2, _, autotexts2 = ax.pie(minor_group_sizes, radius=1.2-0.4, autopct='%1.1f%%', pctdistance= .84, colors = min_and_spell_colors, textprops={'fontsize': 15})\n",
    "plt.setp( mypie2, width=0.4, edgecolor='black')\n",
    "plt.margins(0,0)\n",
    "\n",
    "# creating color list for inner circle\n",
    "minion_legend_item = mpatches.Patch(color='orange', label='Minions')\n",
    "spell_legend_item  = mpatches.Patch(color='lightblue', label='Spells')\n",
    "\n",
    "# creating custom legend\n",
    "leg = plt.legend(handles=[minion_legend_item, spell_legend_item], prop={\"size\":20}, bbox_to_anchor=(0.06, .95))\n",
    "\n",
    "# adding title to plot\n",
    "plt.title('Minion and Spell Percentages Per Hero Class', fontsize = 25, pad = 45)\n",
    "\n",
    "# displaying plot \n",
    "plt.show()"
   ]
  },
  {
   "cell_type": "markdown",
   "metadata": {},
   "source": [
    "- The purpose of this visualization was to give an idea of about how the distribution of card types within each class (for example, do mages have a lot more spells than minions? do hunters have mostly minions?, etc)\n",
    "    - Since I alread know that weapons and hero cards make up only a small minority of all cards, I removed them from the data used in the visualization above since their \"slices\" within the plot would be too small to offer meaningful insight beyond that they are the minority card types\n",
    "\n",
    "\n",
    "- Neutral minions account for nearly 1/3 of all cards\n",
    "\n",
    "\n",
    "- There are no neutral spell cards\n",
    "\n",
    "\n",
    "- The combined amount of spells and minions within each non-neutral class are relatively close\n",
    "    - Druid, Priest, and Warlock are tied for the majority at 7.5%\n",
    "    - Demon Hunter has the lowest amount, making up 5.9% of all minions and spells\n",
    "    \n",
    "    \n",
    "- All non-neutral hero classes have relatively even splits in their ratios of spells to minions"
   ]
  },
  {
   "cell_type": "markdown",
   "metadata": {},
   "source": [
    "## Average Mana Costs Per Class"
   ]
  },
  {
   "cell_type": "code",
   "execution_count": 39,
   "metadata": {},
   "outputs": [
    {
     "data": {
      "text/html": [
       "<div>\n",
       "<style scoped>\n",
       "    .dataframe tbody tr th:only-of-type {\n",
       "        vertical-align: middle;\n",
       "    }\n",
       "\n",
       "    .dataframe tbody tr th {\n",
       "        vertical-align: top;\n",
       "    }\n",
       "\n",
       "    .dataframe thead th {\n",
       "        text-align: right;\n",
       "    }\n",
       "</style>\n",
       "<table border=\"1\" class=\"dataframe\">\n",
       "  <thead>\n",
       "    <tr style=\"text-align: right;\">\n",
       "      <th></th>\n",
       "      <th>manacost</th>\n",
       "    </tr>\n",
       "    <tr>\n",
       "      <th>name_prime_hero_class</th>\n",
       "      <th></th>\n",
       "    </tr>\n",
       "  </thead>\n",
       "  <tbody>\n",
       "    <tr>\n",
       "      <th>rogue</th>\n",
       "      <td>3.051546</td>\n",
       "    </tr>\n",
       "    <tr>\n",
       "      <th>shaman</th>\n",
       "      <td>3.360825</td>\n",
       "    </tr>\n",
       "    <tr>\n",
       "      <th>hunter</th>\n",
       "      <td>3.385417</td>\n",
       "    </tr>\n",
       "    <tr>\n",
       "      <th>warrior</th>\n",
       "      <td>3.402062</td>\n",
       "    </tr>\n",
       "    <tr>\n",
       "      <th>priest</th>\n",
       "      <td>3.484536</td>\n",
       "    </tr>\n",
       "    <tr>\n",
       "      <th>paladin</th>\n",
       "      <td>3.510417</td>\n",
       "    </tr>\n",
       "    <tr>\n",
       "      <th>mage</th>\n",
       "      <td>3.614583</td>\n",
       "    </tr>\n",
       "    <tr>\n",
       "      <th>warlock</th>\n",
       "      <td>3.680412</td>\n",
       "    </tr>\n",
       "    <tr>\n",
       "      <th>demonhunter</th>\n",
       "      <td>3.698795</td>\n",
       "    </tr>\n",
       "    <tr>\n",
       "      <th>druid</th>\n",
       "      <td>3.885417</td>\n",
       "    </tr>\n",
       "    <tr>\n",
       "      <th>neutral</th>\n",
       "      <td>4.020672</td>\n",
       "    </tr>\n",
       "  </tbody>\n",
       "</table>\n",
       "</div>"
      ],
      "text/plain": [
       "                       manacost\n",
       "name_prime_hero_class          \n",
       "rogue                  3.051546\n",
       "shaman                 3.360825\n",
       "hunter                 3.385417\n",
       "warrior                3.402062\n",
       "priest                 3.484536\n",
       "paladin                3.510417\n",
       "mage                   3.614583\n",
       "warlock                3.680412\n",
       "demonhunter            3.698795\n",
       "druid                  3.885417\n",
       "neutral                4.020672"
      ]
     },
     "execution_count": 39,
     "metadata": {},
     "output_type": "execute_result"
    }
   ],
   "source": [
    "# creating df of average mana costs per class\n",
    "avgmana = pd.DataFrame(df.groupby(['name_prime_hero_class']).mean().sort_values(by = 'manacost', ascending = True)['manacost'])\n",
    "\n",
    "avgmana"
   ]
  },
  {
   "cell_type": "code",
   "execution_count": 40,
   "metadata": {},
   "outputs": [
    {
     "data": {
      "text/plain": [
       "Text(0, 0.5, 'Hero Class')"
      ]
     },
     "execution_count": 40,
     "metadata": {},
     "output_type": "execute_result"
    },
    {
     "data": {
      "image/png": "[encoded data removed]",
      "text/plain": [
       "<Figure size 720x504 with 1 Axes>"
      ]
     },
     "metadata": {
      "needs_background": "light"
     },
     "output_type": "display_data"
    }
   ],
   "source": [
    "# creating plot\n",
    "plt.xticks(fontsize = 15)\n",
    "plt.yticks(fontsize = 14)\n",
    "plt.title(\"Mana Costs Don't Vary Significantly Per Class\", fontsize = 20)\n",
    "ax = sns.barplot(x = \"manacost\", y = avgmana.index, data = avgmana, palette = colord, edgecolor = 'black')\n",
    "ax.set_xlabel('Average Mana Cost', fontsize = 15)\n",
    "ax.set_ylabel('Hero Class', fontsize = 17)"
   ]
  },
  {
   "cell_type": "markdown",
   "metadata": {},
   "source": [
    "- Average mana costs range from ~3 to ~4 mana so there is very little variation \n",
    "- However, Rogue does has the lowest average mana cost, ~3\n",
    "- Neutral has the highest average mana cost, ~4"
   ]
  },
  {
   "cell_type": "markdown",
   "metadata": {},
   "source": [
    "## Average Mana Costs for Each Class (Per Card Type) "
   ]
  },
  {
   "cell_type": "code",
   "execution_count": 41,
   "metadata": {},
   "outputs": [
    {
     "data": {
      "text/html": [
       "<div>\n",
       "<style scoped>\n",
       "    .dataframe tbody tr th:only-of-type {\n",
       "        vertical-align: middle;\n",
       "    }\n",
       "\n",
       "    .dataframe tbody tr th {\n",
       "        vertical-align: top;\n",
       "    }\n",
       "\n",
       "    .dataframe thead th {\n",
       "        text-align: right;\n",
       "    }\n",
       "</style>\n",
       "<table border=\"1\" class=\"dataframe\">\n",
       "  <thead>\n",
       "    <tr style=\"text-align: right;\">\n",
       "      <th></th>\n",
       "      <th></th>\n",
       "      <th>manacost</th>\n",
       "    </tr>\n",
       "    <tr>\n",
       "      <th>name_prime_hero_class</th>\n",
       "      <th>name_card_type</th>\n",
       "      <th></th>\n",
       "    </tr>\n",
       "  </thead>\n",
       "  <tbody>\n",
       "    <tr>\n",
       "      <th rowspan=\"3\" valign=\"top\">demonhunter</th>\n",
       "      <th>minion</th>\n",
       "      <td>4.133333</td>\n",
       "    </tr>\n",
       "    <tr>\n",
       "      <th>spell</th>\n",
       "      <td>3.064516</td>\n",
       "    </tr>\n",
       "    <tr>\n",
       "      <th>weapon</th>\n",
       "      <td>3.714286</td>\n",
       "    </tr>\n",
       "    <tr>\n",
       "      <th rowspan=\"2\" valign=\"top\">druid</th>\n",
       "      <th>minion</th>\n",
       "      <td>4.948718</td>\n",
       "    </tr>\n",
       "    <tr>\n",
       "      <th>spell</th>\n",
       "      <td>3.157895</td>\n",
       "    </tr>\n",
       "    <tr>\n",
       "      <th rowspan=\"3\" valign=\"top\">hunter</th>\n",
       "      <th>minion</th>\n",
       "      <td>3.934783</td>\n",
       "    </tr>\n",
       "    <tr>\n",
       "      <th>spell</th>\n",
       "      <td>2.795455</td>\n",
       "    </tr>\n",
       "    <tr>\n",
       "      <th>weapon</th>\n",
       "      <td>3.500000</td>\n",
       "    </tr>\n",
       "    <tr>\n",
       "      <th rowspan=\"3\" valign=\"top\">mage</th>\n",
       "      <th>hero</th>\n",
       "      <td>10.000000</td>\n",
       "    </tr>\n",
       "    <tr>\n",
       "      <th>minion</th>\n",
       "      <td>3.804348</td>\n",
       "    </tr>\n",
       "    <tr>\n",
       "      <th>spell</th>\n",
       "      <td>3.306122</td>\n",
       "    </tr>\n",
       "    <tr>\n",
       "      <th rowspan=\"2\" valign=\"top\">neutral</th>\n",
       "      <th>minion</th>\n",
       "      <td>4.028497</td>\n",
       "    </tr>\n",
       "    <tr>\n",
       "      <th>weapon</th>\n",
       "      <td>1.000000</td>\n",
       "    </tr>\n",
       "    <tr>\n",
       "      <th rowspan=\"3\" valign=\"top\">paladin</th>\n",
       "      <th>minion</th>\n",
       "      <td>4.023810</td>\n",
       "    </tr>\n",
       "    <tr>\n",
       "      <th>spell</th>\n",
       "      <td>3.021739</td>\n",
       "    </tr>\n",
       "    <tr>\n",
       "      <th>weapon</th>\n",
       "      <td>3.625000</td>\n",
       "    </tr>\n",
       "    <tr>\n",
       "      <th rowspan=\"3\" valign=\"top\">priest</th>\n",
       "      <th>hero</th>\n",
       "      <td>7.000000</td>\n",
       "    </tr>\n",
       "    <tr>\n",
       "      <th>minion</th>\n",
       "      <td>3.918367</td>\n",
       "    </tr>\n",
       "    <tr>\n",
       "      <th>spell</th>\n",
       "      <td>2.957447</td>\n",
       "    </tr>\n",
       "    <tr>\n",
       "      <th rowspan=\"4\" valign=\"top\">rogue</th>\n",
       "      <th>hero</th>\n",
       "      <td>7.000000</td>\n",
       "    </tr>\n",
       "    <tr>\n",
       "      <th>minion</th>\n",
       "      <td>3.531915</td>\n",
       "    </tr>\n",
       "    <tr>\n",
       "      <th>spell</th>\n",
       "      <td>2.386364</td>\n",
       "    </tr>\n",
       "    <tr>\n",
       "      <th>weapon</th>\n",
       "      <td>3.600000</td>\n",
       "    </tr>\n",
       "    <tr>\n",
       "      <th rowspan=\"4\" valign=\"top\">shaman</th>\n",
       "      <th>hero</th>\n",
       "      <td>7.000000</td>\n",
       "    </tr>\n",
       "    <tr>\n",
       "      <th>minion</th>\n",
       "      <td>3.954545</td>\n",
       "    </tr>\n",
       "    <tr>\n",
       "      <th>spell</th>\n",
       "      <td>2.666667</td>\n",
       "    </tr>\n",
       "    <tr>\n",
       "      <th>weapon</th>\n",
       "      <td>3.571429</td>\n",
       "    </tr>\n",
       "    <tr>\n",
       "      <th rowspan=\"3\" valign=\"top\">warlock</th>\n",
       "      <th>hero</th>\n",
       "      <td>7.000000</td>\n",
       "    </tr>\n",
       "    <tr>\n",
       "      <th>minion</th>\n",
       "      <td>4.370370</td>\n",
       "    </tr>\n",
       "    <tr>\n",
       "      <th>spell</th>\n",
       "      <td>2.714286</td>\n",
       "    </tr>\n",
       "    <tr>\n",
       "      <th rowspan=\"4\" valign=\"top\">warrior</th>\n",
       "      <th>hero</th>\n",
       "      <td>7.000000</td>\n",
       "    </tr>\n",
       "    <tr>\n",
       "      <th>minion</th>\n",
       "      <td>4.136364</td>\n",
       "    </tr>\n",
       "    <tr>\n",
       "      <th>spell</th>\n",
       "      <td>2.525000</td>\n",
       "    </tr>\n",
       "    <tr>\n",
       "      <th>weapon</th>\n",
       "      <td>3.333333</td>\n",
       "    </tr>\n",
       "  </tbody>\n",
       "</table>\n",
       "</div>"
      ],
      "text/plain": [
       "                                       manacost\n",
       "name_prime_hero_class name_card_type           \n",
       "demonhunter           minion           4.133333\n",
       "                      spell            3.064516\n",
       "                      weapon           3.714286\n",
       "druid                 minion           4.948718\n",
       "                      spell            3.157895\n",
       "hunter                minion           3.934783\n",
       "                      spell            2.795455\n",
       "                      weapon           3.500000\n",
       "mage                  hero            10.000000\n",
       "                      minion           3.804348\n",
       "                      spell            3.306122\n",
       "neutral               minion           4.028497\n",
       "                      weapon           1.000000\n",
       "paladin               minion           4.023810\n",
       "                      spell            3.021739\n",
       "                      weapon           3.625000\n",
       "priest                hero             7.000000\n",
       "                      minion           3.918367\n",
       "                      spell            2.957447\n",
       "rogue                 hero             7.000000\n",
       "                      minion           3.531915\n",
       "                      spell            2.386364\n",
       "                      weapon           3.600000\n",
       "shaman                hero             7.000000\n",
       "                      minion           3.954545\n",
       "                      spell            2.666667\n",
       "                      weapon           3.571429\n",
       "warlock               hero             7.000000\n",
       "                      minion           4.370370\n",
       "                      spell            2.714286\n",
       "warrior               hero             7.000000\n",
       "                      minion           4.136364\n",
       "                      spell            2.525000\n",
       "                      weapon           3.333333"
      ]
     },
     "execution_count": 41,
     "metadata": {},
     "output_type": "execute_result"
    }
   ],
   "source": [
    "pd.DataFrame(df.groupby(['name_prime_hero_class', 'name_card_type']).mean()['manacost'])"
   ]
  },
  {
   "cell_type": "code",
   "execution_count": 42,
   "metadata": {
    "scrolled": false
   },
   "outputs": [
    {
     "data": {
      "text/plain": [
       "<matplotlib.legend.Legend at 0x7fbf911d1050>"
      ]
     },
     "execution_count": 42,
     "metadata": {},
     "output_type": "execute_result"
    },
    {
     "data": {
      "image/png": "[encoded data removed]",
      "text/plain": [
       "<Figure size 1080x576 with 1 Axes>"
      ]
     },
     "metadata": {
      "needs_background": "light"
     },
     "output_type": "display_data"
    }
   ],
   "source": [
    "# creating empty dictionaries\n",
    "minion_mc_dict = {}\n",
    "weapon_mc_dict = {}\n",
    "spell_mc_dict = {}\n",
    "hero_mc_dict = {}\n",
    "\n",
    "# iterating through class names and storing average manacost for each type of card within each class\n",
    "for classname in classnames:\n",
    "    minion_mc = minions[minions.name_prime_hero_class == classname].manacost.mean()\n",
    "    weapon_mc = weapons[weapons.name_prime_hero_class == classname].manacost.mean()\n",
    "    spell_mc = spells[spells.name_prime_hero_class == classname].manacost.mean()\n",
    "    hero_mc = heros[heros.name_prime_hero_class == classname].manacost.mean()\n",
    "    \n",
    "    # adding values to dictionary for use in plot\n",
    "    minion_mc_dict[classname] = minion_mc\n",
    "    weapon_mc_dict[classname] = weapon_mc\n",
    "    spell_mc_dict[classname] = spell_mc\n",
    "    hero_mc_dict[classname] = hero_mc\n",
    "    \n",
    "x = np.arange(len(classnames))\n",
    "width = 0.2 \n",
    "\n",
    "# creating plots\n",
    "fig, ax = plt.subplots(figsize=(15, 8))\n",
    "ax.bar(x - width * 1.5, minion_mc_dict.values(), width, label= 'Minions')\n",
    "ax.bar(x - width * .5, weapon_mc_dict.values(), width, label = 'Weapons')\n",
    "ax.bar(x + width * .5, spell_mc_dict.values(), width, label= 'Spells')\n",
    "ax.bar(x + width * 1.5, hero_mc_dict.values(), width, label = 'Heros')\n",
    "\n",
    "# setting x labels, y labels, xticks, etc.\n",
    "ax.set_xlabel('Hero Class', fontsize = 20)\n",
    "ax.set_ylabel('Mana Cost', fontsize = 20)\n",
    "ax.set_title('Average Mana Cost by Class (Per Card Type)', fontsize = 21)\n",
    "ax.set_xticks(x)\n",
    "ax.set_xticklabels([classname.title() for classname in classnames], fontsize = 15, rotation = 10)\n",
    "ax.legend(bbox_to_anchor=(1, 1), fontsize='x-large')"
   ]
  },
  {
   "cell_type": "markdown",
   "metadata": {},
   "source": [
    "__General__\n",
    "- Any bars that are missing from a class means that the class does not have any of that particular type of card\n",
    "    - For example, mages don't have weapons currently\n",
    "   \n",
    "   \n",
    "__Minions__    \n",
    "- Druids have the more costly creatures\n",
    "    - It makes sense that they have more expensive creatures since part of their identity is ramping up resources to play big creatures (and spells)\n",
    "- Rogues have the cheapest creatures\n",
    "    - This also makes sense given that part of their identity is being a fast-paced class that plays lots of inexpensive cards\n",
    "\n",
    "\n",
    "__Weapons__\n",
    "- The average cost of weapons for each class that has them is very similar with the exception of neutral which has very cheap weapons\n",
    "\n",
    "\n",
    "__Spells__\n",
    "- There is a very negligible difference in average spell costs between classes\n",
    "    - Rogues, have the cheapest spells\n",
    "        - This is not surprising since again, they are known for have lots of small effect, cheap cards\n",
    "    - Mages have the most expensive spells\n",
    "        - This makes sense given that as the name would imply, mages focus on magic and part of their identity is having big, impactful spells, even more so than druid    \n",
    "        \n",
    "        \n",
    "__Heros__\n",
    "- No hero class has more than 1 hero card and some have non\n",
    "- Furthermore, every hero class except for Mage share the same hero card, Galakrond, which explains why several have the same mana cost\n",
    "       "
   ]
  },
  {
   "cell_type": "markdown",
   "metadata": {},
   "source": [
    "## Average Word Counts in Name per Class"
   ]
  },
  {
   "cell_type": "code",
   "execution_count": 43,
   "metadata": {},
   "outputs": [
    {
     "data": {
      "text/html": [
       "<div>\n",
       "<style scoped>\n",
       "    .dataframe tbody tr th:only-of-type {\n",
       "        vertical-align: middle;\n",
       "    }\n",
       "\n",
       "    .dataframe tbody tr th {\n",
       "        vertical-align: top;\n",
       "    }\n",
       "\n",
       "    .dataframe thead th {\n",
       "        text-align: right;\n",
       "    }\n",
       "</style>\n",
       "<table border=\"1\" class=\"dataframe\">\n",
       "  <thead>\n",
       "    <tr style=\"text-align: right;\">\n",
       "      <th></th>\n",
       "      <th>name_word_count</th>\n",
       "    </tr>\n",
       "    <tr>\n",
       "      <th>name_prime_hero_class</th>\n",
       "      <th></th>\n",
       "    </tr>\n",
       "  </thead>\n",
       "  <tbody>\n",
       "    <tr>\n",
       "      <th>rogue</th>\n",
       "      <td>1.845361</td>\n",
       "    </tr>\n",
       "    <tr>\n",
       "      <th>warrior</th>\n",
       "      <td>1.896907</td>\n",
       "    </tr>\n",
       "    <tr>\n",
       "      <th>shaman</th>\n",
       "      <td>1.907216</td>\n",
       "    </tr>\n",
       "    <tr>\n",
       "      <th>hunter</th>\n",
       "      <td>1.947917</td>\n",
       "    </tr>\n",
       "    <tr>\n",
       "      <th>demonhunter</th>\n",
       "      <td>1.963855</td>\n",
       "    </tr>\n",
       "    <tr>\n",
       "      <th>neutral</th>\n",
       "      <td>1.966408</td>\n",
       "    </tr>\n",
       "    <tr>\n",
       "      <th>warlock</th>\n",
       "      <td>1.979381</td>\n",
       "    </tr>\n",
       "    <tr>\n",
       "      <th>druid</th>\n",
       "      <td>2.020833</td>\n",
       "    </tr>\n",
       "    <tr>\n",
       "      <th>mage</th>\n",
       "      <td>2.072917</td>\n",
       "    </tr>\n",
       "    <tr>\n",
       "      <th>priest</th>\n",
       "      <td>2.134021</td>\n",
       "    </tr>\n",
       "    <tr>\n",
       "      <th>paladin</th>\n",
       "      <td>2.229167</td>\n",
       "    </tr>\n",
       "  </tbody>\n",
       "</table>\n",
       "</div>"
      ],
      "text/plain": [
       "                       name_word_count\n",
       "name_prime_hero_class                 \n",
       "rogue                         1.845361\n",
       "warrior                       1.896907\n",
       "shaman                        1.907216\n",
       "hunter                        1.947917\n",
       "demonhunter                   1.963855\n",
       "neutral                       1.966408\n",
       "warlock                       1.979381\n",
       "druid                         2.020833\n",
       "mage                          2.072917\n",
       "priest                        2.134021\n",
       "paladin                       2.229167"
      ]
     },
     "execution_count": 43,
     "metadata": {},
     "output_type": "execute_result"
    }
   ],
   "source": [
    "# creating df of average number of words in name per class \n",
    "avgnamewc = pd.DataFrame(df.groupby(['name_prime_hero_class']).mean().sort_values(by = 'name_word_count', ascending = True)['name_word_count'])\n",
    "\n",
    "avgnamewc"
   ]
  },
  {
   "cell_type": "code",
   "execution_count": 44,
   "metadata": {
    "scrolled": false
   },
   "outputs": [
    {
     "data": {
      "text/plain": [
       "Text(0, 0.5, 'Hero Class')"
      ]
     },
     "execution_count": 44,
     "metadata": {},
     "output_type": "execute_result"
    },
    {
     "data": {
      "image/png": "[encoded data removed]",
      "text/plain": [
       "<Figure size 720x504 with 1 Axes>"
      ]
     },
     "metadata": {
      "needs_background": "light"
     },
     "output_type": "display_data"
    }
   ],
   "source": [
    "# creating plot\n",
    "plt.xticks(fontsize = 15)\n",
    "plt.yticks(fontsize = 14)\n",
    "plt.title(\"Average Word Count in Name Per Class\", fontsize = 20)\n",
    "ax = sns.barplot(x = \"name_word_count\", y = avgnamewc.index, data = avgnamewc, palette = colord, edgecolor = 'black')\n",
    "ax.set_xlabel('Average Word Count in Name', fontsize = 15)\n",
    "ax.set_ylabel('Hero Class', fontsize = 17)"
   ]
  },
  {
   "cell_type": "markdown",
   "metadata": {},
   "source": [
    "- Very little variation in the word counts in the name's of each classes' cards\n",
    "    - Range is ~1.8 to ~2.3 words\n",
    "- Rogues have the lowest average words counts\n",
    "- Paladins have the highest average word counts"
   ]
  },
  {
   "cell_type": "markdown",
   "metadata": {},
   "source": [
    "## Average Name Word Count by Class (per Card Type)"
   ]
  },
  {
   "cell_type": "code",
   "execution_count": 45,
   "metadata": {
    "scrolled": false
   },
   "outputs": [
    {
     "data": {
      "text/plain": [
       "name_prime_hero_class  name_card_type\n",
       "demonhunter            minion            2.000000\n",
       "                       spell             1.967742\n",
       "                       weapon            1.714286\n",
       "druid                  minion            2.076923\n",
       "                       spell             1.982456\n",
       "hunter                 minion            1.847826\n",
       "                       spell             2.068182\n",
       "                       weapon            1.833333\n",
       "mage                   hero              3.000000\n",
       "                       minion            2.086957\n",
       "                       spell             2.040816\n",
       "neutral                minion            1.963731\n",
       "                       weapon            3.000000\n",
       "paladin                minion            2.142857\n",
       "                       spell             2.239130\n",
       "                       weapon            2.625000\n",
       "priest                 hero              3.000000\n",
       "                       minion            2.163265\n",
       "                       spell             2.085106\n",
       "rogue                  hero              3.000000\n",
       "                       minion            1.957447\n",
       "                       spell             1.681818\n",
       "                       weapon            2.000000\n",
       "shaman                 hero              3.000000\n",
       "                       minion            1.818182\n",
       "                       spell             1.933333\n",
       "                       weapon            2.142857\n",
       "warlock                hero              3.000000\n",
       "                       minion            1.962963\n",
       "                       spell             1.976190\n",
       "warrior                hero              3.000000\n",
       "                       minion            1.931818\n",
       "                       spell             1.825000\n",
       "                       weapon            1.916667\n",
       "Name: name_word_count, dtype: float64"
      ]
     },
     "execution_count": 45,
     "metadata": {},
     "output_type": "execute_result"
    }
   ],
   "source": [
    "df.groupby(['name_prime_hero_class', 'name_card_type']).mean()['name_word_count']"
   ]
  },
  {
   "cell_type": "code",
   "execution_count": 46,
   "metadata": {
    "scrolled": false
   },
   "outputs": [
    {
     "data": {
      "text/plain": [
       "<matplotlib.legend.Legend at 0x7fbf91df9290>"
      ]
     },
     "execution_count": 46,
     "metadata": {},
     "output_type": "execute_result"
    },
    {
     "data": {
      "image/png": "[encoded data removed]",
      "text/plain": [
       "<Figure size 1080x576 with 1 Axes>"
      ]
     },
     "metadata": {
      "needs_background": "light"
     },
     "output_type": "display_data"
    }
   ],
   "source": [
    "# copying main df to avoid altering\n",
    "wc_by_ctype_df = df.copy()\n",
    "\n",
    "# capitalizing hero class names and card types for aesthetic appeal in plot\n",
    "wc_by_ctype_df.name_prime_hero_class = wc_by_ctype_df.name_prime_hero_class.str.title()\n",
    "wc_by_ctype_df.name_card_type = wc_by_ctype_df.name_card_type.str.title()\n",
    "\n",
    "# creating plot\n",
    "plt.figure(figsize=(15,8))\n",
    "plt.xticks(fontsize = 15, rotation = 10)\n",
    "ax = sns.barplot(x = \"name_prime_hero_class\",  y = \"name_word_count\", hue = 'name_card_type',  data = wc_by_ctype_df, ci = None)\n",
    "plt.xlabel('Hero Class', fontsize = 20)\n",
    "plt.ylabel('Average Name Word Count', fontsize = 20)\n",
    "plt.title('Average Name Word Count by Class (per Card Type)', fontsize = 21)\n",
    "ax.legend(bbox_to_anchor=(1, 1), fontsize='x-large')\n"
   ]
  },
  {
   "cell_type": "markdown",
   "metadata": {},
   "source": [
    "__General__\n",
    "- Any bars that are missing from a class means that the class does not have any of that particular type of card\n",
    "    - For example, druid don't have weapons or hero cards currently\n",
    "- With the exception of hero cards (covered below), paladin weapons, and neutral weapons, all of the groups of fell into the range of 1.5 to 2.5 average words per name\n",
    "    - This implies that there is little variance (roughly 1 word) between the average number of words for the cards of each group\n",
    "\n",
    "- Of all non-neutral classes, paladins have the most words on average for both weapons and spells in addition to nearly being tied for minions\n",
    "   \n",
    "\n",
    "__Spells__\n",
    "- Paladins have the highest word counts in their spell names on average\n",
    "- Rogues have the lowest word counts in their spell names on average\n",
    "        \n",
    "        \n",
    "__Minions__   \n",
    "- Priests narrowly beat out paladins for the highest average word count in minion names\n",
    "- Shamans closely edged out hunters for the lowest average word count in minion names\n",
    "\n",
    "\n",
    "__Weapons__\n",
    "- The neutral \"class\" has the largest highest average word count in weapon names, albeit there is only one neutral weapon currently (Sphere of Sapience)\n",
    "- With regard to non-neutral classes, paladins have the highest average word count in weapon names\n",
    "- Demon hunter has the lowest average word count in weapon names\n",
    "\n",
    "        \n",
    "__Heros__\n",
    "- No hero class has more than 1 hero card and some have non\n",
    "- Furthermore, every hero class except for Mage share the same hero card, Galakrond, which explains why several have the same word count\n",
    "       "
   ]
  },
  {
   "cell_type": "markdown",
   "metadata": {},
   "source": [
    "## Variable: Health"
   ]
  },
  {
   "cell_type": "code",
   "execution_count": null,
   "metadata": {},
   "outputs": [],
   "source": []
  }
 ],
 "metadata": {
  "kernelspec": {
   "display_name": "Python 3",
   "language": "python",
   "name": "python3"
  },
  "language_info": {
   "codemirror_mode": {
    "name": "ipython",
    "version": 3
   },
   "file_extension": ".py",
   "mimetype": "text/x-python",
   "name": "python",
   "nbconvert_exporter": "python",
   "pygments_lexer": "ipython3",
   "version": "3.7.6"
  }
 },
 "nbformat": 4,
 "nbformat_minor": 4
}
