{
 "cells": [
  {
   "cell_type": "markdown",
   "metadata": {},
   "source": [
    "# Hearthstone Project\n",
    "***\n",
    "***"
   ]
  },
  {
   "cell_type": "markdown",
   "metadata": {},
   "source": [
    "# Setup\n",
    "***"
   ]
  },
  {
   "cell_type": "code",
   "execution_count": 26,
   "metadata": {},
   "outputs": [],
   "source": [
    "# establishing environment\n",
    "import pandas as pd\n",
    "import numpy as np"
   ]
  },
  {
   "cell_type": "markdown",
   "metadata": {},
   "source": [
    "# Acquire\n",
    "Acquiring data from local csv files\n",
    "***"
   ]
  },
  {
   "cell_type": "code",
   "execution_count": 27,
   "metadata": {},
   "outputs": [],
   "source": [
    "# reading in card data and saving as DF\n",
    "cards = pd.read_csv('hearthstone_standard_cards.csv')\n",
    "\n",
    "# reading in card classes and saving as DF\n",
    "classes = pd.read_csv('classes.csv')\n",
    "\n",
    "# reading in minion types data and saving as DF\n",
    "mtypes = pd.read_csv('minionTypes.csv')\n",
    "\n",
    "# reading in rarities data and saving as DF\n",
    "rarities = pd.read_csv('rarities.csv')\n",
    "\n",
    "# reading in set groups data and saving as DF\n",
    "setgroups = pd.read_csv('setGroups.csv')\n",
    "\n",
    "# reading in card sets data and saving as DF\n",
    "sets = pd.read_csv('sets.csv')\n",
    "\n",
    "# reading in types data and saving as DF\n",
    "ctypes = pd.read_csv('types.csv')\n",
    "\n",
    "# reading in keywords data and saving as DF\n",
    "keywords = pd.read_csv('keywords.csv')"
   ]
  },
  {
   "cell_type": "markdown",
   "metadata": {},
   "source": [
    "# Prepare\n",
    "Preparing data for exploration\n",
    "***"
   ]
  },
  {
   "cell_type": "markdown",
   "metadata": {},
   "source": [
    "### Merging 'classes' DF"
   ]
  },
  {
   "cell_type": "code",
   "execution_count": 28,
   "metadata": {},
   "outputs": [],
   "source": [
    "df = pd.merge(cards, classes[['id', 'slug']], \n",
    "              left_on = 'classId', right_on = 'id', how=\"left\", \n",
    "              suffixes = (None, '_hero_class'))"
   ]
  },
  {
   "cell_type": "markdown",
   "metadata": {},
   "source": [
    "### Merging 'mtypes' DF"
   ]
  },
  {
   "cell_type": "code",
   "execution_count": 30,
   "metadata": {
    "scrolled": true
   },
   "outputs": [],
   "source": [
    "df = pd.merge(df, mtypes[['id', 'slug']], \n",
    "              left_on = 'minionTypeId', right_on = 'id', how=\"left\", \n",
    "              suffixes = (None, '_minion_type_id'))"
   ]
  },
  {
   "cell_type": "markdown",
   "metadata": {},
   "source": [
    "### Merging 'rarities' DF"
   ]
  },
  {
   "cell_type": "code",
   "execution_count": 35,
   "metadata": {},
   "outputs": [],
   "source": [
    "df = pd.merge(df, rarities[['id', 'slug']], \n",
    "              left_on = 'rarityId', right_on = 'id', how=\"left\", \n",
    "              suffixes = (None, '_rarity'))"
   ]
  },
  {
   "cell_type": "code",
   "execution_count": 37,
   "metadata": {},
   "outputs": [
    {
     "data": {
      "text/html": [
       "<div>\n",
       "<style scoped>\n",
       "    .dataframe tbody tr th:only-of-type {\n",
       "        vertical-align: middle;\n",
       "    }\n",
       "\n",
       "    .dataframe tbody tr th {\n",
       "        vertical-align: top;\n",
       "    }\n",
       "\n",
       "    .dataframe thead th {\n",
       "        text-align: right;\n",
       "    }\n",
       "</style>\n",
       "<table border=\"1\" class=\"dataframe\">\n",
       "  <thead>\n",
       "    <tr style=\"text-align: right;\">\n",
       "      <th></th>\n",
       "      <th>id</th>\n",
       "      <th>collectible</th>\n",
       "      <th>slug</th>\n",
       "      <th>classId</th>\n",
       "      <th>multiClassIds</th>\n",
       "      <th>cardTypeId</th>\n",
       "      <th>cardSetId</th>\n",
       "      <th>rarityId</th>\n",
       "      <th>artistName</th>\n",
       "      <th>manaCost</th>\n",
       "      <th>...</th>\n",
       "      <th>keywordIds</th>\n",
       "      <th>childIds</th>\n",
       "      <th>durability</th>\n",
       "      <th>armor</th>\n",
       "      <th>id_hero_class</th>\n",
       "      <th>slug_hero_class</th>\n",
       "      <th>id_minion_type_id</th>\n",
       "      <th>slug_minion_type_id</th>\n",
       "      <th>id_rarity</th>\n",
       "      <th>slug_rarity</th>\n",
       "    </tr>\n",
       "  </thead>\n",
       "  <tbody>\n",
       "    <tr>\n",
       "      <th>0</th>\n",
       "      <td>58607</td>\n",
       "      <td>1</td>\n",
       "      <td>58607-blur</td>\n",
       "      <td>14</td>\n",
       "      <td>[]</td>\n",
       "      <td>5</td>\n",
       "      <td>1463</td>\n",
       "      <td>1</td>\n",
       "      <td>Zoltan Boros</td>\n",
       "      <td>0</td>\n",
       "      <td>...</td>\n",
       "      <td>NaN</td>\n",
       "      <td>NaN</td>\n",
       "      <td>NaN</td>\n",
       "      <td>NaN</td>\n",
       "      <td>14</td>\n",
       "      <td>demonhunter</td>\n",
       "      <td>NaN</td>\n",
       "      <td>NaN</td>\n",
       "      <td>1</td>\n",
       "      <td>common</td>\n",
       "    </tr>\n",
       "    <tr>\n",
       "      <th>1</th>\n",
       "      <td>56806</td>\n",
       "      <td>1</td>\n",
       "      <td>56806-shadowhoof-slayer</td>\n",
       "      <td>14</td>\n",
       "      <td>[]</td>\n",
       "      <td>4</td>\n",
       "      <td>2</td>\n",
       "      <td>2</td>\n",
       "      <td>A.J. Nazzaro</td>\n",
       "      <td>1</td>\n",
       "      <td>...</td>\n",
       "      <td>[8]</td>\n",
       "      <td>NaN</td>\n",
       "      <td>NaN</td>\n",
       "      <td>NaN</td>\n",
       "      <td>14</td>\n",
       "      <td>demonhunter</td>\n",
       "      <td>15.0</td>\n",
       "      <td>demon</td>\n",
       "      <td>2</td>\n",
       "      <td>free</td>\n",
       "    </tr>\n",
       "    <tr>\n",
       "      <th>2</th>\n",
       "      <td>58170</td>\n",
       "      <td>1</td>\n",
       "      <td>58170-crimson-sigil-runner</td>\n",
       "      <td>14</td>\n",
       "      <td>[]</td>\n",
       "      <td>4</td>\n",
       "      <td>1414</td>\n",
       "      <td>1</td>\n",
       "      <td>Arthur Bozonnet</td>\n",
       "      <td>1</td>\n",
       "      <td>...</td>\n",
       "      <td>[86]</td>\n",
       "      <td>NaN</td>\n",
       "      <td>NaN</td>\n",
       "      <td>NaN</td>\n",
       "      <td>14</td>\n",
       "      <td>demonhunter</td>\n",
       "      <td>NaN</td>\n",
       "      <td>NaN</td>\n",
       "      <td>1</td>\n",
       "      <td>common</td>\n",
       "    </tr>\n",
       "    <tr>\n",
       "      <th>3</th>\n",
       "      <td>59394</td>\n",
       "      <td>1</td>\n",
       "      <td>59394-demon-companion</td>\n",
       "      <td>14</td>\n",
       "      <td>[14, 3]</td>\n",
       "      <td>5</td>\n",
       "      <td>1443</td>\n",
       "      <td>3</td>\n",
       "      <td>Zoltan Boros</td>\n",
       "      <td>1</td>\n",
       "      <td>...</td>\n",
       "      <td>NaN</td>\n",
       "      <td>[59391, 59392, 59393]</td>\n",
       "      <td>NaN</td>\n",
       "      <td>NaN</td>\n",
       "      <td>14</td>\n",
       "      <td>demonhunter</td>\n",
       "      <td>NaN</td>\n",
       "      <td>NaN</td>\n",
       "      <td>3</td>\n",
       "      <td>rare</td>\n",
       "    </tr>\n",
       "    <tr>\n",
       "      <th>4</th>\n",
       "      <td>59606</td>\n",
       "      <td>1</td>\n",
       "      <td>59606-double-jump</td>\n",
       "      <td>14</td>\n",
       "      <td>[]</td>\n",
       "      <td>5</td>\n",
       "      <td>1443</td>\n",
       "      <td>1</td>\n",
       "      <td>A.J. Nazzaro</td>\n",
       "      <td>1</td>\n",
       "      <td>...</td>\n",
       "      <td>[86]</td>\n",
       "      <td>NaN</td>\n",
       "      <td>NaN</td>\n",
       "      <td>NaN</td>\n",
       "      <td>14</td>\n",
       "      <td>demonhunter</td>\n",
       "      <td>NaN</td>\n",
       "      <td>NaN</td>\n",
       "      <td>1</td>\n",
       "      <td>common</td>\n",
       "    </tr>\n",
       "    <tr>\n",
       "      <th>...</th>\n",
       "      <td>...</td>\n",
       "      <td>...</td>\n",
       "      <td>...</td>\n",
       "      <td>...</td>\n",
       "      <td>...</td>\n",
       "      <td>...</td>\n",
       "      <td>...</td>\n",
       "      <td>...</td>\n",
       "      <td>...</td>\n",
       "      <td>...</td>\n",
       "      <td>...</td>\n",
       "      <td>...</td>\n",
       "      <td>...</td>\n",
       "      <td>...</td>\n",
       "      <td>...</td>\n",
       "      <td>...</td>\n",
       "      <td>...</td>\n",
       "      <td>...</td>\n",
       "      <td>...</td>\n",
       "      <td>...</td>\n",
       "      <td>...</td>\n",
       "    </tr>\n",
       "    <tr>\n",
       "      <th>1284</th>\n",
       "      <td>61503</td>\n",
       "      <td>1</td>\n",
       "      <td>61503-cthun-the-shattered</td>\n",
       "      <td>12</td>\n",
       "      <td>[]</td>\n",
       "      <td>4</td>\n",
       "      <td>1466</td>\n",
       "      <td>5</td>\n",
       "      <td>Alex Horley Orlandelli</td>\n",
       "      <td>10</td>\n",
       "      <td>...</td>\n",
       "      <td>[8, 64]</td>\n",
       "      <td>[61873, 61875, 61874, 61877]</td>\n",
       "      <td>NaN</td>\n",
       "      <td>NaN</td>\n",
       "      <td>12</td>\n",
       "      <td>neutral</td>\n",
       "      <td>NaN</td>\n",
       "      <td>NaN</td>\n",
       "      <td>5</td>\n",
       "      <td>legendary</td>\n",
       "    </tr>\n",
       "    <tr>\n",
       "      <th>1285</th>\n",
       "      <td>61629</td>\n",
       "      <td>1</td>\n",
       "      <td>61629-darkmoon-rabbit</td>\n",
       "      <td>12</td>\n",
       "      <td>[]</td>\n",
       "      <td>4</td>\n",
       "      <td>1466</td>\n",
       "      <td>4</td>\n",
       "      <td>Matt Dixon</td>\n",
       "      <td>10</td>\n",
       "      <td>...</td>\n",
       "      <td>[32, 53]</td>\n",
       "      <td>NaN</td>\n",
       "      <td>NaN</td>\n",
       "      <td>NaN</td>\n",
       "      <td>12</td>\n",
       "      <td>neutral</td>\n",
       "      <td>20.0</td>\n",
       "      <td>beast</td>\n",
       "      <td>4</td>\n",
       "      <td>epic</td>\n",
       "    </tr>\n",
       "    <tr>\n",
       "      <th>1286</th>\n",
       "      <td>60443</td>\n",
       "      <td>1</td>\n",
       "      <td>60443-nzoth-god-of-the-deep</td>\n",
       "      <td>12</td>\n",
       "      <td>[]</td>\n",
       "      <td>4</td>\n",
       "      <td>1466</td>\n",
       "      <td>5</td>\n",
       "      <td>Alex Horley Orlandelli</td>\n",
       "      <td>10</td>\n",
       "      <td>...</td>\n",
       "      <td>[8]</td>\n",
       "      <td>NaN</td>\n",
       "      <td>NaN</td>\n",
       "      <td>NaN</td>\n",
       "      <td>12</td>\n",
       "      <td>neutral</td>\n",
       "      <td>NaN</td>\n",
       "      <td>NaN</td>\n",
       "      <td>5</td>\n",
       "      <td>legendary</td>\n",
       "    </tr>\n",
       "    <tr>\n",
       "      <th>1287</th>\n",
       "      <td>61308</td>\n",
       "      <td>1</td>\n",
       "      <td>61308-yshaarj-the-defiler</td>\n",
       "      <td>12</td>\n",
       "      <td>[]</td>\n",
       "      <td>4</td>\n",
       "      <td>1466</td>\n",
       "      <td>5</td>\n",
       "      <td>Alex Horley Orlandelli</td>\n",
       "      <td>10</td>\n",
       "      <td>...</td>\n",
       "      <td>[8, 98]</td>\n",
       "      <td>[61296]</td>\n",
       "      <td>NaN</td>\n",
       "      <td>NaN</td>\n",
       "      <td>12</td>\n",
       "      <td>neutral</td>\n",
       "      <td>NaN</td>\n",
       "      <td>NaN</td>\n",
       "      <td>5</td>\n",
       "      <td>legendary</td>\n",
       "    </tr>\n",
       "    <tr>\n",
       "      <th>1288</th>\n",
       "      <td>60445</td>\n",
       "      <td>1</td>\n",
       "      <td>60445-yogg-saron-master-of-fate</td>\n",
       "      <td>12</td>\n",
       "      <td>[]</td>\n",
       "      <td>4</td>\n",
       "      <td>1466</td>\n",
       "      <td>5</td>\n",
       "      <td>Alex Horley Orlandelli</td>\n",
       "      <td>10</td>\n",
       "      <td>...</td>\n",
       "      <td>[8]</td>\n",
       "      <td>[62081, 62083, 62085, 62086, 62087, 62088, 1087]</td>\n",
       "      <td>NaN</td>\n",
       "      <td>NaN</td>\n",
       "      <td>12</td>\n",
       "      <td>neutral</td>\n",
       "      <td>NaN</td>\n",
       "      <td>NaN</td>\n",
       "      <td>5</td>\n",
       "      <td>legendary</td>\n",
       "    </tr>\n",
       "  </tbody>\n",
       "</table>\n",
       "<p>1289 rows × 30 columns</p>\n",
       "</div>"
      ],
      "text/plain": [
       "         id  collectible                             slug  classId  \\\n",
       "0     58607            1                       58607-blur       14   \n",
       "1     56806            1          56806-shadowhoof-slayer       14   \n",
       "2     58170            1       58170-crimson-sigil-runner       14   \n",
       "3     59394            1            59394-demon-companion       14   \n",
       "4     59606            1                59606-double-jump       14   \n",
       "...     ...          ...                              ...      ...   \n",
       "1284  61503            1        61503-cthun-the-shattered       12   \n",
       "1285  61629            1            61629-darkmoon-rabbit       12   \n",
       "1286  60443            1      60443-nzoth-god-of-the-deep       12   \n",
       "1287  61308            1        61308-yshaarj-the-defiler       12   \n",
       "1288  60445            1  60445-yogg-saron-master-of-fate       12   \n",
       "\n",
       "     multiClassIds  cardTypeId  cardSetId  rarityId              artistName  \\\n",
       "0               []           5       1463         1            Zoltan Boros   \n",
       "1               []           4          2         2            A.J. Nazzaro   \n",
       "2               []           4       1414         1         Arthur Bozonnet   \n",
       "3          [14, 3]           5       1443         3            Zoltan Boros   \n",
       "4               []           5       1443         1            A.J. Nazzaro   \n",
       "...            ...         ...        ...       ...                     ...   \n",
       "1284            []           4       1466         5  Alex Horley Orlandelli   \n",
       "1285            []           4       1466         4              Matt Dixon   \n",
       "1286            []           4       1466         5  Alex Horley Orlandelli   \n",
       "1287            []           4       1466         5  Alex Horley Orlandelli   \n",
       "1288            []           4       1466         5  Alex Horley Orlandelli   \n",
       "\n",
       "      manaCost  ... keywordIds  \\\n",
       "0            0  ...        NaN   \n",
       "1            1  ...        [8]   \n",
       "2            1  ...       [86]   \n",
       "3            1  ...        NaN   \n",
       "4            1  ...       [86]   \n",
       "...        ...  ...        ...   \n",
       "1284        10  ...    [8, 64]   \n",
       "1285        10  ...   [32, 53]   \n",
       "1286        10  ...        [8]   \n",
       "1287        10  ...    [8, 98]   \n",
       "1288        10  ...        [8]   \n",
       "\n",
       "                                              childIds durability armor  \\\n",
       "0                                                  NaN        NaN   NaN   \n",
       "1                                                  NaN        NaN   NaN   \n",
       "2                                                  NaN        NaN   NaN   \n",
       "3                                [59391, 59392, 59393]        NaN   NaN   \n",
       "4                                                  NaN        NaN   NaN   \n",
       "...                                                ...        ...   ...   \n",
       "1284                      [61873, 61875, 61874, 61877]        NaN   NaN   \n",
       "1285                                               NaN        NaN   NaN   \n",
       "1286                                               NaN        NaN   NaN   \n",
       "1287                                           [61296]        NaN   NaN   \n",
       "1288  [62081, 62083, 62085, 62086, 62087, 62088, 1087]        NaN   NaN   \n",
       "\n",
       "     id_hero_class slug_hero_class id_minion_type_id  slug_minion_type_id  \\\n",
       "0               14     demonhunter               NaN                  NaN   \n",
       "1               14     demonhunter              15.0                demon   \n",
       "2               14     demonhunter               NaN                  NaN   \n",
       "3               14     demonhunter               NaN                  NaN   \n",
       "4               14     demonhunter               NaN                  NaN   \n",
       "...            ...             ...               ...                  ...   \n",
       "1284            12         neutral               NaN                  NaN   \n",
       "1285            12         neutral              20.0                beast   \n",
       "1286            12         neutral               NaN                  NaN   \n",
       "1287            12         neutral               NaN                  NaN   \n",
       "1288            12         neutral               NaN                  NaN   \n",
       "\n",
       "      id_rarity  slug_rarity  \n",
       "0             1       common  \n",
       "1             2         free  \n",
       "2             1       common  \n",
       "3             3         rare  \n",
       "4             1       common  \n",
       "...         ...          ...  \n",
       "1284          5    legendary  \n",
       "1285          4         epic  \n",
       "1286          5    legendary  \n",
       "1287          5    legendary  \n",
       "1288          5    legendary  \n",
       "\n",
       "[1289 rows x 30 columns]"
      ]
     },
     "execution_count": 37,
     "metadata": {},
     "output_type": "execute_result"
    }
   ],
   "source": []
  },
  {
   "cell_type": "code",
   "execution_count": null,
   "metadata": {},
   "outputs": [],
   "source": []
  },
  {
   "cell_type": "code",
   "execution_count": null,
   "metadata": {},
   "outputs": [],
   "source": []
  },
  {
   "cell_type": "markdown",
   "metadata": {},
   "source": [
    "### Merging 'keywords' DF"
   ]
  },
  {
   "cell_type": "code",
   "execution_count": 31,
   "metadata": {
    "scrolled": true
   },
   "outputs": [],
   "source": [
    "#keywords.id = keywords.id.astype(str)\n",
    "\n",
    "#df = pd.merge(df, keywords[['id', 'slug']], \n",
    " #             left_on = 'keywordIds', right_on = 'id', how=\"left\",\n",
    "  #           suffixes = (None, '_keyword_name'))\n",
    "\n",
    "#df.head()"
   ]
  },
  {
   "cell_type": "markdown",
   "metadata": {},
   "source": [
    "### Checking for proper data types and null counts"
   ]
  },
  {
   "cell_type": "code",
   "execution_count": 32,
   "metadata": {
    "scrolled": true
   },
   "outputs": [
    {
     "name": "stdout",
     "output_type": "stream",
     "text": [
      "<class 'pandas.core.frame.DataFrame'>\n",
      "Int64Index: 1289 entries, 0 to 1288\n",
      "Data columns (total 28 columns):\n",
      " #   Column               Non-Null Count  Dtype  \n",
      "---  ------               --------------  -----  \n",
      " 0   id                   1289 non-null   int64  \n",
      " 1   collectible          1289 non-null   int64  \n",
      " 2   slug                 1289 non-null   object \n",
      " 3   classId              1289 non-null   int64  \n",
      " 4   multiClassIds        1289 non-null   object \n",
      " 5   cardTypeId           1289 non-null   int64  \n",
      " 6   cardSetId            1289 non-null   int64  \n",
      " 7   rarityId             1289 non-null   int64  \n",
      " 8   artistName           1288 non-null   object \n",
      " 9   manaCost             1289 non-null   int64  \n",
      " 10  name                 1289 non-null   object \n",
      " 11  text                 1271 non-null   object \n",
      " 12  image                1289 non-null   object \n",
      " 13  imageGold            805 non-null    object \n",
      " 14  flavorText           1289 non-null   object \n",
      " 15  cropImage            1289 non-null   object \n",
      " 16  duels                708 non-null    object \n",
      " 17  minionTypeId         321 non-null    float64\n",
      " 18  health               825 non-null    float64\n",
      " 19  attack               860 non-null    float64\n",
      " 20  keywordIds           877 non-null    object \n",
      " 21  childIds             295 non-null    object \n",
      " 22  durability           48 non-null     float64\n",
      " 23  armor                6 non-null      float64\n",
      " 24  id_hero_class        1289 non-null   int64  \n",
      " 25  slug_hero_class      1289 non-null   object \n",
      " 26  id_minion_type_id    321 non-null    float64\n",
      " 27  slug_minion_type_id  321 non-null    object \n",
      "dtypes: float64(6), int64(8), object(14)\n",
      "memory usage: 292.0+ KB\n"
     ]
    }
   ],
   "source": [
    "df.info()"
   ]
  },
  {
   "cell_type": "markdown",
   "metadata": {},
   "source": [
    "- The following columns will be dropped as they won't be needed for the expected operations of this project\n",
    "    - id, slug\n",
    "        - unique identifiers for cards, not needed since the 'name' column provides this while also being easier to reference\n",
    "    - artistName, image, imageGold, cropImage\n",
    "        - I won't be exploring images or artist names in this iteration of the project\n",
    "        \n",
    "        \n",
    "- Data types are acceptable for expected operations\n",
    "\n",
    "\n",
    "- Many null values that need to be addressed\n",
    "    - text\n",
    "    - duels\n",
    "    - minion type id\n",
    "    - health\n",
    "    - attack\n",
    "    - keyword ids\n",
    "    - child ids\n",
    "    - durability\n",
    "    - armor"
   ]
  },
  {
   "cell_type": "markdown",
   "metadata": {},
   "source": [
    "### Dropping columns I won't be using (explained above)"
   ]
  },
  {
   "cell_type": "code",
   "execution_count": 5,
   "metadata": {},
   "outputs": [],
   "source": [
    "# dropping columns\n",
    "df.drop(columns = ['id', 'slug', 'artistName', 'image', 'imageGold', 'flavorText', 'cropImage'], inplace = True)"
   ]
  },
  {
   "cell_type": "markdown",
   "metadata": {},
   "source": [
    "# Null Values"
   ]
  },
  {
   "cell_type": "markdown",
   "metadata": {},
   "source": [
    "### Variable: text"
   ]
  },
  {
   "cell_type": "code",
   "execution_count": 6,
   "metadata": {},
   "outputs": [
    {
     "data": {
      "text/plain": [
       "NaN                                                                                     18\n",
       "<b>Taunt</b>                                                                            15\n",
       "<b>Charge</b>                                                                            7\n",
       "<b>Spell Damage +1</b>                                                                   6\n",
       "<b>Stealth</b>                                                                           6\n",
       "                                                                                        ..\n",
       "<b>Taunt</b> <b>Battlecry:</b> Summon three random 1-Cost minions for your opponent.     1\n",
       "<b>Battlecry:</b> If your hero attacked this turn, deal 4 damage.                        1\n",
       "Has +3 Attack while your hero has Armor.                                                 1\n",
       "<b>Secret:</b> When a minion attacks your hero, destroy it.                              1\n",
       "<b>Battlecry:</b> If your deck has no duplicates, summon King Krush.                     1\n",
       "Name: text, Length: 1215, dtype: int64"
      ]
     },
     "execution_count": 6,
     "metadata": {},
     "output_type": "execute_result"
    }
   ],
   "source": [
    "# checking values in text box\n",
    "df.text.value_counts(dropna = False)"
   ]
  },
  {
   "cell_type": "code",
   "execution_count": 7,
   "metadata": {},
   "outputs": [],
   "source": [
    "# filling null text values with 'no effect'\n",
    "df[\"text\"].fillna(\"no_effect\", inplace = True) "
   ]
  },
  {
   "cell_type": "markdown",
   "metadata": {},
   "source": [
    "### Variable: duels"
   ]
  },
  {
   "cell_type": "code",
   "execution_count": 8,
   "metadata": {},
   "outputs": [
    {
     "data": {
      "text/plain": [
       "{'relevant': True, 'constructed': True}    708\n",
       "NaN                                        581\n",
       "Name: duels, dtype: int64"
      ]
     },
     "execution_count": 8,
     "metadata": {},
     "output_type": "execute_result"
    }
   ],
   "source": [
    "# checking duels values\n",
    "df.duels.value_counts(dropna = False)"
   ]
  },
  {
   "cell_type": "code",
   "execution_count": 9,
   "metadata": {},
   "outputs": [],
   "source": [
    "# updating duels column so that cards that were allowed in duels have value of 1 and 0 otherwise\n",
    "df['duels'] = np.where((df.duels == \"{'relevant': True, 'constructed': True}\"), 1, 0)"
   ]
  },
  {
   "cell_type": "markdown",
   "metadata": {},
   "source": [
    "### Variable: minionTypeId"
   ]
  },
  {
   "cell_type": "code",
   "execution_count": 10,
   "metadata": {},
   "outputs": [
    {
     "data": {
      "text/plain": [
       "NaN     968\n",
       "20.0     75\n",
       "15.0     63\n",
       "18.0     51\n",
       "24.0     50\n",
       "17.0     32\n",
       "14.0     25\n",
       "23.0     18\n",
       "21.0      6\n",
       "26.0      1\n",
       "Name: minionTypeId, dtype: int64"
      ]
     },
     "execution_count": 10,
     "metadata": {},
     "output_type": "execute_result"
    }
   ],
   "source": [
    "# checking duels values\n",
    "df.minionTypeId.value_counts(dropna = False)"
   ]
  },
  {
   "cell_type": "code",
   "execution_count": 11,
   "metadata": {},
   "outputs": [],
   "source": [
    "# converting nulls to 'neutral' type\n",
    "df['minionTypeId'] = np.where((df.minionTypeId.isnull() == True), 'Neutral', df.minionTypeId)"
   ]
  },
  {
   "cell_type": "markdown",
   "metadata": {},
   "source": [
    "### Variables: health, attack, durability, armor\n",
    "All of these variables respective columns have null values since none of these variables apply to every card (examples: only minions have health while only weapons have durability). Ill be leaving the nulls in these particular columns for the reasons listed below.\n",
    "\n",
    "- I don't want to impute a string such as 'NA' as this will alter the numeric data type of the column\n",
    "- I don't want to impute a false numeric value as the null state is more accurate in this instance\n",
    "- I'll be isolating the appropriate card types when exploring this variable so the nulls won't impact exploration\n",
    "- This project will not include modeling so leaving nulls in these columns won't be an issue for modeling either\n",
    "\n",
    "However, I will be checking for instances of attributes being applied to the wrong card types and correcting them as needed. For example, a weapon having health or a minion having durability."
   ]
  },
  {
   "cell_type": "markdown",
   "metadata": {},
   "source": [
    "### Variable: keywordIds"
   ]
  },
  {
   "cell_type": "code",
   "execution_count": 12,
   "metadata": {},
   "outputs": [
    {
     "data": {
      "text/plain": [
       "NaN           412\n",
       "[8]           216\n",
       "[12]           57\n",
       "[1]            52\n",
       "[5]            35\n",
       "             ... \n",
       "[2, 14]         1\n",
       "[1, 3, 12]      1\n",
       "[53, 78]        1\n",
       "[12, 15]        1\n",
       "[14, 53]        1\n",
       "Name: keywordIds, Length: 150, dtype: int64"
      ]
     },
     "execution_count": 12,
     "metadata": {},
     "output_type": "execute_result"
    }
   ],
   "source": [
    "# checking duels values\n",
    "df.keywordIds.value_counts(dropna = False)"
   ]
  },
  {
   "cell_type": "code",
   "execution_count": 13,
   "metadata": {},
   "outputs": [],
   "source": [
    "# filling nulls with \"no_keyword\"\n",
    "df.keywordIds.fillna(\"no_keyword\", inplace = True) "
   ]
  },
  {
   "cell_type": "markdown",
   "metadata": {},
   "source": [
    "### Variable: childIds"
   ]
  },
  {
   "cell_type": "code",
   "execution_count": 14,
   "metadata": {},
   "outputs": [
    {
     "data": {
      "text/plain": [
       "NaN                                                                       994\n",
       "[52897, 52900, 53160, 53161, 53162, 53163, 55378, 60588, 64652, 64653]     15\n",
       "[59723]                                                                     8\n",
       "[53921]                                                                     3\n",
       "[56927]                                                                     3\n",
       "                                                                         ... \n",
       "[57498]                                                                     1\n",
       "[55808, 57432, 57434]                                                       1\n",
       "[54488]                                                                     1\n",
       "[488]                                                                       1\n",
       "[56164, 56165, 56167, 56168, 56169, 56170, 56171, 56173, 56175]             1\n",
       "Name: childIds, Length: 261, dtype: int64"
      ]
     },
     "execution_count": 14,
     "metadata": {},
     "output_type": "execute_result"
    }
   ],
   "source": [
    "# checking duels values\n",
    "df.childIds.value_counts(dropna = False)"
   ]
  },
  {
   "cell_type": "code",
   "execution_count": 15,
   "metadata": {},
   "outputs": [],
   "source": [
    "# filling nulls with \"no_childid\"\n",
    "df.childIds.fillna(\"no_childid\", inplace = True) "
   ]
  },
  {
   "cell_type": "code",
   "execution_count": null,
   "metadata": {},
   "outputs": [],
   "source": []
  },
  {
   "cell_type": "code",
   "execution_count": null,
   "metadata": {},
   "outputs": [],
   "source": []
  },
  {
   "cell_type": "code",
   "execution_count": null,
   "metadata": {},
   "outputs": [],
   "source": []
  }
 ],
 "metadata": {
  "kernelspec": {
   "display_name": "Python 3",
   "language": "python",
   "name": "python3"
  },
  "language_info": {
   "codemirror_mode": {
    "name": "ipython",
    "version": 3
   },
   "file_extension": ".py",
   "mimetype": "text/x-python",
   "name": "python",
   "nbconvert_exporter": "python",
   "pygments_lexer": "ipython3",
   "version": "3.7.6"
  }
 },
 "nbformat": 4,
 "nbformat_minor": 4
}
