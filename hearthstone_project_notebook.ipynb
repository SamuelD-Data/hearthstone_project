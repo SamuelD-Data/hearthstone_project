{
 "cells": [
  {
   "cell_type": "markdown",
   "metadata": {},
   "source": [
    "# Hearthstone Project\n",
    "***\n",
    "***"
   ]
  },
  {
   "cell_type": "markdown",
   "metadata": {},
   "source": [
    "# Setup\n",
    "***"
   ]
  },
  {
   "cell_type": "code",
   "execution_count": 62,
   "metadata": {},
   "outputs": [],
   "source": [
    "# establishing environment\n",
    "import pandas as pd\n",
    "import numpy as np"
   ]
  },
  {
   "cell_type": "markdown",
   "metadata": {},
   "source": [
    "# Acquire\n",
    "Acquiring data from local csv files\n",
    "***"
   ]
  },
  {
   "cell_type": "code",
   "execution_count": 72,
   "metadata": {},
   "outputs": [],
   "source": [
    "# reading in card data and saving as DF\n",
    "cards = pd.read_csv('hearthstone_standard_cards.csv')\n",
    "\n",
    "# reading in card classes and saving as DF\n",
    "classes = pd.read_csv('classes.csv')\n",
    "\n",
    "# reading in minion types data and saving as DF\n",
    "mtypes = pd.read_csv('minionTypes.csv')\n",
    "\n",
    "# reading in rarities data and saving as DF\n",
    "rarities = pd.read_csv('rarities.csv')\n",
    "\n",
    "# reading in set groups data and saving as DF\n",
    "setgroups = pd.read_csv('setGroups.csv')\n",
    "\n",
    "# reading in card sets data and saving as DF\n",
    "sets = pd.read_csv('sets.csv')\n",
    "\n",
    "# reading in types data and saving as DF\n",
    "ctypes = pd.read_csv('types.csv')\n",
    "\n",
    "# reading in keywords data and saving as DF\n",
    "keywords = pd.read_csv('keywords.csv')"
   ]
  },
  {
   "cell_type": "markdown",
   "metadata": {},
   "source": [
    "# Prepare\n",
    "Preparing data for exploration\n",
    "***"
   ]
  },
  {
   "cell_type": "markdown",
   "metadata": {},
   "source": [
    "### Merging 'classes' DF"
   ]
  },
  {
   "cell_type": "code",
   "execution_count": 73,
   "metadata": {},
   "outputs": [],
   "source": [
    "# merging 'classes' df\n",
    "df = pd.merge(cards, classes[['id', 'slug']], \n",
    "              left_on = 'classId', right_on = 'id', how=\"left\", \n",
    "              suffixes = (None, '_hero_class'))"
   ]
  },
  {
   "cell_type": "markdown",
   "metadata": {},
   "source": [
    "### Merging 'mtypes' DF"
   ]
  },
  {
   "cell_type": "code",
   "execution_count": 74,
   "metadata": {
    "scrolled": true
   },
   "outputs": [],
   "source": [
    "# merging 'mtypes' df\n",
    "df = pd.merge(df, mtypes[['id', 'slug']], \n",
    "              left_on = 'minionTypeId', right_on = 'id', how=\"left\", \n",
    "              suffixes = (None, '_minion_type_id'))"
   ]
  },
  {
   "cell_type": "markdown",
   "metadata": {},
   "source": [
    "### Merging 'rarities' DF"
   ]
  },
  {
   "cell_type": "code",
   "execution_count": 75,
   "metadata": {},
   "outputs": [],
   "source": [
    "# merging 'rarities' df\n",
    "df = pd.merge(df, rarities[['id', 'slug']], \n",
    "              left_on = 'rarityId', right_on = 'id', how=\"left\", \n",
    "              suffixes = (None, '_rarity'))"
   ]
  },
  {
   "cell_type": "markdown",
   "metadata": {},
   "source": [
    "### Merging 'setGroups' DF"
   ]
  },
  {
   "cell_type": "code",
   "execution_count": 76,
   "metadata": {},
   "outputs": [],
   "source": [
    "# merging 'setgroups' df\n",
    "df = pd.merge(df, sets[['id', 'slug', 'name']], \n",
    "              left_on = 'cardSetId', right_on = 'id', how=\"left\", \n",
    "              suffixes = (None, '_set'))"
   ]
  },
  {
   "cell_type": "markdown",
   "metadata": {},
   "source": [
    "### Merging 'ctypes' DF"
   ]
  },
  {
   "cell_type": "code",
   "execution_count": 77,
   "metadata": {},
   "outputs": [],
   "source": [
    "# merging 'ctypes' df\n",
    "df = pd.merge(df, ctypes[['id', 'slug']], \n",
    "              left_on = 'cardTypeId', right_on = 'id', how=\"left\", \n",
    "              suffixes = (None, '_card_type'))"
   ]
  },
  {
   "cell_type": "markdown",
   "metadata": {},
   "source": [
    "### Merging 'keywords' DF"
   ]
  },
  {
   "cell_type": "code",
   "execution_count": 78,
   "metadata": {},
   "outputs": [],
   "source": [
    "# creating column in main df for each keyword in keywords df\n",
    "for kw in keywords.slug:\n",
    "    df['has_' + kw] = 0"
   ]
  },
  {
   "cell_type": "code",
   "execution_count": 79,
   "metadata": {},
   "outputs": [
    {
     "data": {
      "text/plain": [
       "0               taunt\n",
       "1          spellpower\n",
       "2       divine-shield\n",
       "3              charge\n",
       "4              secret\n",
       "5             stealth\n",
       "6           battlecry\n",
       "7              freeze\n",
       "8            windfury\n",
       "9         deathrattle\n",
       "10              combo\n",
       "11           overload\n",
       "12            silence\n",
       "13            counter\n",
       "14             immune\n",
       "15         spare-part\n",
       "16            inspire\n",
       "17           discover\n",
       "18              quest\n",
       "19          poisonous\n",
       "20              adapt\n",
       "21          lifesteal\n",
       "22            recruit\n",
       "23               echo\n",
       "24               rush\n",
       "25           overkill\n",
       "26            modular\n",
       "27            evilzug\n",
       "28          twinspell\n",
       "29      mega-windfury\n",
       "30             reborn\n",
       "31            empower\n",
       "32            outcast\n",
       "33         spellburst\n",
       "34          sidequest\n",
       "35            corrupt\n",
       "36    start-of-combat\n",
       "Name: slug, dtype: object"
      ]
     },
     "execution_count": 79,
     "metadata": {},
     "output_type": "execute_result"
    }
   ],
   "source": [
    "keywords.slug"
   ]
  },
  {
   "cell_type": "code",
   "execution_count": 85,
   "metadata": {},
   "outputs": [],
   "source": [
    "df['has_taunt'] = np.where((df.keywordIds.str.contains('8', na = 0)), 1, 0)"
   ]
  },
  {
   "cell_type": "code",
   "execution_count": 86,
   "metadata": {},
   "outputs": [
    {
     "data": {
      "text/html": [
       "<div>\n",
       "<style scoped>\n",
       "    .dataframe tbody tr th:only-of-type {\n",
       "        vertical-align: middle;\n",
       "    }\n",
       "\n",
       "    .dataframe tbody tr th {\n",
       "        vertical-align: top;\n",
       "    }\n",
       "\n",
       "    .dataframe thead th {\n",
       "        text-align: right;\n",
       "    }\n",
       "</style>\n",
       "<table border=\"1\" class=\"dataframe\">\n",
       "  <thead>\n",
       "    <tr style=\"text-align: right;\">\n",
       "      <th></th>\n",
       "      <th>has_taunt</th>\n",
       "      <th>keywordIds</th>\n",
       "    </tr>\n",
       "  </thead>\n",
       "  <tbody>\n",
       "    <tr>\n",
       "      <th>0</th>\n",
       "      <td>0</td>\n",
       "      <td>NaN</td>\n",
       "    </tr>\n",
       "    <tr>\n",
       "      <th>1</th>\n",
       "      <td>1</td>\n",
       "      <td>[8]</td>\n",
       "    </tr>\n",
       "    <tr>\n",
       "      <th>2</th>\n",
       "      <td>1</td>\n",
       "      <td>[86]</td>\n",
       "    </tr>\n",
       "    <tr>\n",
       "      <th>3</th>\n",
       "      <td>0</td>\n",
       "      <td>NaN</td>\n",
       "    </tr>\n",
       "    <tr>\n",
       "      <th>4</th>\n",
       "      <td>1</td>\n",
       "      <td>[86]</td>\n",
       "    </tr>\n",
       "    <tr>\n",
       "      <th>...</th>\n",
       "      <td>...</td>\n",
       "      <td>...</td>\n",
       "    </tr>\n",
       "    <tr>\n",
       "      <th>1284</th>\n",
       "      <td>1</td>\n",
       "      <td>[8, 64]</td>\n",
       "    </tr>\n",
       "    <tr>\n",
       "      <th>1285</th>\n",
       "      <td>0</td>\n",
       "      <td>[32, 53]</td>\n",
       "    </tr>\n",
       "    <tr>\n",
       "      <th>1286</th>\n",
       "      <td>1</td>\n",
       "      <td>[8]</td>\n",
       "    </tr>\n",
       "    <tr>\n",
       "      <th>1287</th>\n",
       "      <td>1</td>\n",
       "      <td>[8, 98]</td>\n",
       "    </tr>\n",
       "    <tr>\n",
       "      <th>1288</th>\n",
       "      <td>1</td>\n",
       "      <td>[8]</td>\n",
       "    </tr>\n",
       "  </tbody>\n",
       "</table>\n",
       "<p>1289 rows × 2 columns</p>\n",
       "</div>"
      ],
      "text/plain": [
       "      has_taunt keywordIds\n",
       "0             0        NaN\n",
       "1             1        [8]\n",
       "2             1       [86]\n",
       "3             0        NaN\n",
       "4             1       [86]\n",
       "...         ...        ...\n",
       "1284          1    [8, 64]\n",
       "1285          0   [32, 53]\n",
       "1286          1        [8]\n",
       "1287          1    [8, 98]\n",
       "1288          1        [8]\n",
       "\n",
       "[1289 rows x 2 columns]"
      ]
     },
     "execution_count": 86,
     "metadata": {},
     "output_type": "execute_result"
    }
   ],
   "source": [
    "df[['has_taunt', 'keywordIds']]"
   ]
  },
  {
   "cell_type": "code",
   "execution_count": 31,
   "metadata": {
    "scrolled": true
   },
   "outputs": [],
   "source": [
    "keywords.id = keywords.id.astype(str)\n",
    "\n",
    "#df = pd.merge(df, keywords[['id', 'slug']], \n",
    " #             left_on = 'keywordIds', right_on = 'id', how=\"left\",\n",
    "  #           suffixes = (None, '_keyword_name'))\n",
    "\n",
    "#df.head()"
   ]
  },
  {
   "cell_type": "code",
   "execution_count": 52,
   "metadata": {
    "scrolled": true
   },
   "outputs": [
    {
     "data": {
      "text/plain": [
       "[8]            216\n",
       "[12]            57\n",
       "[1]             52\n",
       "[5]             35\n",
       "[53]            25\n",
       "              ... \n",
       "[6, 13, 88]      1\n",
       "[15, 53]         1\n",
       "[5, 8, 21]       1\n",
       "[8, 21, 32]      1\n",
       "[1, 38, 91]      1\n",
       "Name: keywordIds, Length: 149, dtype: int64"
      ]
     },
     "execution_count": 52,
     "metadata": {},
     "output_type": "execute_result"
    }
   ],
   "source": [
    "df.keywordIds.value_counts()"
   ]
  },
  {
   "cell_type": "code",
   "execution_count": null,
   "metadata": {},
   "outputs": [],
   "source": []
  },
  {
   "cell_type": "code",
   "execution_count": null,
   "metadata": {},
   "outputs": [],
   "source": []
  },
  {
   "cell_type": "code",
   "execution_count": null,
   "metadata": {},
   "outputs": [],
   "source": []
  },
  {
   "cell_type": "markdown",
   "metadata": {},
   "source": [
    "### Checking for proper data types and null counts"
   ]
  },
  {
   "cell_type": "code",
   "execution_count": 32,
   "metadata": {
    "scrolled": true
   },
   "outputs": [
    {
     "name": "stdout",
     "output_type": "stream",
     "text": [
      "<class 'pandas.core.frame.DataFrame'>\n",
      "Int64Index: 1289 entries, 0 to 1288\n",
      "Data columns (total 28 columns):\n",
      " #   Column               Non-Null Count  Dtype  \n",
      "---  ------               --------------  -----  \n",
      " 0   id                   1289 non-null   int64  \n",
      " 1   collectible          1289 non-null   int64  \n",
      " 2   slug                 1289 non-null   object \n",
      " 3   classId              1289 non-null   int64  \n",
      " 4   multiClassIds        1289 non-null   object \n",
      " 5   cardTypeId           1289 non-null   int64  \n",
      " 6   cardSetId            1289 non-null   int64  \n",
      " 7   rarityId             1289 non-null   int64  \n",
      " 8   artistName           1288 non-null   object \n",
      " 9   manaCost             1289 non-null   int64  \n",
      " 10  name                 1289 non-null   object \n",
      " 11  text                 1271 non-null   object \n",
      " 12  image                1289 non-null   object \n",
      " 13  imageGold            805 non-null    object \n",
      " 14  flavorText           1289 non-null   object \n",
      " 15  cropImage            1289 non-null   object \n",
      " 16  duels                708 non-null    object \n",
      " 17  minionTypeId         321 non-null    float64\n",
      " 18  health               825 non-null    float64\n",
      " 19  attack               860 non-null    float64\n",
      " 20  keywordIds           877 non-null    object \n",
      " 21  childIds             295 non-null    object \n",
      " 22  durability           48 non-null     float64\n",
      " 23  armor                6 non-null      float64\n",
      " 24  id_hero_class        1289 non-null   int64  \n",
      " 25  slug_hero_class      1289 non-null   object \n",
      " 26  id_minion_type_id    321 non-null    float64\n",
      " 27  slug_minion_type_id  321 non-null    object \n",
      "dtypes: float64(6), int64(8), object(14)\n",
      "memory usage: 292.0+ KB\n"
     ]
    }
   ],
   "source": [
    "df.info()"
   ]
  },
  {
   "cell_type": "markdown",
   "metadata": {},
   "source": [
    "- The following columns will be dropped as they won't be needed for the expected operations of this project\n",
    "    - id, slug\n",
    "        - unique identifiers for cards, not needed since the 'name' column provides this while also being easier to reference\n",
    "    - artistName, image, imageGold, cropImage\n",
    "        - I won't be exploring images or artist names in this iteration of the project\n",
    "        \n",
    "        \n",
    "- Data types are acceptable for expected operations\n",
    "\n",
    "\n",
    "- Many null values that need to be addressed\n",
    "    - text\n",
    "    - duels\n",
    "    - minion type id\n",
    "    - health\n",
    "    - attack\n",
    "    - keyword ids\n",
    "    - child ids\n",
    "    - durability\n",
    "    - armor"
   ]
  },
  {
   "cell_type": "markdown",
   "metadata": {},
   "source": [
    "### Dropping columns I won't be using (explained above)"
   ]
  },
  {
   "cell_type": "code",
   "execution_count": 5,
   "metadata": {},
   "outputs": [],
   "source": [
    "# dropping columns\n",
    "df.drop(columns = ['id', 'slug', 'artistName', 'image', 'imageGold', 'flavorText', 'cropImage'], inplace = True)"
   ]
  },
  {
   "cell_type": "markdown",
   "metadata": {},
   "source": [
    "# Null Values"
   ]
  },
  {
   "cell_type": "markdown",
   "metadata": {},
   "source": [
    "### Variable: text"
   ]
  },
  {
   "cell_type": "code",
   "execution_count": 6,
   "metadata": {},
   "outputs": [
    {
     "data": {
      "text/plain": [
       "NaN                                                                                     18\n",
       "<b>Taunt</b>                                                                            15\n",
       "<b>Charge</b>                                                                            7\n",
       "<b>Spell Damage +1</b>                                                                   6\n",
       "<b>Stealth</b>                                                                           6\n",
       "                                                                                        ..\n",
       "<b>Taunt</b> <b>Battlecry:</b> Summon three random 1-Cost minions for your opponent.     1\n",
       "<b>Battlecry:</b> If your hero attacked this turn, deal 4 damage.                        1\n",
       "Has +3 Attack while your hero has Armor.                                                 1\n",
       "<b>Secret:</b> When a minion attacks your hero, destroy it.                              1\n",
       "<b>Battlecry:</b> If your deck has no duplicates, summon King Krush.                     1\n",
       "Name: text, Length: 1215, dtype: int64"
      ]
     },
     "execution_count": 6,
     "metadata": {},
     "output_type": "execute_result"
    }
   ],
   "source": [
    "# checking values in text box\n",
    "df.text.value_counts(dropna = False)"
   ]
  },
  {
   "cell_type": "code",
   "execution_count": 7,
   "metadata": {},
   "outputs": [],
   "source": [
    "# filling null text values with 'no effect'\n",
    "df[\"text\"].fillna(\"no_effect\", inplace = True) "
   ]
  },
  {
   "cell_type": "markdown",
   "metadata": {},
   "source": [
    "### Variable: duels"
   ]
  },
  {
   "cell_type": "code",
   "execution_count": 8,
   "metadata": {},
   "outputs": [
    {
     "data": {
      "text/plain": [
       "{'relevant': True, 'constructed': True}    708\n",
       "NaN                                        581\n",
       "Name: duels, dtype: int64"
      ]
     },
     "execution_count": 8,
     "metadata": {},
     "output_type": "execute_result"
    }
   ],
   "source": [
    "# checking duels values\n",
    "df.duels.value_counts(dropna = False)"
   ]
  },
  {
   "cell_type": "code",
   "execution_count": 9,
   "metadata": {},
   "outputs": [],
   "source": [
    "# updating duels column so that cards that were allowed in duels have value of 1 and 0 otherwise\n",
    "df['duels'] = np.where((df.duels == \"{'relevant': True, 'constructed': True}\"), 1, 0)"
   ]
  },
  {
   "cell_type": "markdown",
   "metadata": {},
   "source": [
    "### Variable: minionTypeId"
   ]
  },
  {
   "cell_type": "code",
   "execution_count": 10,
   "metadata": {},
   "outputs": [
    {
     "data": {
      "text/plain": [
       "NaN     968\n",
       "20.0     75\n",
       "15.0     63\n",
       "18.0     51\n",
       "24.0     50\n",
       "17.0     32\n",
       "14.0     25\n",
       "23.0     18\n",
       "21.0      6\n",
       "26.0      1\n",
       "Name: minionTypeId, dtype: int64"
      ]
     },
     "execution_count": 10,
     "metadata": {},
     "output_type": "execute_result"
    }
   ],
   "source": [
    "# checking duels values\n",
    "df.minionTypeId.value_counts(dropna = False)"
   ]
  },
  {
   "cell_type": "code",
   "execution_count": 11,
   "metadata": {},
   "outputs": [],
   "source": [
    "# converting nulls to 'neutral' type\n",
    "df['minionTypeId'] = np.where((df.minionTypeId.isnull() == True), 'Neutral', df.minionTypeId)"
   ]
  },
  {
   "cell_type": "markdown",
   "metadata": {},
   "source": [
    "### Variables: health, attack, durability, armor\n",
    "All of these variables respective columns have null values since none of these variables apply to every card (examples: only minions have health while only weapons have durability). Ill be leaving the nulls in these particular columns for the reasons listed below.\n",
    "\n",
    "- I don't want to impute a string such as 'NA' as this will alter the numeric data type of the column\n",
    "- I don't want to impute a false numeric value as the null state is more accurate in this instance\n",
    "- I'll be isolating the appropriate card types when exploring this variable so the nulls won't impact exploration\n",
    "- This project will not include modeling so leaving nulls in these columns won't be an issue for modeling either\n",
    "\n",
    "However, I will be checking for instances of attributes being applied to the wrong card types and correcting them as needed. For example, a weapon having health or a minion having durability."
   ]
  },
  {
   "cell_type": "markdown",
   "metadata": {},
   "source": [
    "### Variable: keywordIds"
   ]
  },
  {
   "cell_type": "code",
   "execution_count": 12,
   "metadata": {},
   "outputs": [
    {
     "data": {
      "text/plain": [
       "NaN           412\n",
       "[8]           216\n",
       "[12]           57\n",
       "[1]            52\n",
       "[5]            35\n",
       "             ... \n",
       "[2, 14]         1\n",
       "[1, 3, 12]      1\n",
       "[53, 78]        1\n",
       "[12, 15]        1\n",
       "[14, 53]        1\n",
       "Name: keywordIds, Length: 150, dtype: int64"
      ]
     },
     "execution_count": 12,
     "metadata": {},
     "output_type": "execute_result"
    }
   ],
   "source": [
    "# checking duels values\n",
    "df.keywordIds.value_counts(dropna = False)"
   ]
  },
  {
   "cell_type": "code",
   "execution_count": 13,
   "metadata": {},
   "outputs": [],
   "source": [
    "# filling nulls with \"no_keyword\"\n",
    "df.keywordIds.fillna(\"no_keyword\", inplace = True) "
   ]
  },
  {
   "cell_type": "markdown",
   "metadata": {},
   "source": [
    "### Variable: childIds"
   ]
  },
  {
   "cell_type": "code",
   "execution_count": 14,
   "metadata": {},
   "outputs": [
    {
     "data": {
      "text/plain": [
       "NaN                                                                       994\n",
       "[52897, 52900, 53160, 53161, 53162, 53163, 55378, 60588, 64652, 64653]     15\n",
       "[59723]                                                                     8\n",
       "[53921]                                                                     3\n",
       "[56927]                                                                     3\n",
       "                                                                         ... \n",
       "[57498]                                                                     1\n",
       "[55808, 57432, 57434]                                                       1\n",
       "[54488]                                                                     1\n",
       "[488]                                                                       1\n",
       "[56164, 56165, 56167, 56168, 56169, 56170, 56171, 56173, 56175]             1\n",
       "Name: childIds, Length: 261, dtype: int64"
      ]
     },
     "execution_count": 14,
     "metadata": {},
     "output_type": "execute_result"
    }
   ],
   "source": [
    "# checking duels values\n",
    "df.childIds.value_counts(dropna = False)"
   ]
  },
  {
   "cell_type": "code",
   "execution_count": 15,
   "metadata": {},
   "outputs": [],
   "source": [
    "# filling nulls with \"no_childid\"\n",
    "df.childIds.fillna(\"no_childid\", inplace = True) "
   ]
  },
  {
   "cell_type": "code",
   "execution_count": null,
   "metadata": {},
   "outputs": [],
   "source": []
  },
  {
   "cell_type": "code",
   "execution_count": null,
   "metadata": {},
   "outputs": [],
   "source": []
  },
  {
   "cell_type": "code",
   "execution_count": null,
   "metadata": {},
   "outputs": [],
   "source": []
  }
 ],
 "metadata": {
  "kernelspec": {
   "display_name": "Python 3",
   "language": "python",
   "name": "python3"
  },
  "language_info": {
   "codemirror_mode": {
    "name": "ipython",
    "version": 3
   },
   "file_extension": ".py",
   "mimetype": "text/x-python",
   "name": "python",
   "nbconvert_exporter": "python",
   "pygments_lexer": "ipython3",
   "version": "3.7.6"
  }
 },
 "nbformat": 4,
 "nbformat_minor": 4
}
