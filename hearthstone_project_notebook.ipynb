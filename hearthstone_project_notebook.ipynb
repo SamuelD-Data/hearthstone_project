{
 "cells": [
  {
   "cell_type": "markdown",
   "metadata": {},
   "source": [
    "# Hearthstone Project\n",
    "***\n",
    "***"
   ]
  },
  {
   "cell_type": "markdown",
   "metadata": {},
   "source": [
    "# Goals\n",
    "- Thoroughly prepare so that it is ready for exploration and modeling\n",
    "    - I won't be creating any models for this project but I'd still like to prepare the data nonetheless\n",
    "- Explore the data to gather insights about the characteristics of the game's different class types"
   ]
  },
  {
   "cell_type": "markdown",
   "metadata": {},
   "source": [
    "# Setup\n",
    "***"
   ]
  },
  {
   "cell_type": "code",
   "execution_count": 1,
   "metadata": {},
   "outputs": [],
   "source": [
    "# establishing environment\n",
    "import pandas as pd\n",
    "import numpy as np\n",
    "\n",
    "import warnings\n",
    "warnings.filterwarnings(\"ignore\")"
   ]
  },
  {
   "cell_type": "markdown",
   "metadata": {},
   "source": [
    "# Acquire\n",
    "Acquiring data from local csv files\n",
    "***"
   ]
  },
  {
   "cell_type": "code",
   "execution_count": 49,
   "metadata": {},
   "outputs": [],
   "source": [
    "# reading in card data and saving as DF\n",
    "cards = pd.read_csv('hearthstone_standard_cards.csv')\n",
    "\n",
    "# reading in card classes and saving as DF\n",
    "classes = pd.read_csv('classes.csv')\n",
    "\n",
    "# reading in minion types data and saving as DF\n",
    "mtypes = pd.read_csv('minionTypes.csv')\n",
    "\n",
    "# reading in rarities data and saving as DF\n",
    "rarities = pd.read_csv('rarities.csv')\n",
    "\n",
    "# reading in set groups data and saving as DF\n",
    "setgroups = pd.read_csv('setGroups.csv')\n",
    "\n",
    "# reading in card sets data and saving as DF\n",
    "sets = pd.read_csv('sets.csv')\n",
    "\n",
    "# reading in types data and saving as DF\n",
    "ctypes = pd.read_csv('types.csv')\n",
    "\n",
    "# reading in keywords data and saving as DF\n",
    "keywords = pd.read_csv('keywords.csv')"
   ]
  },
  {
   "cell_type": "markdown",
   "metadata": {},
   "source": [
    "# Prepare\n",
    "Preparing data for exploration\n",
    "***"
   ]
  },
  {
   "cell_type": "markdown",
   "metadata": {},
   "source": [
    "## Merging Data frames"
   ]
  },
  {
   "cell_type": "markdown",
   "metadata": {},
   "source": [
    "### Merging 'classes' DF"
   ]
  },
  {
   "cell_type": "code",
   "execution_count": 50,
   "metadata": {},
   "outputs": [
    {
     "data": {
      "text/html": [
       "<div>\n",
       "<style scoped>\n",
       "    .dataframe tbody tr th:only-of-type {\n",
       "        vertical-align: middle;\n",
       "    }\n",
       "\n",
       "    .dataframe tbody tr th {\n",
       "        vertical-align: top;\n",
       "    }\n",
       "\n",
       "    .dataframe thead th {\n",
       "        text-align: right;\n",
       "    }\n",
       "</style>\n",
       "<table border=\"1\" class=\"dataframe\">\n",
       "  <thead>\n",
       "    <tr style=\"text-align: right;\">\n",
       "      <th></th>\n",
       "      <th>id</th>\n",
       "      <th>collectible</th>\n",
       "      <th>slug</th>\n",
       "      <th>multiClassIds</th>\n",
       "      <th>cardTypeId</th>\n",
       "      <th>cardSetId</th>\n",
       "      <th>rarityId</th>\n",
       "      <th>artistName</th>\n",
       "      <th>manaCost</th>\n",
       "      <th>name</th>\n",
       "      <th>...</th>\n",
       "      <th>duels</th>\n",
       "      <th>minionTypeId</th>\n",
       "      <th>health</th>\n",
       "      <th>attack</th>\n",
       "      <th>keywordIds</th>\n",
       "      <th>childIds</th>\n",
       "      <th>durability</th>\n",
       "      <th>armor</th>\n",
       "      <th>id_prime_hero_class</th>\n",
       "      <th>slug_prime_hero_class</th>\n",
       "    </tr>\n",
       "  </thead>\n",
       "  <tbody>\n",
       "    <tr>\n",
       "      <th>0</th>\n",
       "      <td>58607</td>\n",
       "      <td>1</td>\n",
       "      <td>58607-blur</td>\n",
       "      <td></td>\n",
       "      <td>5</td>\n",
       "      <td>1463</td>\n",
       "      <td>1</td>\n",
       "      <td>Zoltan Boros</td>\n",
       "      <td>0</td>\n",
       "      <td>Blur</td>\n",
       "      <td>...</td>\n",
       "      <td>{'relevant': True, 'constructed': True}</td>\n",
       "      <td>NaN</td>\n",
       "      <td>NaN</td>\n",
       "      <td>NaN</td>\n",
       "      <td>NaN</td>\n",
       "      <td>NaN</td>\n",
       "      <td>NaN</td>\n",
       "      <td>NaN</td>\n",
       "      <td>14</td>\n",
       "      <td>demonhunter</td>\n",
       "    </tr>\n",
       "    <tr>\n",
       "      <th>1</th>\n",
       "      <td>56806</td>\n",
       "      <td>1</td>\n",
       "      <td>56806-shadowhoof-slayer</td>\n",
       "      <td></td>\n",
       "      <td>4</td>\n",
       "      <td>2</td>\n",
       "      <td>2</td>\n",
       "      <td>A.J. Nazzaro</td>\n",
       "      <td>1</td>\n",
       "      <td>Shadowhoof Slayer</td>\n",
       "      <td>...</td>\n",
       "      <td>{'relevant': True, 'constructed': True}</td>\n",
       "      <td>15.0</td>\n",
       "      <td>1.0</td>\n",
       "      <td>2.0</td>\n",
       "      <td>[8]</td>\n",
       "      <td>NaN</td>\n",
       "      <td>NaN</td>\n",
       "      <td>NaN</td>\n",
       "      <td>14</td>\n",
       "      <td>demonhunter</td>\n",
       "    </tr>\n",
       "    <tr>\n",
       "      <th>2</th>\n",
       "      <td>58170</td>\n",
       "      <td>1</td>\n",
       "      <td>58170-crimson-sigil-runner</td>\n",
       "      <td></td>\n",
       "      <td>4</td>\n",
       "      <td>1414</td>\n",
       "      <td>1</td>\n",
       "      <td>Arthur Bozonnet</td>\n",
       "      <td>1</td>\n",
       "      <td>Crimson Sigil Runner</td>\n",
       "      <td>...</td>\n",
       "      <td>NaN</td>\n",
       "      <td>NaN</td>\n",
       "      <td>1.0</td>\n",
       "      <td>1.0</td>\n",
       "      <td>[86]</td>\n",
       "      <td>NaN</td>\n",
       "      <td>NaN</td>\n",
       "      <td>NaN</td>\n",
       "      <td>14</td>\n",
       "      <td>demonhunter</td>\n",
       "    </tr>\n",
       "    <tr>\n",
       "      <th>3</th>\n",
       "      <td>59394</td>\n",
       "      <td>1</td>\n",
       "      <td>59394-demon-companion</td>\n",
       "      <td>14 3</td>\n",
       "      <td>5</td>\n",
       "      <td>1443</td>\n",
       "      <td>3</td>\n",
       "      <td>Zoltan Boros</td>\n",
       "      <td>1</td>\n",
       "      <td>Demon Companion</td>\n",
       "      <td>...</td>\n",
       "      <td>{'relevant': True, 'constructed': True}</td>\n",
       "      <td>NaN</td>\n",
       "      <td>NaN</td>\n",
       "      <td>NaN</td>\n",
       "      <td>NaN</td>\n",
       "      <td>[59391, 59392, 59393]</td>\n",
       "      <td>NaN</td>\n",
       "      <td>NaN</td>\n",
       "      <td>14</td>\n",
       "      <td>demonhunter</td>\n",
       "    </tr>\n",
       "    <tr>\n",
       "      <th>4</th>\n",
       "      <td>59606</td>\n",
       "      <td>1</td>\n",
       "      <td>59606-double-jump</td>\n",
       "      <td></td>\n",
       "      <td>5</td>\n",
       "      <td>1443</td>\n",
       "      <td>1</td>\n",
       "      <td>A.J. Nazzaro</td>\n",
       "      <td>1</td>\n",
       "      <td>Double Jump</td>\n",
       "      <td>...</td>\n",
       "      <td>{'relevant': True, 'constructed': True}</td>\n",
       "      <td>NaN</td>\n",
       "      <td>NaN</td>\n",
       "      <td>NaN</td>\n",
       "      <td>[86]</td>\n",
       "      <td>NaN</td>\n",
       "      <td>NaN</td>\n",
       "      <td>NaN</td>\n",
       "      <td>14</td>\n",
       "      <td>demonhunter</td>\n",
       "    </tr>\n",
       "    <tr>\n",
       "      <th>...</th>\n",
       "      <td>...</td>\n",
       "      <td>...</td>\n",
       "      <td>...</td>\n",
       "      <td>...</td>\n",
       "      <td>...</td>\n",
       "      <td>...</td>\n",
       "      <td>...</td>\n",
       "      <td>...</td>\n",
       "      <td>...</td>\n",
       "      <td>...</td>\n",
       "      <td>...</td>\n",
       "      <td>...</td>\n",
       "      <td>...</td>\n",
       "      <td>...</td>\n",
       "      <td>...</td>\n",
       "      <td>...</td>\n",
       "      <td>...</td>\n",
       "      <td>...</td>\n",
       "      <td>...</td>\n",
       "      <td>...</td>\n",
       "      <td>...</td>\n",
       "    </tr>\n",
       "    <tr>\n",
       "      <th>1284</th>\n",
       "      <td>61503</td>\n",
       "      <td>1</td>\n",
       "      <td>61503-cthun-the-shattered</td>\n",
       "      <td></td>\n",
       "      <td>4</td>\n",
       "      <td>1466</td>\n",
       "      <td>5</td>\n",
       "      <td>Alex Horley Orlandelli</td>\n",
       "      <td>10</td>\n",
       "      <td>C'Thun, the Shattered</td>\n",
       "      <td>...</td>\n",
       "      <td>{'relevant': True, 'constructed': True}</td>\n",
       "      <td>NaN</td>\n",
       "      <td>6.0</td>\n",
       "      <td>6.0</td>\n",
       "      <td>[8, 64]</td>\n",
       "      <td>[61873, 61875, 61874, 61877]</td>\n",
       "      <td>NaN</td>\n",
       "      <td>NaN</td>\n",
       "      <td>12</td>\n",
       "      <td>neutral</td>\n",
       "    </tr>\n",
       "    <tr>\n",
       "      <th>1285</th>\n",
       "      <td>61629</td>\n",
       "      <td>1</td>\n",
       "      <td>61629-darkmoon-rabbit</td>\n",
       "      <td></td>\n",
       "      <td>4</td>\n",
       "      <td>1466</td>\n",
       "      <td>4</td>\n",
       "      <td>Matt Dixon</td>\n",
       "      <td>10</td>\n",
       "      <td>Darkmoon Rabbit</td>\n",
       "      <td>...</td>\n",
       "      <td>{'relevant': True, 'constructed': True}</td>\n",
       "      <td>20.0</td>\n",
       "      <td>1.0</td>\n",
       "      <td>1.0</td>\n",
       "      <td>[32, 53]</td>\n",
       "      <td>NaN</td>\n",
       "      <td>NaN</td>\n",
       "      <td>NaN</td>\n",
       "      <td>12</td>\n",
       "      <td>neutral</td>\n",
       "    </tr>\n",
       "    <tr>\n",
       "      <th>1286</th>\n",
       "      <td>60443</td>\n",
       "      <td>1</td>\n",
       "      <td>60443-nzoth-god-of-the-deep</td>\n",
       "      <td></td>\n",
       "      <td>4</td>\n",
       "      <td>1466</td>\n",
       "      <td>5</td>\n",
       "      <td>Alex Horley Orlandelli</td>\n",
       "      <td>10</td>\n",
       "      <td>N'Zoth, God of the Deep</td>\n",
       "      <td>...</td>\n",
       "      <td>{'relevant': True, 'constructed': True}</td>\n",
       "      <td>NaN</td>\n",
       "      <td>7.0</td>\n",
       "      <td>5.0</td>\n",
       "      <td>[8]</td>\n",
       "      <td>NaN</td>\n",
       "      <td>NaN</td>\n",
       "      <td>NaN</td>\n",
       "      <td>12</td>\n",
       "      <td>neutral</td>\n",
       "    </tr>\n",
       "    <tr>\n",
       "      <th>1287</th>\n",
       "      <td>61308</td>\n",
       "      <td>1</td>\n",
       "      <td>61308-yshaarj-the-defiler</td>\n",
       "      <td></td>\n",
       "      <td>4</td>\n",
       "      <td>1466</td>\n",
       "      <td>5</td>\n",
       "      <td>Alex Horley Orlandelli</td>\n",
       "      <td>10</td>\n",
       "      <td>Y'Shaarj, the Defiler</td>\n",
       "      <td>...</td>\n",
       "      <td>{'relevant': True, 'constructed': True}</td>\n",
       "      <td>NaN</td>\n",
       "      <td>10.0</td>\n",
       "      <td>10.0</td>\n",
       "      <td>[8, 98]</td>\n",
       "      <td>[61296]</td>\n",
       "      <td>NaN</td>\n",
       "      <td>NaN</td>\n",
       "      <td>12</td>\n",
       "      <td>neutral</td>\n",
       "    </tr>\n",
       "    <tr>\n",
       "      <th>1288</th>\n",
       "      <td>60445</td>\n",
       "      <td>1</td>\n",
       "      <td>60445-yogg-saron-master-of-fate</td>\n",
       "      <td></td>\n",
       "      <td>4</td>\n",
       "      <td>1466</td>\n",
       "      <td>5</td>\n",
       "      <td>Alex Horley Orlandelli</td>\n",
       "      <td>10</td>\n",
       "      <td>Yogg-Saron, Master of Fate</td>\n",
       "      <td>...</td>\n",
       "      <td>{'relevant': True, 'constructed': True}</td>\n",
       "      <td>NaN</td>\n",
       "      <td>5.0</td>\n",
       "      <td>7.0</td>\n",
       "      <td>[8]</td>\n",
       "      <td>[62081, 62083, 62085, 62086, 62087, 62088, 1087]</td>\n",
       "      <td>NaN</td>\n",
       "      <td>NaN</td>\n",
       "      <td>12</td>\n",
       "      <td>neutral</td>\n",
       "    </tr>\n",
       "  </tbody>\n",
       "</table>\n",
       "<p>1289 rows × 25 columns</p>\n",
       "</div>"
      ],
      "text/plain": [
       "         id  collectible                             slug multiClassIds  \\\n",
       "0     58607            1                       58607-blur                 \n",
       "1     56806            1          56806-shadowhoof-slayer                 \n",
       "2     58170            1       58170-crimson-sigil-runner                 \n",
       "3     59394            1            59394-demon-companion          14 3   \n",
       "4     59606            1                59606-double-jump                 \n",
       "...     ...          ...                              ...           ...   \n",
       "1284  61503            1        61503-cthun-the-shattered                 \n",
       "1285  61629            1            61629-darkmoon-rabbit                 \n",
       "1286  60443            1      60443-nzoth-god-of-the-deep                 \n",
       "1287  61308            1        61308-yshaarj-the-defiler                 \n",
       "1288  60445            1  60445-yogg-saron-master-of-fate                 \n",
       "\n",
       "      cardTypeId  cardSetId  rarityId              artistName  manaCost  \\\n",
       "0              5       1463         1            Zoltan Boros         0   \n",
       "1              4          2         2            A.J. Nazzaro         1   \n",
       "2              4       1414         1         Arthur Bozonnet         1   \n",
       "3              5       1443         3            Zoltan Boros         1   \n",
       "4              5       1443         1            A.J. Nazzaro         1   \n",
       "...          ...        ...       ...                     ...       ...   \n",
       "1284           4       1466         5  Alex Horley Orlandelli        10   \n",
       "1285           4       1466         4              Matt Dixon        10   \n",
       "1286           4       1466         5  Alex Horley Orlandelli        10   \n",
       "1287           4       1466         5  Alex Horley Orlandelli        10   \n",
       "1288           4       1466         5  Alex Horley Orlandelli        10   \n",
       "\n",
       "                            name  ...  \\\n",
       "0                           Blur  ...   \n",
       "1              Shadowhoof Slayer  ...   \n",
       "2           Crimson Sigil Runner  ...   \n",
       "3                Demon Companion  ...   \n",
       "4                    Double Jump  ...   \n",
       "...                          ...  ...   \n",
       "1284       C'Thun, the Shattered  ...   \n",
       "1285             Darkmoon Rabbit  ...   \n",
       "1286     N'Zoth, God of the Deep  ...   \n",
       "1287       Y'Shaarj, the Defiler  ...   \n",
       "1288  Yogg-Saron, Master of Fate  ...   \n",
       "\n",
       "                                        duels minionTypeId health attack  \\\n",
       "0     {'relevant': True, 'constructed': True}          NaN    NaN    NaN   \n",
       "1     {'relevant': True, 'constructed': True}         15.0    1.0    2.0   \n",
       "2                                         NaN          NaN    1.0    1.0   \n",
       "3     {'relevant': True, 'constructed': True}          NaN    NaN    NaN   \n",
       "4     {'relevant': True, 'constructed': True}          NaN    NaN    NaN   \n",
       "...                                       ...          ...    ...    ...   \n",
       "1284  {'relevant': True, 'constructed': True}          NaN    6.0    6.0   \n",
       "1285  {'relevant': True, 'constructed': True}         20.0    1.0    1.0   \n",
       "1286  {'relevant': True, 'constructed': True}          NaN    7.0    5.0   \n",
       "1287  {'relevant': True, 'constructed': True}          NaN   10.0   10.0   \n",
       "1288  {'relevant': True, 'constructed': True}          NaN    5.0    7.0   \n",
       "\n",
       "     keywordIds                                          childIds  durability  \\\n",
       "0           NaN                                               NaN         NaN   \n",
       "1           [8]                                               NaN         NaN   \n",
       "2          [86]                                               NaN         NaN   \n",
       "3           NaN                             [59391, 59392, 59393]         NaN   \n",
       "4          [86]                                               NaN         NaN   \n",
       "...         ...                                               ...         ...   \n",
       "1284    [8, 64]                      [61873, 61875, 61874, 61877]         NaN   \n",
       "1285   [32, 53]                                               NaN         NaN   \n",
       "1286        [8]                                               NaN         NaN   \n",
       "1287    [8, 98]                                           [61296]         NaN   \n",
       "1288        [8]  [62081, 62083, 62085, 62086, 62087, 62088, 1087]         NaN   \n",
       "\n",
       "      armor  id_prime_hero_class slug_prime_hero_class  \n",
       "0       NaN                   14           demonhunter  \n",
       "1       NaN                   14           demonhunter  \n",
       "2       NaN                   14           demonhunter  \n",
       "3       NaN                   14           demonhunter  \n",
       "4       NaN                   14           demonhunter  \n",
       "...     ...                  ...                   ...  \n",
       "1284    NaN                   12               neutral  \n",
       "1285    NaN                   12               neutral  \n",
       "1286    NaN                   12               neutral  \n",
       "1287    NaN                   12               neutral  \n",
       "1288    NaN                   12               neutral  \n",
       "\n",
       "[1289 rows x 25 columns]"
      ]
     },
     "execution_count": 50,
     "metadata": {},
     "output_type": "execute_result"
    }
   ],
   "source": [
    "# removing brackets and commas from multiclassids column\n",
    "cards.multiClassIds = cards.multiClassIds.str.replace('\\]|,|\\[' , '')\n",
    "\n",
    "# creating column to hold primary class id \n",
    "# if card is of one class, this will reflect its sole class\n",
    "# if card is dual, this will reflect the 1st of the two classes in the multiClassIds column\n",
    "# necessary since dual class cards erroneously hold the 'neutral' class value in their primary class id \n",
    "cards['primeclassId'] = np.where((cards.multiClassIds.str.contains(' ')), cards[\"multiClassIds\"].str.split(\" \", expand = True)[0], cards.classId)\n",
    "\n",
    "# converting key columns to make all value data types match\n",
    "cards.primeclassId = cards.primeclassId.astype(str)\n",
    "classes.id = classes.id.astype(str)\n",
    "\n",
    "# merging 'classes' df with card df\n",
    "df = pd.merge(cards, classes[['id', 'slug']], \n",
    "              left_on = 'primeclassId', right_on = 'id', how=\"left\", \n",
    "              suffixes = (None, '_prime_hero_class'))\n",
    "\n",
    "# dropping columns I no longer need\n",
    "df.drop(columns = ['primeclassId', 'classId'])"
   ]
  },
  {
   "cell_type": "markdown",
   "metadata": {},
   "source": [
    "### Merging 'mtypes' DF"
   ]
  },
  {
   "cell_type": "code",
   "execution_count": 51,
   "metadata": {
    "scrolled": true
   },
   "outputs": [],
   "source": [
    "# merging 'mtypes' df\n",
    "df = pd.merge(df, mtypes[['id', 'slug']], \n",
    "              left_on = 'minionTypeId', right_on = 'id', how=\"left\", \n",
    "              suffixes = (None, '_minion_type_id'))"
   ]
  },
  {
   "cell_type": "markdown",
   "metadata": {},
   "source": [
    "### Merging 'rarities' DF"
   ]
  },
  {
   "cell_type": "code",
   "execution_count": 52,
   "metadata": {},
   "outputs": [],
   "source": [
    "# merging 'rarities' df\n",
    "df = pd.merge(df, rarities[['id', 'slug']], \n",
    "              left_on = 'rarityId', right_on = 'id', how=\"left\", \n",
    "              suffixes = (None, '_rarity'))"
   ]
  },
  {
   "cell_type": "markdown",
   "metadata": {},
   "source": [
    "### Merging 'setGroups' DF"
   ]
  },
  {
   "cell_type": "code",
   "execution_count": 53,
   "metadata": {},
   "outputs": [],
   "source": [
    "# merging 'setgroups' df\n",
    "df = pd.merge(df, sets[['id', 'slug', 'name']], \n",
    "              left_on = 'cardSetId', right_on = 'id', how=\"left\", \n",
    "              suffixes = (None, '_set'))"
   ]
  },
  {
   "cell_type": "markdown",
   "metadata": {},
   "source": [
    "### Merging 'ctypes' DF"
   ]
  },
  {
   "cell_type": "code",
   "execution_count": 54,
   "metadata": {},
   "outputs": [],
   "source": [
    "# merging 'ctypes' df\n",
    "df = pd.merge(df, ctypes[['id', 'slug']], \n",
    "              left_on = 'cardTypeId', right_on = 'id', how=\"left\", \n",
    "              suffixes = (None, '_card_type'))"
   ]
  },
  {
   "cell_type": "markdown",
   "metadata": {},
   "source": [
    "### Merging 'keywords' DF"
   ]
  },
  {
   "cell_type": "code",
   "execution_count": 55,
   "metadata": {},
   "outputs": [],
   "source": [
    "# adding missing keyword data to 'keywords' df\n",
    "keywords.loc[len(keywords.index)] = ['64', 'start-of-game', 'Start of Game', \n",
    "                                     'Does something at the start of the Game.', \n",
    "                                     'Does something at the start of the Game.']\n",
    "\n",
    "# removing brackets and commas from keyword id column\n",
    "df.keywordIds = df.keywordIds.str.replace('\\]|,|\\[' , '')\n",
    "\n",
    "# splitting keyword ids into separate columns for each card\n",
    "kwdf = df[\"keywordIds\"].str.split(\" \", expand = True) \n",
    "\n",
    "# renaming columns\n",
    "kwdf.columns = ['keywordId1', 'keywordId2', 'keywordId3', 'keywordId4', 'keywordId5']\n",
    "\n",
    "# concatenating split keyword id columns with main df\n",
    "df = pd.concat([df, kwdf], axis=1)\n",
    "\n",
    "# converting keywords id column to str type to enable merge\n",
    "keywords.id = keywords.id.astype(str)\n",
    "\n",
    "# creating loop to add a column for the text name of each keyword ability of each card\n",
    "# via merging with keywords DF\n",
    "for x in kwdf.columns:\n",
    "    df = pd.merge(df, keywords[['id', 'slug']], \n",
    "              left_on = x, right_on = 'id', how = \"left\",\n",
    "              suffixes = (None, x + '_name'))"
   ]
  },
  {
   "cell_type": "markdown",
   "metadata": {},
   "source": [
    "## Checking for duplicate rows"
   ]
  },
  {
   "cell_type": "code",
   "execution_count": 56,
   "metadata": {},
   "outputs": [
    {
     "data": {
      "text/plain": [
       "(1289, 51)"
      ]
     },
     "execution_count": 56,
     "metadata": {},
     "output_type": "execute_result"
    }
   ],
   "source": [
    "# checking number of rows in current DF\n",
    "df.shape"
   ]
  },
  {
   "cell_type": "code",
   "execution_count": 57,
   "metadata": {
    "scrolled": true
   },
   "outputs": [
    {
     "data": {
      "text/plain": [
       "(1289, 51)"
      ]
     },
     "execution_count": 57,
     "metadata": {},
     "output_type": "execute_result"
    }
   ],
   "source": [
    "# Checking number of rows if duplicates were dropped\n",
    "df.drop_duplicates().shape"
   ]
  },
  {
   "cell_type": "markdown",
   "metadata": {},
   "source": [
    "- No duplicates found"
   ]
  },
  {
   "cell_type": "markdown",
   "metadata": {},
   "source": [
    "### Checking for proper data types, categorical columns (based on domain knowledge), and null counts"
   ]
  },
  {
   "cell_type": "code",
   "execution_count": 58,
   "metadata": {
    "scrolled": true
   },
   "outputs": [
    {
     "name": "stdout",
     "output_type": "stream",
     "text": [
      "<class 'pandas.core.frame.DataFrame'>\n",
      "Int64Index: 1289 entries, 0 to 1288\n",
      "Data columns (total 51 columns):\n",
      " #   Column                 Non-Null Count  Dtype  \n",
      "---  ------                 --------------  -----  \n",
      " 0   id                     1289 non-null   int64  \n",
      " 1   collectible            1289 non-null   int64  \n",
      " 2   slug                   1289 non-null   object \n",
      " 3   classId                1289 non-null   int64  \n",
      " 4   multiClassIds          1289 non-null   object \n",
      " 5   cardTypeId             1289 non-null   int64  \n",
      " 6   cardSetId              1289 non-null   int64  \n",
      " 7   rarityId               1289 non-null   int64  \n",
      " 8   artistName             1288 non-null   object \n",
      " 9   manaCost               1289 non-null   int64  \n",
      " 10  name                   1289 non-null   object \n",
      " 11  text                   1271 non-null   object \n",
      " 12  image                  1289 non-null   object \n",
      " 13  imageGold              805 non-null    object \n",
      " 14  flavorText             1289 non-null   object \n",
      " 15  cropImage              1289 non-null   object \n",
      " 16  duels                  708 non-null    object \n",
      " 17  minionTypeId           321 non-null    float64\n",
      " 18  health                 825 non-null    float64\n",
      " 19  attack                 860 non-null    float64\n",
      " 20  keywordIds             877 non-null    object \n",
      " 21  childIds               295 non-null    object \n",
      " 22  durability             48 non-null     float64\n",
      " 23  armor                  6 non-null      float64\n",
      " 24  primeclassId           1289 non-null   object \n",
      " 25  id_prime_hero_class    1289 non-null   object \n",
      " 26  slug_prime_hero_class  1289 non-null   object \n",
      " 27  id_minion_type_id      321 non-null    float64\n",
      " 28  slug_minion_type_id    321 non-null    object \n",
      " 29  id_rarity              1289 non-null   int64  \n",
      " 30  slug_rarity            1289 non-null   object \n",
      " 31  id_set                 1289 non-null   int64  \n",
      " 32  slug_set               1289 non-null   object \n",
      " 33  name_set               1289 non-null   object \n",
      " 34  id_card_type           1289 non-null   int64  \n",
      " 35  slug_card_type         1289 non-null   object \n",
      " 36  keywordId1             877 non-null    object \n",
      " 37  keywordId2             285 non-null    object \n",
      " 38  keywordId3             34 non-null     object \n",
      " 39  keywordId4             4 non-null      object \n",
      " 40  keywordId5             2 non-null      object \n",
      " 41  idkeywordId1_name      871 non-null    object \n",
      " 42  slugkeywordId1_name    871 non-null    object \n",
      " 43  idkeywordId2_name      282 non-null    object \n",
      " 44  slugkeywordId2_name    282 non-null    object \n",
      " 45  idkeywordId3_name      34 non-null     object \n",
      " 46  slugkeywordId3_name    34 non-null     object \n",
      " 47  idkeywordId4_name      4 non-null      object \n",
      " 48  slugkeywordId4_name    4 non-null      object \n",
      " 49  idkeywordId5_name      2 non-null      object \n",
      " 50  slugkeywordId5_name    2 non-null      object \n",
      "dtypes: float64(6), int64(10), object(35)\n",
      "memory usage: 523.7+ KB\n"
     ]
    }
   ],
   "source": [
    "df.info()"
   ]
  },
  {
   "cell_type": "markdown",
   "metadata": {},
   "source": [
    "- The following columns will be dropped as they won't be needed for the expected operations of this project\n",
    "    - id, slug\n",
    "        - unique identifiers for cards, not needed since the 'name' column provides this while also being easier to reference\n",
    "    - artistName, image, imageGold, cropImage\n",
    "        - I won't be exploring images or artist names in this iteration of the project\n",
    "    - all columns reflecting key words with the exception of the boolean columns and the 'slug_keyword#_name' columns\n",
    "        - The exempted columns are sufficient for the project's expected operations\n",
    "     \n",
    "     \n",
    "- Based on my domain knowledge of the game, I'm inferring that several of the columns are categorical\n",
    "    - I need to create boolean columns for categorical columns (rarity, card set, etc.)\n",
    "\n",
    "\n",
    "- Many null values that need to be addressed\n",
    "    - text\n",
    "    - duels\n",
    "    - minion type id\n",
    "    - health\n",
    "    - attack\n",
    "    - child ids\n",
    "    - durability\n",
    "    - armor"
   ]
  },
  {
   "cell_type": "markdown",
   "metadata": {},
   "source": [
    "### Dropping columns that aren't needed for the planned operations of this project"
   ]
  },
  {
   "cell_type": "code",
   "execution_count": 59,
   "metadata": {
    "scrolled": true
   },
   "outputs": [],
   "source": [
    "# creating list of columns to drop\n",
    "columns_to_drop = ['id', 'slug', 'artistName', 'image', 'imageGold', 'flavorText', 'cropImage']\n",
    "\n",
    "# dropping columns\n",
    "df.drop(columns = columns_to_drop, inplace = True)"
   ]
  },
  {
   "cell_type": "markdown",
   "metadata": {},
   "source": [
    "# Addressing Null Values"
   ]
  },
  {
   "cell_type": "markdown",
   "metadata": {},
   "source": [
    "### Addressing nulls in 'text' column"
   ]
  },
  {
   "cell_type": "code",
   "execution_count": 13,
   "metadata": {},
   "outputs": [
    {
     "data": {
      "text/plain": [
       "NaN                                                                            18\n",
       "<b>Taunt</b>                                                                   15\n",
       "<b>Charge</b>                                                                   7\n",
       "<b>Spell Damage +1</b>                                                          6\n",
       "<b>Stealth</b>                                                                  6\n",
       "                                                                               ..\n",
       "Whenever this minion takes damage, gain +3&nbsp;Attack.                         1\n",
       "<b>Rush</b> Whenever this attacks a minion, <b>Silence</b> it.                  1\n",
       "<b>Deathrattle:</b> Draw two 1-Health minions from your&nbsp;deck.              1\n",
       "<b>Battlecry:</b> <b>Freeze</b> a&nbsp;character.                               1\n",
       "At the end of your turn, deal 1 damage to this minion and summon a 1/1 Imp.     1\n",
       "Name: text, Length: 1215, dtype: int64"
      ]
     },
     "execution_count": 13,
     "metadata": {},
     "output_type": "execute_result"
    }
   ],
   "source": [
    "# checking values in text box\n",
    "df.text.value_counts(dropna = False)"
   ]
  },
  {
   "cell_type": "code",
   "execution_count": 74,
   "metadata": {},
   "outputs": [],
   "source": [
    "# filling null text values with 'no effect'\n",
    "df[\"text\"].fillna(\"no effect\", inplace = True) "
   ]
  },
  {
   "cell_type": "markdown",
   "metadata": {},
   "source": [
    "### Addressing nulls in 'duels' column"
   ]
  },
  {
   "cell_type": "code",
   "execution_count": 66,
   "metadata": {},
   "outputs": [
    {
     "data": {
      "text/plain": [
       "{'relevant': True, 'constructed': True}    708\n",
       "NaN                                        581\n",
       "Name: duels, dtype: int64"
      ]
     },
     "execution_count": 66,
     "metadata": {},
     "output_type": "execute_result"
    }
   ],
   "source": [
    "# checking duels values\n",
    "df.duels.value_counts(dropna = False)"
   ]
  },
  {
   "cell_type": "code",
   "execution_count": 67,
   "metadata": {},
   "outputs": [],
   "source": [
    "# updating duels column so that cards that were allowed in duels have value of 1 and 0 otherwise\n",
    "df['duels'] = np.where((df.duels == \"{'relevant': True, 'constructed': True}\"), 1, 0)"
   ]
  },
  {
   "cell_type": "markdown",
   "metadata": {},
   "source": [
    "### Addressing nulls in ' minionTypeId' column"
   ]
  },
  {
   "cell_type": "code",
   "execution_count": 68,
   "metadata": {},
   "outputs": [
    {
     "data": {
      "text/plain": [
       "NaN     968\n",
       "20.0     75\n",
       "15.0     63\n",
       "18.0     51\n",
       "24.0     50\n",
       "17.0     32\n",
       "14.0     25\n",
       "23.0     18\n",
       "21.0      6\n",
       "26.0      1\n",
       "Name: minionTypeId, dtype: int64"
      ]
     },
     "execution_count": 68,
     "metadata": {},
     "output_type": "execute_result"
    }
   ],
   "source": [
    "# checking minontypeId values\n",
    "df.minionTypeId.value_counts(dropna = False)"
   ]
  },
  {
   "cell_type": "code",
   "execution_count": 69,
   "metadata": {},
   "outputs": [],
   "source": [
    "# converting nulls to 'neutral' type\n",
    "df['minionTypeId'] = np.where((df.minionTypeId.isnull() == True), 'Neutral', df.minionTypeId)"
   ]
  },
  {
   "cell_type": "markdown",
   "metadata": {},
   "source": [
    "### Variable: childIds"
   ]
  },
  {
   "cell_type": "code",
   "execution_count": 70,
   "metadata": {},
   "outputs": [
    {
     "data": {
      "text/plain": [
       "no_childid                                                                994\n",
       "[52897, 52900, 53160, 53161, 53162, 53163, 55378, 60588, 64652, 64653]     15\n",
       "[59723]                                                                     8\n",
       "[53921]                                                                     3\n",
       "[56927]                                                                     3\n",
       "                                                                         ... \n",
       "[57156]                                                                     1\n",
       "[61701]                                                                     1\n",
       "[56935]                                                                     1\n",
       "[59919]                                                                     1\n",
       "[58496]                                                                     1\n",
       "Name: childIds, Length: 261, dtype: int64"
      ]
     },
     "execution_count": 70,
     "metadata": {},
     "output_type": "execute_result"
    }
   ],
   "source": [
    "# checking childIds values\n",
    "df.childIds.value_counts(dropna = False)"
   ]
  },
  {
   "cell_type": "code",
   "execution_count": 71,
   "metadata": {},
   "outputs": [],
   "source": [
    "# filling nulls with \"no_childid\"\n",
    "df.childIds.fillna(\"no_childid\", inplace = True) "
   ]
  },
  {
   "cell_type": "markdown",
   "metadata": {},
   "source": [
    "### Variables: health, attack, durability, armor\n",
    "All of these variables respective columns have null values since none of these variables apply to every card (examples: only minions have health while only weapons have durability). For the time being I'll fill these nulls \n",
    "with a value that represents infinity. If this causes issues later I'll employ a different means of handling them."
   ]
  },
  {
   "cell_type": "code",
   "execution_count": 72,
   "metadata": {},
   "outputs": [],
   "source": [
    "hada = ['health', 'attack', 'durability', 'armor']\n",
    "\n",
    "for att in hada:\n",
    "    df[att].fillna(float('inf'), inplace = True)"
   ]
  },
  {
   "cell_type": "code",
   "execution_count": 75,
   "metadata": {},
   "outputs": [
    {
     "name": "stdout",
     "output_type": "stream",
     "text": [
      "<class 'pandas.core.frame.DataFrame'>\n",
      "Int64Index: 1289 entries, 0 to 1288\n",
      "Data columns (total 44 columns):\n",
      " #   Column                 Non-Null Count  Dtype  \n",
      "---  ------                 --------------  -----  \n",
      " 0   collectible            1289 non-null   int64  \n",
      " 1   classId                1289 non-null   int64  \n",
      " 2   multiClassIds          1289 non-null   object \n",
      " 3   cardTypeId             1289 non-null   int64  \n",
      " 4   cardSetId              1289 non-null   int64  \n",
      " 5   rarityId               1289 non-null   int64  \n",
      " 6   manaCost               1289 non-null   int64  \n",
      " 7   name                   1289 non-null   object \n",
      " 8   text                   1289 non-null   object \n",
      " 9   duels                  1289 non-null   int64  \n",
      " 10  minionTypeId           1289 non-null   object \n",
      " 11  health                 1289 non-null   float64\n",
      " 12  attack                 1289 non-null   float64\n",
      " 13  keywordIds             877 non-null    object \n",
      " 14  childIds               1289 non-null   object \n",
      " 15  durability             1289 non-null   float64\n",
      " 16  armor                  1289 non-null   float64\n",
      " 17  primeclassId           1289 non-null   object \n",
      " 18  id_prime_hero_class    1289 non-null   object \n",
      " 19  slug_prime_hero_class  1289 non-null   object \n",
      " 20  id_minion_type_id      321 non-null    float64\n",
      " 21  slug_minion_type_id    321 non-null    object \n",
      " 22  id_rarity              1289 non-null   int64  \n",
      " 23  slug_rarity            1289 non-null   object \n",
      " 24  id_set                 1289 non-null   int64  \n",
      " 25  slug_set               1289 non-null   object \n",
      " 26  name_set               1289 non-null   object \n",
      " 27  id_card_type           1289 non-null   int64  \n",
      " 28  slug_card_type         1289 non-null   object \n",
      " 29  keywordId1             877 non-null    object \n",
      " 30  keywordId2             285 non-null    object \n",
      " 31  keywordId3             34 non-null     object \n",
      " 32  keywordId4             4 non-null      object \n",
      " 33  keywordId5             2 non-null      object \n",
      " 34  idkeywordId1_name      871 non-null    object \n",
      " 35  slugkeywordId1_name    871 non-null    object \n",
      " 36  idkeywordId2_name      282 non-null    object \n",
      " 37  slugkeywordId2_name    282 non-null    object \n",
      " 38  idkeywordId3_name      34 non-null     object \n",
      " 39  slugkeywordId3_name    34 non-null     object \n",
      " 40  idkeywordId4_name      4 non-null      object \n",
      " 41  slugkeywordId4_name    4 non-null      object \n",
      " 42  idkeywordId5_name      2 non-null      object \n",
      " 43  slugkeywordId5_name    2 non-null      object \n",
      "dtypes: float64(5), int64(10), object(29)\n",
      "memory usage: 493.2+ KB\n"
     ]
    }
   ],
   "source": [
    "df.info()"
   ]
  },
  {
   "cell_type": "markdown",
   "metadata": {},
   "source": [
    "# Creating boolean columns for categorical variables"
   ]
  },
  {
   "cell_type": "markdown",
   "metadata": {},
   "source": [
    "### Creating boolean columns for 'keywords'"
   ]
  },
  {
   "cell_type": "code",
   "execution_count": 21,
   "metadata": {},
   "outputs": [],
   "source": [
    "# loop iterates through each keyword and creates a boolean column for it\n",
    "for kw in keywords.slug:\n",
    "    df['has_' + kw] = np.where(\n",
    "    (df.slugkeywordId1_name == kw) |\n",
    "    (df.slugkeywordId2_name == kw) |\n",
    "    (df.slugkeywordId3_name == kw) |\n",
    "    (df.slugkeywordId4_name == kw) |\n",
    "    (df.slugkeywordId5_name == kw), 1, 0)\n",
    "    \n",
    "# creating empty list\n",
    "key_word_col_drop = []\n",
    "\n",
    "# iterating through columns in df and creating list of columns to drop\n",
    "for col in df.columns:\n",
    "    if 'keywordId' in col:\n",
    "        key_word_col_drop.append(col)\n",
    "        \n",
    "# dropping columns\n",
    "df.drop(columns = key_word_col_drop, inplace = True)"
   ]
  },
  {
   "cell_type": "markdown",
   "metadata": {},
   "source": [
    "### Creating boolean columns for 'hero classes'"
   ]
  },
  {
   "cell_type": "code",
   "execution_count": 22,
   "metadata": {},
   "outputs": [],
   "source": [
    "# removing brackets and commas from multiclassids column\n",
    "df.multiClassIds = df.multiClassIds.str.replace('\\]|,|\\[' , '')\n",
    "\n",
    "# creating column that holds secondary class separate from primary class\n",
    "df['classId2'] = df[\"multiClassIds\"].str.split(\" \", expand = True)[1]\n",
    "\n",
    "# converting column to str type to enable merge with newly created column 'classId2'\n",
    "classes.id = classes.id.astype(str)\n",
    "\n",
    "# creating df containing columns for merge in order to rename before merge without altering original classes DF\n",
    "classes2 = classes[['id', 'slug']]\n",
    "\n",
    "# renaming columns\n",
    "classes2.columns = ['classId2', 'slug_second_hero_class']\n",
    "\n",
    "# merging 'classes' on secondary hero class id to get secondary class names\n",
    "df = pd.merge(df, classes2[['classId2', 'slug_second_hero_class']], \n",
    "              on = 'classId2', how=\"left\")\n",
    "\n",
    "# creating boolean columns for each hero class\n",
    "for c in classes.slug:\n",
    "    df['is_' + c] = np.where(\n",
    "    (df.slug_prime_hero_class == c) | (df.slug_second_hero_class == c), 1, 0)"
   ]
  },
  {
   "cell_type": "code",
   "execution_count": 24,
   "metadata": {},
   "outputs": [
    {
     "name": "stdout",
     "output_type": "stream",
     "text": [
      "<class 'pandas.core.frame.DataFrame'>\n",
      "Int64Index: 1289 entries, 0 to 1288\n",
      "Data columns (total 79 columns):\n",
      " #   Column                  Non-Null Count  Dtype  \n",
      "---  ------                  --------------  -----  \n",
      " 0   collectible             1289 non-null   int64  \n",
      " 1   classId                 1289 non-null   int64  \n",
      " 2   multiClassIds           1289 non-null   object \n",
      " 3   cardTypeId              1289 non-null   int64  \n",
      " 4   cardSetId               1289 non-null   int64  \n",
      " 5   rarityId                1289 non-null   int64  \n",
      " 6   manaCost                1289 non-null   int64  \n",
      " 7   name                    1289 non-null   object \n",
      " 8   text                    1289 non-null   object \n",
      " 9   duels                   1289 non-null   int64  \n",
      " 10  minionTypeId            1289 non-null   object \n",
      " 11  health                  825 non-null    float64\n",
      " 12  attack                  860 non-null    float64\n",
      " 13  childIds                1289 non-null   object \n",
      " 14  durability              48 non-null     float64\n",
      " 15  armor                   6 non-null      float64\n",
      " 16  primeclassId            1289 non-null   object \n",
      " 17  id_prime_hero_class     1289 non-null   object \n",
      " 18  slug_prime_hero_class   1289 non-null   object \n",
      " 19  id_minion_type_id       321 non-null    float64\n",
      " 20  slug_minion_type_id     321 non-null    object \n",
      " 21  id_rarity               1289 non-null   int64  \n",
      " 22  slug_rarity             1289 non-null   object \n",
      " 23  id_set                  1289 non-null   int64  \n",
      " 24  slug_set                1289 non-null   object \n",
      " 25  name_set                1289 non-null   object \n",
      " 26  id_card_type            1289 non-null   int64  \n",
      " 27  slug_card_type          1289 non-null   object \n",
      " 28  has_taunt               1289 non-null   int64  \n",
      " 29  has_spellpower          1289 non-null   int64  \n",
      " 30  has_divine-shield       1289 non-null   int64  \n",
      " 31  has_charge              1289 non-null   int64  \n",
      " 32  has_secret              1289 non-null   int64  \n",
      " 33  has_stealth             1289 non-null   int64  \n",
      " 34  has_battlecry           1289 non-null   int64  \n",
      " 35  has_freeze              1289 non-null   int64  \n",
      " 36  has_windfury            1289 non-null   int64  \n",
      " 37  has_deathrattle         1289 non-null   int64  \n",
      " 38  has_combo               1289 non-null   int64  \n",
      " 39  has_overload            1289 non-null   int64  \n",
      " 40  has_silence             1289 non-null   int64  \n",
      " 41  has_counter             1289 non-null   int64  \n",
      " 42  has_immune              1289 non-null   int64  \n",
      " 43  has_spare-part          1289 non-null   int64  \n",
      " 44  has_inspire             1289 non-null   int64  \n",
      " 45  has_discover            1289 non-null   int64  \n",
      " 46  has_quest               1289 non-null   int64  \n",
      " 47  has_poisonous           1289 non-null   int64  \n",
      " 48  has_adapt               1289 non-null   int64  \n",
      " 49  has_lifesteal           1289 non-null   int64  \n",
      " 50  has_recruit             1289 non-null   int64  \n",
      " 51  has_echo                1289 non-null   int64  \n",
      " 52  has_rush                1289 non-null   int64  \n",
      " 53  has_overkill            1289 non-null   int64  \n",
      " 54  has_modular             1289 non-null   int64  \n",
      " 55  has_evilzug             1289 non-null   int64  \n",
      " 56  has_twinspell           1289 non-null   int64  \n",
      " 57  has_mega-windfury       1289 non-null   int64  \n",
      " 58  has_reborn              1289 non-null   int64  \n",
      " 59  has_empower             1289 non-null   int64  \n",
      " 60  has_outcast             1289 non-null   int64  \n",
      " 61  has_spellburst          1289 non-null   int64  \n",
      " 62  has_sidequest           1289 non-null   int64  \n",
      " 63  has_corrupt             1289 non-null   int64  \n",
      " 64  has_start-of-combat     1289 non-null   int64  \n",
      " 65  has_start-of-game       1289 non-null   int64  \n",
      " 66  classId2                50 non-null     object \n",
      " 67  slug_second_hero_class  50 non-null     object \n",
      " 68  is_demonhunter          1289 non-null   int64  \n",
      " 69  is_druid                1289 non-null   int64  \n",
      " 70  is_hunter               1289 non-null   int64  \n",
      " 71  is_mage                 1289 non-null   int64  \n",
      " 72  is_paladin              1289 non-null   int64  \n",
      " 73  is_priest               1289 non-null   int64  \n",
      " 74  is_rogue                1289 non-null   int64  \n",
      " 75  is_shaman               1289 non-null   int64  \n",
      " 76  is_warlock              1289 non-null   int64  \n",
      " 77  is_warrior              1289 non-null   int64  \n",
      " 78  is_neutral              1289 non-null   int64  \n",
      "dtypes: float64(5), int64(59), object(15)\n",
      "memory usage: 805.6+ KB\n"
     ]
    }
   ],
   "source": [
    "df.info()"
   ]
  },
  {
   "cell_type": "code",
   "execution_count": 28,
   "metadata": {},
   "outputs": [
    {
     "ename": "AttributeError",
     "evalue": "'DataFrame' object has no attribute 'slug_minionTypeId'",
     "output_type": "error",
     "traceback": [
      "\u001b[0;31m---------------------------------------------------------------------------\u001b[0m",
      "\u001b[0;31mAttributeError\u001b[0m                            Traceback (most recent call last)",
      "\u001b[0;32m<ipython-input-28-9970571fe62e>\u001b[0m in \u001b[0;36m<module>\u001b[0;34m\u001b[0m\n\u001b[0;32m----> 1\u001b[0;31m \u001b[0mdf\u001b[0m\u001b[0;34m.\u001b[0m\u001b[0mslug_minionTypeId\u001b[0m\u001b[0;34m\u001b[0m\u001b[0;34m\u001b[0m\u001b[0m\n\u001b[0m",
      "\u001b[0;32m/usr/local/anaconda3/lib/python3.7/site-packages/pandas/core/generic.py\u001b[0m in \u001b[0;36m__getattr__\u001b[0;34m(self, name)\u001b[0m\n\u001b[1;32m   5272\u001b[0m             \u001b[0;32mif\u001b[0m \u001b[0mself\u001b[0m\u001b[0;34m.\u001b[0m\u001b[0m_info_axis\u001b[0m\u001b[0;34m.\u001b[0m\u001b[0m_can_hold_identifiers_and_holds_name\u001b[0m\u001b[0;34m(\u001b[0m\u001b[0mname\u001b[0m\u001b[0;34m)\u001b[0m\u001b[0;34m:\u001b[0m\u001b[0;34m\u001b[0m\u001b[0;34m\u001b[0m\u001b[0m\n\u001b[1;32m   5273\u001b[0m                 \u001b[0;32mreturn\u001b[0m \u001b[0mself\u001b[0m\u001b[0;34m[\u001b[0m\u001b[0mname\u001b[0m\u001b[0;34m]\u001b[0m\u001b[0;34m\u001b[0m\u001b[0;34m\u001b[0m\u001b[0m\n\u001b[0;32m-> 5274\u001b[0;31m             \u001b[0;32mreturn\u001b[0m \u001b[0mobject\u001b[0m\u001b[0;34m.\u001b[0m\u001b[0m__getattribute__\u001b[0m\u001b[0;34m(\u001b[0m\u001b[0mself\u001b[0m\u001b[0;34m,\u001b[0m \u001b[0mname\u001b[0m\u001b[0;34m)\u001b[0m\u001b[0;34m\u001b[0m\u001b[0;34m\u001b[0m\u001b[0m\n\u001b[0m\u001b[1;32m   5275\u001b[0m \u001b[0;34m\u001b[0m\u001b[0m\n\u001b[1;32m   5276\u001b[0m     \u001b[0;32mdef\u001b[0m \u001b[0m__setattr__\u001b[0m\u001b[0;34m(\u001b[0m\u001b[0mself\u001b[0m\u001b[0;34m,\u001b[0m \u001b[0mname\u001b[0m\u001b[0;34m:\u001b[0m \u001b[0mstr\u001b[0m\u001b[0;34m,\u001b[0m \u001b[0mvalue\u001b[0m\u001b[0;34m)\u001b[0m \u001b[0;34m->\u001b[0m \u001b[0;32mNone\u001b[0m\u001b[0;34m:\u001b[0m\u001b[0;34m\u001b[0m\u001b[0;34m\u001b[0m\u001b[0m\n",
      "\u001b[0;31mAttributeError\u001b[0m: 'DataFrame' object has no attribute 'slug_minionTypeId'"
     ]
    }
   ],
   "source": [
    "df.slug_minionTypeId"
   ]
  },
  {
   "cell_type": "code",
   "execution_count": null,
   "metadata": {},
   "outputs": [],
   "source": []
  }
 ],
 "metadata": {
  "kernelspec": {
   "display_name": "Python 3",
   "language": "python",
   "name": "python3"
  },
  "language_info": {
   "codemirror_mode": {
    "name": "ipython",
    "version": 3
   },
   "file_extension": ".py",
   "mimetype": "text/x-python",
   "name": "python",
   "nbconvert_exporter": "python",
   "pygments_lexer": "ipython3",
   "version": "3.7.6"
  }
 },
 "nbformat": 4,
 "nbformat_minor": 4
}
