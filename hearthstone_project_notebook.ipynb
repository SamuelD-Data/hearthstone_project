{
 "cells": [
  {
   "cell_type": "markdown",
   "metadata": {},
   "source": [
    "# Hearthstone Project\n",
    "***\n",
    "***"
   ]
  },
  {
   "cell_type": "markdown",
   "metadata": {},
   "source": [
    "# Setup\n",
    "***"
   ]
  },
  {
   "cell_type": "code",
   "execution_count": 4,
   "metadata": {},
   "outputs": [],
   "source": [
    "import pandas as pd"
   ]
  },
  {
   "cell_type": "markdown",
   "metadata": {},
   "source": [
    "# Acquire\n",
    "***"
   ]
  },
  {
   "cell_type": "code",
   "execution_count": 65,
   "metadata": {},
   "outputs": [],
   "source": [
    "df = pd.read_csv('hearthstone_standard_cards.csv')"
   ]
  },
  {
   "cell_type": "code",
   "execution_count": 66,
   "metadata": {
    "scrolled": true
   },
   "outputs": [
    {
     "data": {
      "text/html": [
       "<div>\n",
       "<style scoped>\n",
       "    .dataframe tbody tr th:only-of-type {\n",
       "        vertical-align: middle;\n",
       "    }\n",
       "\n",
       "    .dataframe tbody tr th {\n",
       "        vertical-align: top;\n",
       "    }\n",
       "\n",
       "    .dataframe thead th {\n",
       "        text-align: right;\n",
       "    }\n",
       "</style>\n",
       "<table border=\"1\" class=\"dataframe\">\n",
       "  <thead>\n",
       "    <tr style=\"text-align: right;\">\n",
       "      <th></th>\n",
       "      <th>id</th>\n",
       "      <th>collectible</th>\n",
       "      <th>slug</th>\n",
       "      <th>classId</th>\n",
       "      <th>multiClassIds</th>\n",
       "      <th>cardTypeId</th>\n",
       "      <th>cardSetId</th>\n",
       "      <th>rarityId</th>\n",
       "      <th>artistName</th>\n",
       "      <th>manaCost</th>\n",
       "      <th>...</th>\n",
       "      <th>flavorText</th>\n",
       "      <th>cropImage</th>\n",
       "      <th>duels</th>\n",
       "      <th>minionTypeId</th>\n",
       "      <th>health</th>\n",
       "      <th>attack</th>\n",
       "      <th>keywordIds</th>\n",
       "      <th>childIds</th>\n",
       "      <th>durability</th>\n",
       "      <th>armor</th>\n",
       "    </tr>\n",
       "  </thead>\n",
       "  <tbody>\n",
       "    <tr>\n",
       "      <th>0</th>\n",
       "      <td>58607</td>\n",
       "      <td>1</td>\n",
       "      <td>58607-blur</td>\n",
       "      <td>14</td>\n",
       "      <td>[]</td>\n",
       "      <td>5</td>\n",
       "      <td>1463</td>\n",
       "      <td>1</td>\n",
       "      <td>Zoltan Boros</td>\n",
       "      <td>0</td>\n",
       "      <td>...</td>\n",
       "      <td>\"What are you trying to tell me? That I can do...</td>\n",
       "      <td>https://d15f34w2p8l1cc.cloudfront.net/hearthst...</td>\n",
       "      <td>{'relevant': True, 'constructed': True}</td>\n",
       "      <td>NaN</td>\n",
       "      <td>NaN</td>\n",
       "      <td>NaN</td>\n",
       "      <td>NaN</td>\n",
       "      <td>NaN</td>\n",
       "      <td>NaN</td>\n",
       "      <td>NaN</td>\n",
       "    </tr>\n",
       "    <tr>\n",
       "      <th>1</th>\n",
       "      <td>56806</td>\n",
       "      <td>1</td>\n",
       "      <td>56806-shadowhoof-slayer</td>\n",
       "      <td>14</td>\n",
       "      <td>[]</td>\n",
       "      <td>4</td>\n",
       "      <td>2</td>\n",
       "      <td>2</td>\n",
       "      <td>A.J. Nazzaro</td>\n",
       "      <td>1</td>\n",
       "      <td>...</td>\n",
       "      <td>Was a humble Elven Archer before Sargeras got ...</td>\n",
       "      <td>https://d15f34w2p8l1cc.cloudfront.net/hearthst...</td>\n",
       "      <td>{'relevant': True, 'constructed': True}</td>\n",
       "      <td>15.0</td>\n",
       "      <td>1.0</td>\n",
       "      <td>2.0</td>\n",
       "      <td>[8]</td>\n",
       "      <td>NaN</td>\n",
       "      <td>NaN</td>\n",
       "      <td>NaN</td>\n",
       "    </tr>\n",
       "    <tr>\n",
       "      <th>2</th>\n",
       "      <td>58170</td>\n",
       "      <td>1</td>\n",
       "      <td>58170-crimson-sigil-runner</td>\n",
       "      <td>14</td>\n",
       "      <td>[]</td>\n",
       "      <td>4</td>\n",
       "      <td>1414</td>\n",
       "      <td>1</td>\n",
       "      <td>Arthur Bozonnet</td>\n",
       "      <td>1</td>\n",
       "      <td>...</td>\n",
       "      <td>He's not the fastest of the bunch, but he'll t...</td>\n",
       "      <td>https://d15f34w2p8l1cc.cloudfront.net/hearthst...</td>\n",
       "      <td>NaN</td>\n",
       "      <td>NaN</td>\n",
       "      <td>1.0</td>\n",
       "      <td>1.0</td>\n",
       "      <td>[86]</td>\n",
       "      <td>NaN</td>\n",
       "      <td>NaN</td>\n",
       "      <td>NaN</td>\n",
       "    </tr>\n",
       "    <tr>\n",
       "      <th>3</th>\n",
       "      <td>59394</td>\n",
       "      <td>1</td>\n",
       "      <td>59394-demon-companion</td>\n",
       "      <td>14</td>\n",
       "      <td>[14, 3]</td>\n",
       "      <td>5</td>\n",
       "      <td>1443</td>\n",
       "      <td>3</td>\n",
       "      <td>Zoltan Boros</td>\n",
       "      <td>1</td>\n",
       "      <td>...</td>\n",
       "      <td>Owning a pet can be real hell at times.</td>\n",
       "      <td>https://d15f34w2p8l1cc.cloudfront.net/hearthst...</td>\n",
       "      <td>{'relevant': True, 'constructed': True}</td>\n",
       "      <td>NaN</td>\n",
       "      <td>NaN</td>\n",
       "      <td>NaN</td>\n",
       "      <td>NaN</td>\n",
       "      <td>[59391, 59392, 59393]</td>\n",
       "      <td>NaN</td>\n",
       "      <td>NaN</td>\n",
       "    </tr>\n",
       "    <tr>\n",
       "      <th>4</th>\n",
       "      <td>59606</td>\n",
       "      <td>1</td>\n",
       "      <td>59606-double-jump</td>\n",
       "      <td>14</td>\n",
       "      <td>[]</td>\n",
       "      <td>5</td>\n",
       "      <td>1443</td>\n",
       "      <td>1</td>\n",
       "      <td>A.J. Nazzaro</td>\n",
       "      <td>1</td>\n",
       "      <td>...</td>\n",
       "      <td>The key to every speed run.</td>\n",
       "      <td>https://d15f34w2p8l1cc.cloudfront.net/hearthst...</td>\n",
       "      <td>{'relevant': True, 'constructed': True}</td>\n",
       "      <td>NaN</td>\n",
       "      <td>NaN</td>\n",
       "      <td>NaN</td>\n",
       "      <td>[86]</td>\n",
       "      <td>NaN</td>\n",
       "      <td>NaN</td>\n",
       "      <td>NaN</td>\n",
       "    </tr>\n",
       "  </tbody>\n",
       "</table>\n",
       "<p>5 rows × 24 columns</p>\n",
       "</div>"
      ],
      "text/plain": [
       "      id  collectible                        slug  classId multiClassIds  \\\n",
       "0  58607            1                  58607-blur       14            []   \n",
       "1  56806            1     56806-shadowhoof-slayer       14            []   \n",
       "2  58170            1  58170-crimson-sigil-runner       14            []   \n",
       "3  59394            1       59394-demon-companion       14       [14, 3]   \n",
       "4  59606            1           59606-double-jump       14            []   \n",
       "\n",
       "   cardTypeId  cardSetId  rarityId       artistName  manaCost  ...  \\\n",
       "0           5       1463         1     Zoltan Boros         0  ...   \n",
       "1           4          2         2     A.J. Nazzaro         1  ...   \n",
       "2           4       1414         1  Arthur Bozonnet         1  ...   \n",
       "3           5       1443         3     Zoltan Boros         1  ...   \n",
       "4           5       1443         1     A.J. Nazzaro         1  ...   \n",
       "\n",
       "                                          flavorText  \\\n",
       "0  \"What are you trying to tell me? That I can do...   \n",
       "1  Was a humble Elven Archer before Sargeras got ...   \n",
       "2  He's not the fastest of the bunch, but he'll t...   \n",
       "3            Owning a pet can be real hell at times.   \n",
       "4                        The key to every speed run.   \n",
       "\n",
       "                                           cropImage  \\\n",
       "0  https://d15f34w2p8l1cc.cloudfront.net/hearthst...   \n",
       "1  https://d15f34w2p8l1cc.cloudfront.net/hearthst...   \n",
       "2  https://d15f34w2p8l1cc.cloudfront.net/hearthst...   \n",
       "3  https://d15f34w2p8l1cc.cloudfront.net/hearthst...   \n",
       "4  https://d15f34w2p8l1cc.cloudfront.net/hearthst...   \n",
       "\n",
       "                                     duels minionTypeId health attack  \\\n",
       "0  {'relevant': True, 'constructed': True}          NaN    NaN    NaN   \n",
       "1  {'relevant': True, 'constructed': True}         15.0    1.0    2.0   \n",
       "2                                      NaN          NaN    1.0    1.0   \n",
       "3  {'relevant': True, 'constructed': True}          NaN    NaN    NaN   \n",
       "4  {'relevant': True, 'constructed': True}          NaN    NaN    NaN   \n",
       "\n",
       "  keywordIds               childIds  durability  armor  \n",
       "0        NaN                    NaN         NaN    NaN  \n",
       "1        [8]                    NaN         NaN    NaN  \n",
       "2       [86]                    NaN         NaN    NaN  \n",
       "3        NaN  [59391, 59392, 59393]         NaN    NaN  \n",
       "4       [86]                    NaN         NaN    NaN  \n",
       "\n",
       "[5 rows x 24 columns]"
      ]
     },
     "execution_count": 66,
     "metadata": {},
     "output_type": "execute_result"
    }
   ],
   "source": [
    "df.head()"
   ]
  },
  {
   "cell_type": "markdown",
   "metadata": {},
   "source": [
    "# Prepare\n",
    "***"
   ]
  },
  {
   "cell_type": "code",
   "execution_count": 8,
   "metadata": {},
   "outputs": [
    {
     "name": "stdout",
     "output_type": "stream",
     "text": [
      "<class 'pandas.core.frame.DataFrame'>\n",
      "RangeIndex: 1289 entries, 0 to 1288\n",
      "Data columns (total 24 columns):\n",
      " #   Column         Non-Null Count  Dtype  \n",
      "---  ------         --------------  -----  \n",
      " 0   id             1289 non-null   int64  \n",
      " 1   collectible    1289 non-null   int64  \n",
      " 2   slug           1289 non-null   object \n",
      " 3   classId        1289 non-null   int64  \n",
      " 4   multiClassIds  1289 non-null   object \n",
      " 5   cardTypeId     1289 non-null   int64  \n",
      " 6   cardSetId      1289 non-null   int64  \n",
      " 7   rarityId       1289 non-null   int64  \n",
      " 8   artistName     1288 non-null   object \n",
      " 9   manaCost       1289 non-null   int64  \n",
      " 10  name           1289 non-null   object \n",
      " 11  text           1271 non-null   object \n",
      " 12  image          1289 non-null   object \n",
      " 13  imageGold      805 non-null    object \n",
      " 14  flavorText     1289 non-null   object \n",
      " 15  cropImage      1289 non-null   object \n",
      " 16  duels          708 non-null    object \n",
      " 17  minionTypeId   321 non-null    float64\n",
      " 18  health         825 non-null    float64\n",
      " 19  attack         860 non-null    float64\n",
      " 20  keywordIds     877 non-null    object \n",
      " 21  childIds       295 non-null    object \n",
      " 22  durability     48 non-null     float64\n",
      " 23  armor          6 non-null      float64\n",
      "dtypes: float64(5), int64(7), object(12)\n",
      "memory usage: 241.8+ KB\n"
     ]
    }
   ],
   "source": [
    "df.info()"
   ]
  },
  {
   "cell_type": "markdown",
   "metadata": {},
   "source": [
    "- data types are acceptable for expected operations\n",
    "- many null values that need to be addressed\n",
    "    - artist name\n",
    "    - text\n",
    "    - image gold\n",
    "    - duels\n",
    "    - minion type id\n",
    "    - health\n",
    "    - attack\n",
    "    - keyword ids\n",
    "    - child ids\n",
    "    - durability\n",
    "    - armor"
   ]
  },
  {
   "cell_type": "markdown",
   "metadata": {},
   "source": [
    "### Dropping columns I don't intend to perform operations with"
   ]
  },
  {
   "cell_type": "code",
   "execution_count": 76,
   "metadata": {},
   "outputs": [],
   "source": [
    "df.drop(columns = ['id', 'slug', 'artistName', 'image', 'imageGold', 'flavorText', 'cropImage'], inplace = True)"
   ]
  },
  {
   "cell_type": "markdown",
   "metadata": {},
   "source": [
    "### Examining and addressing null values within individual columns"
   ]
  },
  {
   "cell_type": "markdown",
   "metadata": {},
   "source": [
    "### Artist Name"
   ]
  },
  {
   "cell_type": "code",
   "execution_count": 67,
   "metadata": {},
   "outputs": [
    {
     "data": {
      "text/plain": [
       "James Ryman               53\n",
       "Alex Horley Orlandelli    53\n",
       "Matt Dixon                49\n",
       "Ivan Fomin                48\n",
       "Jim Nelson                47\n",
       "                          ..\n",
       "Michal Ivan                1\n",
       "Scott Hampton              1\n",
       "Patrik Hjelm               1\n",
       "Derk Venneman              1\n",
       "NaN                        1\n",
       "Name: artistName, Length: 233, dtype: int64"
      ]
     },
     "execution_count": 67,
     "metadata": {},
     "output_type": "execute_result"
    }
   ],
   "source": [
    "df.artistName.value_counts(dropna = False)"
   ]
  },
  {
   "cell_type": "code",
   "execution_count": 68,
   "metadata": {},
   "outputs": [],
   "source": [
    "df[\"artistName\"].fillna(\"Unknown\", inplace = True) "
   ]
  },
  {
   "cell_type": "code",
   "execution_count": 69,
   "metadata": {},
   "outputs": [
    {
     "data": {
      "text/html": [
       "<div>\n",
       "<style scoped>\n",
       "    .dataframe tbody tr th:only-of-type {\n",
       "        vertical-align: middle;\n",
       "    }\n",
       "\n",
       "    .dataframe tbody tr th {\n",
       "        vertical-align: top;\n",
       "    }\n",
       "\n",
       "    .dataframe thead th {\n",
       "        text-align: right;\n",
       "    }\n",
       "</style>\n",
       "<table border=\"1\" class=\"dataframe\">\n",
       "  <thead>\n",
       "    <tr style=\"text-align: right;\">\n",
       "      <th></th>\n",
       "      <th>id</th>\n",
       "      <th>collectible</th>\n",
       "      <th>slug</th>\n",
       "      <th>classId</th>\n",
       "      <th>multiClassIds</th>\n",
       "      <th>cardTypeId</th>\n",
       "      <th>cardSetId</th>\n",
       "      <th>rarityId</th>\n",
       "      <th>artistName</th>\n",
       "      <th>manaCost</th>\n",
       "      <th>...</th>\n",
       "      <th>flavorText</th>\n",
       "      <th>cropImage</th>\n",
       "      <th>duels</th>\n",
       "      <th>minionTypeId</th>\n",
       "      <th>health</th>\n",
       "      <th>attack</th>\n",
       "      <th>keywordIds</th>\n",
       "      <th>childIds</th>\n",
       "      <th>durability</th>\n",
       "      <th>armor</th>\n",
       "    </tr>\n",
       "  </thead>\n",
       "  <tbody>\n",
       "    <tr>\n",
       "      <th>927</th>\n",
       "      <td>61967</td>\n",
       "      <td>1</td>\n",
       "      <td>61967-resizing-pouch</td>\n",
       "      <td>12</td>\n",
       "      <td>[3, 2]</td>\n",
       "      <td>5</td>\n",
       "      <td>1466</td>\n",
       "      <td>1</td>\n",
       "      <td>Unknown</td>\n",
       "      <td>1</td>\n",
       "      <td>...</td>\n",
       "      <td>Just don't put a Resizing Pouch inside the Res...</td>\n",
       "      <td>https://d15f34w2p8l1cc.cloudfront.net/hearthst...</td>\n",
       "      <td>{'relevant': True, 'constructed': True}</td>\n",
       "      <td>NaN</td>\n",
       "      <td>NaN</td>\n",
       "      <td>NaN</td>\n",
       "      <td>[21]</td>\n",
       "      <td>NaN</td>\n",
       "      <td>NaN</td>\n",
       "      <td>NaN</td>\n",
       "    </tr>\n",
       "  </tbody>\n",
       "</table>\n",
       "<p>1 rows × 24 columns</p>\n",
       "</div>"
      ],
      "text/plain": [
       "        id  collectible                  slug  classId multiClassIds  \\\n",
       "927  61967            1  61967-resizing-pouch       12        [3, 2]   \n",
       "\n",
       "     cardTypeId  cardSetId  rarityId artistName  manaCost  ...  \\\n",
       "927           5       1466         1    Unknown         1  ...   \n",
       "\n",
       "                                            flavorText  \\\n",
       "927  Just don't put a Resizing Pouch inside the Res...   \n",
       "\n",
       "                                             cropImage  \\\n",
       "927  https://d15f34w2p8l1cc.cloudfront.net/hearthst...   \n",
       "\n",
       "                                       duels minionTypeId health attack  \\\n",
       "927  {'relevant': True, 'constructed': True}          NaN    NaN    NaN   \n",
       "\n",
       "    keywordIds  childIds  durability  armor  \n",
       "927       [21]       NaN         NaN    NaN  \n",
       "\n",
       "[1 rows x 24 columns]"
      ]
     },
     "execution_count": 69,
     "metadata": {},
     "output_type": "execute_result"
    }
   ],
   "source": [
    "df[df.artistName ==  'Unknown']"
   ]
  },
  {
   "cell_type": "markdown",
   "metadata": {},
   "source": [
    "### Text"
   ]
  },
  {
   "cell_type": "code",
   "execution_count": 62,
   "metadata": {},
   "outputs": [
    {
     "data": {
      "text/plain": [
       "<b>Taunt</b>                                                                                          15\n",
       "<b>Charge</b>                                                                                          7\n",
       "<b>Spell Damage +1</b>                                                                                 6\n",
       "<b>Stealth</b>                                                                                         6\n",
       "<b>Divine Shield</b>                                                                                   5\n",
       "                                                                                                      ..\n",
       "Transform all minions into random ones with the same Cost.                                             1\n",
       "<b>Taunt</b> <b>Battlecry:</b> If you're holding a spell that costs (5) or more, restore 5 Health.     1\n",
       "<b>Battlecry:</b> Your hero can't be targeted by spells or Hero Powers until your next turn.           1\n",
       "<b>Discover</b> a Demon. Your next one costs (1) less.                                                 1\n",
       "Draw 1 (card, cards) <i>(improved by <b>Spell Damage</b>)</i>.                                         1\n",
       "Name: text, Length: 1214, dtype: int64"
      ]
     },
     "execution_count": 62,
     "metadata": {},
     "output_type": "execute_result"
    }
   ],
   "source": [
    "df.text.value_counts()"
   ]
  },
  {
   "cell_type": "code",
   "execution_count": 70,
   "metadata": {},
   "outputs": [],
   "source": [
    "df[\"text\"].fillna(\"No Effect\", inplace = True) "
   ]
  },
  {
   "cell_type": "markdown",
   "metadata": {},
   "source": [
    "### Image Gold"
   ]
  },
  {
   "cell_type": "code",
   "execution_count": 71,
   "metadata": {},
   "outputs": [
    {
     "data": {
      "text/plain": [
       "https://d15f34w2p8l1cc.cloudfront.net/hearthstone/7ffd053042135a148d4a6c13a66e87fe4c4d13d2fbffcc7bfb5f7216280f9e3b.png    1\n",
       "https://d15f34w2p8l1cc.cloudfront.net/hearthstone/1f03720ef0563bdcd6cacc333f5a8f10b9347b010fd34f8776f25aa520743115.png    1\n",
       "https://d15f34w2p8l1cc.cloudfront.net/hearthstone/c99786c4cbc3ba215aa8f66779156a5a801c4c17be8f61a69807857cc913bd98.png    1\n",
       "https://d15f34w2p8l1cc.cloudfront.net/hearthstone/24d0d7987d78be6744f6ec894d8f727cfb3c2f4a587585d669119065b7651c0f.png    1\n",
       "https://d15f34w2p8l1cc.cloudfront.net/hearthstone/946760437fb7215c9a707b8418c6174d0a3fedcf001b7b1b9d7ae816266223df.png    1\n",
       "                                                                                                                         ..\n",
       "https://d15f34w2p8l1cc.cloudfront.net/hearthstone/98a218d8a44e7961bb8cbc61397a444dc1fc27dc70dd9f139018622de8575c71.png    1\n",
       "https://d15f34w2p8l1cc.cloudfront.net/hearthstone/0a8293607b5ac2d0a22e336e8b95d87a081dc3bc79e8b909e59c84d689414edc.png    1\n",
       "https://d15f34w2p8l1cc.cloudfront.net/hearthstone/8f0257b70136327a510a112402f984e6b7503749cdf378778f632c1899d257dc.png    1\n",
       "https://d15f34w2p8l1cc.cloudfront.net/hearthstone/8052f3346631d067a3f0af87c0f5bdf9c60fd4a368a3439afe265eae4821015e.png    1\n",
       "https://d15f34w2p8l1cc.cloudfront.net/hearthstone/55678a22abb26b92103886fcb07d35b9d742a71754043a3424169ac45425c706.png    1\n",
       "Name: imageGold, Length: 805, dtype: int64"
      ]
     },
     "execution_count": 71,
     "metadata": {},
     "output_type": "execute_result"
    }
   ],
   "source": [
    "df.imageGold.value_counts()"
   ]
  },
  {
   "cell_type": "code",
   "execution_count": null,
   "metadata": {},
   "outputs": [],
   "source": []
  }
 ],
 "metadata": {
  "kernelspec": {
   "display_name": "Python 3",
   "language": "python",
   "name": "python3"
  },
  "language_info": {
   "codemirror_mode": {
    "name": "ipython",
    "version": 3
   },
   "file_extension": ".py",
   "mimetype": "text/x-python",
   "name": "python",
   "nbconvert_exporter": "python",
   "pygments_lexer": "ipython3",
   "version": "3.7.6"
  }
 },
 "nbformat": 4,
 "nbformat_minor": 4
}
